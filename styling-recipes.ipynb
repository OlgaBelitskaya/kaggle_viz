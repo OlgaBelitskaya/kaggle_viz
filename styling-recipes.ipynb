{
 "cells": [
  {
   "cell_type": "markdown",
   "metadata": {
    "papermill": {
     "duration": 0.009531,
     "end_time": "2020-11-15T15:16:20.604435",
     "exception": false,
     "start_time": "2020-11-15T15:16:20.594904",
     "status": "completed"
    },
    "tags": []
   },
   "source": [
    "<span class='h1'>📑 Notebook Styling</span>"
   ]
  },
  {
   "cell_type": "code",
   "execution_count": 1,
   "metadata": {
    "_cell_guid": "79c7e3d0-c299-4dcb-8224-4455121ee9b0",
    "_kg_hide-input": true,
    "_uuid": "d629ff2d2480ee46fbb7e2d37f6b5fab8052498a",
    "execution": {
     "iopub.execute_input": "2020-11-15T15:16:20.626067Z",
     "iopub.status.busy": "2020-11-15T15:16:20.625303Z",
     "iopub.status.idle": "2020-11-15T15:16:20.629986Z",
     "shell.execute_reply": "2020-11-15T15:16:20.629095Z"
    },
    "papermill": {
     "duration": 0.018675,
     "end_time": "2020-11-15T15:16:20.630143",
     "exception": false,
     "start_time": "2020-11-15T15:16:20.611468",
     "status": "completed"
    },
    "tags": []
   },
   "outputs": [
    {
     "name": "stdout",
     "output_type": "stream",
     "text": [
      "Writing notebook_style.py\n"
     ]
    }
   ],
   "source": [
    "%%writefile notebook_style.py\n",
    "from IPython.core.display import display,HTML\n",
    "\n",
    "def notebook_style(span_h_font='Ewert',\n",
    "                   span_h_color='#ff3636',\n",
    "                   prompt_font='Ewert',\n",
    "                   prompt_in_color='#ff3636',\n",
    "                   prompt_out_color='#3636ff',\n",
    "                   warn_font='Roboto',\n",
    "                   warn_color='#ff36ff',\n",
    "                   out_font='Roboto',\n",
    "                   out_color='#3636ff',\n",
    "                   background_out_color='whitesmoke',\n",
    "                   span_text_shadow=True):\n",
    "    style_str=\"\"\"<style>\"\"\"+\\\n",
    "    \"\"\"@import 'https://fonts.googleapis.com/css?family=\"\"\"+\\\n",
    "    prompt_font+\"\"\"|\"\"\"+out_font+\"\"\"|\"\"\"+warn_font+\"\"\"'; \"\"\"\n",
    "    if span_text_shadow==True:\n",
    "        style_str+=\"\"\"span {color:black; \"\"\"+\\\n",
    "                   \"\"\"text-shadow:4px 4px 4px #aaa;}\"\"\"\n",
    "    style_str+=\"\"\"div.alert {text-shadow:4px 4px 4px #aaa;}\"\"\"\n",
    "    style_str+=\"\"\"span.h1,span.h2,span.h3,\"\"\"+\\\n",
    "               \"\"\"span.h4,span.h5,span.h6 \"\"\"+\\\n",
    "               \"\"\"{color:\"\"\"+span_h_color+\"\"\"; \"\"\"+\\\n",
    "               \"\"\"font-family:\"\"\"+span_h_font+\"\"\";} \"\"\"\n",
    "    style_str+=\"\"\"div.warn {background-color:\"\"\"+\\\n",
    "               background_out_color+\"\"\"; color:\"\"\"+\\\n",
    "               warn_color+\"\"\"; font-size:110%; \"\"\"+\\\n",
    "               \"\"\"font-family:\"\"\"+warn_font+\"\"\";} \"\"\"\n",
    "    for el in [\"\"\"div.output_area pre\"\"\",\n",
    "               \"\"\"div.output_stderr pre\"\"\"\n",
    "               \"\"\"div.output_subarea\"\"\",\n",
    "               \"\"\"div.output_html\"\"\",\n",
    "               \"\"\"div.output_stderr\"\"\"]:\n",
    "        style_str+=el+\"\"\"{background-color:\"\"\"+\\\n",
    "                   background_out_color+\"\"\"; color:\"\"\"+\\\n",
    "                   out_color+\"\"\"; font-size:110%; \"\"\"+\\\n",
    "                   \"\"\"font-family:\"\"\"+out_font+\"\"\";} \"\"\"\n",
    "    style_str+=\"\"\"div.input_prompt {color:\"\"\"+\\\n",
    "               prompt_in_color+\"\"\"; \"\"\"+\\\n",
    "               \"\"\"font-family:\"\"\"+prompt_font+\"\"\";} \"\"\"\n",
    "    style_str+=\"\"\"div.output_prompt {color:\"\"\"+\\\n",
    "               prompt_out_color+\"\"\"; \"\"\"+\\\n",
    "               \"\"\"font-family:\"\"\"+prompt_font+\"\"\";} \"\"\"\n",
    "    style_str+=\"\"\".cm-s-ipython span.cm-comment {color:darkslategray;} \"\"\"\n",
    "    style_str+=\"\"\".cm-s-ipython span.cm-def {color:#3636ff;} \"\"\"\n",
    "    style_str+=\"\"\".cm-s-ipython span.cm-operator {color:#ff36ff;} \"\"\"\n",
    "    style_str+=\"\"\".cm-s-ipython span.cm-keyword {color:darkgreen;} \"\"\"\n",
    "    style_str+=\"\"\".cm-s-ipython span.cm-string {color:#ff3636;} \"\"\"\n",
    "    style_str+=\"\"\"</style>\"\"\"\n",
    "    display(HTML(style_str))"
   ]
  },
  {
   "cell_type": "code",
   "execution_count": 2,
   "metadata": {
    "execution": {
     "iopub.execute_input": "2020-11-15T15:16:20.654664Z",
     "iopub.status.busy": "2020-11-15T15:16:20.652438Z",
     "iopub.status.idle": "2020-11-15T15:16:20.658581Z",
     "shell.execute_reply": "2020-11-15T15:16:20.657942Z"
    },
    "papermill": {
     "duration": 0.020465,
     "end_time": "2020-11-15T15:16:20.658691",
     "exception": false,
     "start_time": "2020-11-15T15:16:20.638226",
     "status": "completed"
    },
    "tags": []
   },
   "outputs": [
    {
     "data": {
      "text/html": [
       "<style>@import 'https://fonts.googleapis.com/css?family=Ewert|Roboto|Roboto'; span {color:black; text-shadow:4px 4px 4px #aaa;}div.alert {text-shadow:4px 4px 4px #aaa;}span.h1,span.h2,span.h3,span.h4,span.h5,span.h6 {color:#ff3636; font-family:Ewert;} div.warn {background-color:whitesmoke; color:#ff36ff; font-size:110%; font-family:Roboto;} div.output_area pre{background-color:whitesmoke; color:#3636ff; font-size:110%; font-family:Roboto;} div.output_stderr prediv.output_subarea{background-color:whitesmoke; color:#3636ff; font-size:110%; font-family:Roboto;} div.output_html{background-color:whitesmoke; color:#3636ff; font-size:110%; font-family:Roboto;} div.output_stderr{background-color:whitesmoke; color:#3636ff; font-size:110%; font-family:Roboto;} div.input_prompt {color:#ff3636; font-family:Ewert;} div.output_prompt {color:#3636ff; font-family:Ewert;} .cm-s-ipython span.cm-comment {color:darkslategray;} .cm-s-ipython span.cm-def {color:#3636ff;} .cm-s-ipython span.cm-operator {color:#ff36ff;} .cm-s-ipython span.cm-keyword {color:darkgreen;} .cm-s-ipython span.cm-string {color:#ff3636;} </style>"
      ],
      "text/plain": [
       "<IPython.core.display.HTML object>"
      ]
     },
     "metadata": {},
     "output_type": "display_data"
    }
   ],
   "source": [
    "%run notebook_style.py\n",
    "\n",
    "# default options\n",
    "notebook_style(span_h_font='Ewert',\n",
    "               span_h_color='#ff3636',\n",
    "               prompt_font='Ewert',\n",
    "               prompt_in_color='#ff3636',\n",
    "               prompt_out_color='#3636ff',\n",
    "               warn_font='Roboto',\n",
    "               warn_color='#ff36ff',\n",
    "               out_font='Roboto',\n",
    "               out_color='#3636ff',\n",
    "               background_out_color='whitesmoke',\n",
    "               span_text_shadow=True)"
   ]
  },
  {
   "cell_type": "markdown",
   "metadata": {
    "papermill": {
     "duration": 0.007549,
     "end_time": "2020-11-15T15:16:20.674522",
     "exception": false,
     "start_time": "2020-11-15T15:16:20.666973",
     "status": "completed"
    },
    "tags": []
   },
   "source": [
    "<span class='h1'> 📑 Result Checking</span>"
   ]
  },
  {
   "cell_type": "code",
   "execution_count": 3,
   "metadata": {
    "execution": {
     "iopub.execute_input": "2020-11-15T15:16:20.696215Z",
     "iopub.status.busy": "2020-11-15T15:16:20.695271Z",
     "iopub.status.idle": "2020-11-15T15:16:20.699990Z",
     "shell.execute_reply": "2020-11-15T15:16:20.699363Z"
    },
    "papermill": {
     "duration": 0.017613,
     "end_time": "2020-11-15T15:16:20.700103",
     "exception": false,
     "start_time": "2020-11-15T15:16:20.682490",
     "status": "completed"
    },
    "tags": []
   },
   "outputs": [
    {
     "data": {
      "text/html": [
       "<span class='h4'> It works in Markdown cells as well.</span>\n"
      ],
      "text/plain": [
       "<IPython.core.display.HTML object>"
      ]
     },
     "metadata": {},
     "output_type": "display_data"
    }
   ],
   "source": [
    "%%html\n",
    "<span class='h4'> It works in Markdown cells as well.</span>"
   ]
  },
  {
   "cell_type": "code",
   "execution_count": 4,
   "metadata": {
    "execution": {
     "iopub.execute_input": "2020-11-15T15:16:20.722275Z",
     "iopub.status.busy": "2020-11-15T15:16:20.721585Z",
     "iopub.status.idle": "2020-11-15T15:16:20.920545Z",
     "shell.execute_reply": "2020-11-15T15:16:20.919934Z"
    },
    "papermill": {
     "duration": 0.212005,
     "end_time": "2020-11-15T15:16:20.920654",
     "exception": false,
     "start_time": "2020-11-15T15:16:20.708649",
     "status": "completed"
    },
    "tags": []
   },
   "outputs": [
    {
     "data": {
      "text/plain": [
       "Text(0.5, 1.0, 'Display output styling')"
      ]
     },
     "execution_count": 4,
     "metadata": {},
     "output_type": "execute_result"
    },
    {
     "data": {
      "image/png": "[encoded data removed]",
      "text/plain": [
       "<Figure size 432x288 with 1 Axes>"
      ]
     },
     "metadata": {
      "needs_background": "light"
     },
     "output_type": "display_data"
    }
   ],
   "source": [
    "import pylab as pl\n",
    "pl.plot([1.5,2.1,.3,1.1,2.7])\n",
    "pl.title('Display output styling')"
   ]
  },
  {
   "cell_type": "code",
   "execution_count": 5,
   "metadata": {
    "execution": {
     "iopub.execute_input": "2020-11-15T15:16:20.946761Z",
     "iopub.status.busy": "2020-11-15T15:16:20.945987Z",
     "iopub.status.idle": "2020-11-15T15:16:20.950067Z",
     "shell.execute_reply": "2020-11-15T15:16:20.949432Z"
    },
    "papermill": {
     "duration": 0.019471,
     "end_time": "2020-11-15T15:16:20.950178",
     "exception": false,
     "start_time": "2020-11-15T15:16:20.930707",
     "status": "completed"
    },
    "tags": []
   },
   "outputs": [
    {
     "data": {
      "text/html": [
       "<div class='warn'>Display warn styling</div>"
      ],
      "text/plain": [
       "<IPython.core.display.HTML object>"
      ]
     },
     "execution_count": 5,
     "metadata": {},
     "output_type": "execute_result"
    }
   ],
   "source": [
    "HTML(\"\"\"<div class='warn'>Display warn styling</div>\"\"\")"
   ]
  },
  {
   "cell_type": "markdown",
   "metadata": {
    "papermill": {
     "duration": 0.009693,
     "end_time": "2020-11-15T15:16:20.970209",
     "exception": false,
     "start_time": "2020-11-15T15:16:20.960516",
     "status": "completed"
    },
    "tags": []
   },
   "source": [
    "<span class='h1'>📑 Built-In Styling</span>\n",
    "```python\n",
    "s='Python syntax highlighting in Markdown cells'\n",
    "print(s)\n",
    "```\n",
    "```javascript\n",
    "var s='JavaScript syntax highlighting in Markdown cells';\n",
    "const m=100;\n",
    "```"
   ]
  },
  {
   "cell_type": "code",
   "execution_count": 6,
   "metadata": {
    "execution": {
     "iopub.execute_input": "2020-11-15T15:16:20.996462Z",
     "iopub.status.busy": "2020-11-15T15:16:20.995337Z",
     "iopub.status.idle": "2020-11-15T15:16:21.000007Z",
     "shell.execute_reply": "2020-11-15T15:16:20.999373Z"
    },
    "papermill": {
     "duration": 0.01982,
     "end_time": "2020-11-15T15:16:21.000130",
     "exception": false,
     "start_time": "2020-11-15T15:16:20.980310",
     "status": "completed"
    },
    "tags": []
   },
   "outputs": [
    {
     "data": {
      "text/html": [
       "<div class='alert alert-block alert-info'>\n",
       "<b>Tips:</b> Alert-info notes can \n",
       "    be used for tips and notes.</div>\n",
       "<div class='alert alert-block alert-success'>\n",
       "<b>Success:</b> This alert box indicates \n",
       "    a successful or positive action.</div>\n",
       "<div class='alert alert-block alert-warning'>\n",
       "<b>Warnings:</b> These elements are convenient \n",
       "    to display warning messages.</div>\n",
       "<div class='alert alert-block alert-danger'>\n",
       "<b>Dangers:</b> This alert box indicates \n",
       "    a dangerous or potentially negative action.</div>\n"
      ],
      "text/plain": [
       "<IPython.core.display.HTML object>"
      ]
     },
     "metadata": {},
     "output_type": "display_data"
    }
   ],
   "source": [
    "%%html\n",
    "<div class='alert alert-block alert-info'>\n",
    "<b>Tips:</b> Alert-info notes can \n",
    "    be used for tips and notes.</div>\n",
    "<div class='alert alert-block alert-success'>\n",
    "<b>Success:</b> This alert box indicates \n",
    "    a successful or positive action.</div>\n",
    "<div class='alert alert-block alert-warning'>\n",
    "<b>Warnings:</b> These elements are convenient \n",
    "    to display warning messages.</div>\n",
    "<div class='alert alert-block alert-danger'>\n",
    "<b>Dangers:</b> This alert box indicates \n",
    "    a dangerous or potentially negative action.</div>"
   ]
  },
  {
   "cell_type": "markdown",
   "metadata": {
    "papermill": {
     "duration": 0.010422,
     "end_time": "2020-11-15T15:16:21.021434",
     "exception": false,
     "start_time": "2020-11-15T15:16:21.011012",
     "status": "completed"
    },
    "tags": []
   },
   "source": [
    "<span class='h1'>📑 Sources</span>"
   ]
  },
  {
   "cell_type": "code",
   "execution_count": 7,
   "metadata": {
    "execution": {
     "iopub.execute_input": "2020-11-15T15:16:21.048078Z",
     "iopub.status.busy": "2020-11-15T15:16:21.047135Z",
     "iopub.status.idle": "2020-11-15T15:16:21.050114Z",
     "shell.execute_reply": "2020-11-15T15:16:21.049497Z"
    },
    "papermill": {
     "duration": 0.018058,
     "end_time": "2020-11-15T15:16:21.050223",
     "exception": false,
     "start_time": "2020-11-15T15:16:21.032165",
     "status": "completed"
    },
    "tags": []
   },
   "outputs": [],
   "source": [
    "# Crayola colors\n",
    "colors=['#FF355E','#FF6037','#FF9966','#FFCC33','#FFFF66',\n",
    "        '#CCFF00','#66FF66','#50BFE6','#FF6EFF','#FF00CC']"
   ]
  },
  {
   "cell_type": "code",
   "execution_count": 8,
   "metadata": {
    "_kg_hide-input": true,
    "execution": {
     "iopub.execute_input": "2020-11-15T15:16:21.078261Z",
     "iopub.status.busy": "2020-11-15T15:16:21.077419Z",
     "iopub.status.idle": "2020-11-15T15:16:21.081358Z",
     "shell.execute_reply": "2020-11-15T15:16:21.081835Z"
    },
    "papermill": {
     "duration": 0.021092,
     "end_time": "2020-11-15T15:16:21.082183",
     "exception": false,
     "start_time": "2020-11-15T15:16:21.061091",
     "status": "completed"
    },
    "tags": []
   },
   "outputs": [
    {
     "data": {
      "text/html": [
       "<style>@import 'https://fonts.googleapis.com/css?family=Orbitron|Roboto|Wallpoet|Smokum|Akronim|Lobster|Ewert|;</style><text style='font-size:200%; font-family:Smokum'>Smokum </text><text style='font-size:200%; font-family:Akronim'>Akronim </text><text style='font-size:200%; font-family:Ewert'>Ewert </text><text style='font-size:200%; font-family:Roboto'>Roboto </text><br/><br/><text style='font-size:200%; font-family:Lobster'>Lobster </text><text style='font-size:200%; font-family:Wallpoet'>Wallpoet </text><text style='font-size:200%; font-family:Orbitron'>Orbitron </text>"
      ],
      "text/plain": [
       "<IPython.core.display.HTML object>"
      ]
     },
     "execution_count": 8,
     "metadata": {},
     "output_type": "execute_result"
    }
   ],
   "source": [
    "# https://fonts.google.com/\n",
    "HTML(\"\"\"<style>\"\"\"+\\\n",
    "\"\"\"@import 'https://fonts.googleapis.com/css?family=\"\"\"+\\\n",
    "\"\"\"Orbitron|Roboto|Wallpoet|Smokum|Akronim|Lobster|Ewert|\"\"\"+\\\n",
    "\"\"\";</style>\"\"\"+\\\n",
    "\"\"\"<text style='font-size:200%; font-family:Smokum'>Smokum </text>\"\"\"+\\\n",
    "\"\"\"<text style='font-size:200%; font-family:Akronim'>Akronim </text>\"\"\"+\\\n",
    "\"\"\"<text style='font-size:200%; font-family:Ewert'>Ewert </text>\"\"\"+\\\n",
    "\"\"\"<text style='font-size:200%; font-family:Roboto'>Roboto </text><br/><br/>\"\"\"+\\\n",
    "\"\"\"<text style='font-size:200%; font-family:Lobster'>Lobster </text>\"\"\"+\\\n",
    "\"\"\"<text style='font-size:200%; font-family:Wallpoet'>Wallpoet </text>\"\"\"+\\\n",
    "\"\"\"<text style='font-size:200%; font-family:Orbitron'>Orbitron </text>\"\"\")"
   ]
  }
 ],
 "metadata": {
  "kernelspec": {
   "display_name": "Python 3",
   "language": "python",
   "name": "python3"
  },
  "language_info": {
   "codemirror_mode": {
    "name": "ipython",
    "version": 3
   },
   "file_extension": ".py",
   "mimetype": "text/x-python",
   "name": "python",
   "nbconvert_exporter": "python",
   "pygments_lexer": "ipython3",
   "version": "3.7.6"
  },
  "papermill": {
   "duration": 5.271218,
   "end_time": "2020-11-15T15:16:21.201433",
   "environment_variables": {},
   "exception": null,
   "input_path": "__notebook__.ipynb",
   "output_path": "__notebook__.ipynb",
   "parameters": {},
   "start_time": "2020-11-15T15:16:15.930215",
   "version": "2.1.0"
  }
 },
 "nbformat": 4,
 "nbformat_minor": 4
}
