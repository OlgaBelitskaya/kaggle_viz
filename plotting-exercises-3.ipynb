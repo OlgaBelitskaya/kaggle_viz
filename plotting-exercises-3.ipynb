{
 "cells": [
  {
   "cell_type": "markdown",
   "metadata": {},
   "source": [
    "# 📑 [Visualization Notes](https://visualization-notes.blogspot.com)"
   ]
  },
  {
   "cell_type": "code",
   "execution_count": 1,
   "metadata": {
    "_kg_hide-input": true
   },
   "outputs": [
    {
     "data": {
      "text/html": [
       "<style>\n",
       "    @import 'https://fonts.googleapis.com/css?family=Smokum&effect=3d-float';</style>\n",
       "    <h1 class='font-effect-3d-float' \n",
       "    style='font-family:Smokum; color:#FF355E; font-size:25px;'>\n",
       "    Additional Packages: Pygal</h1>"
      ],
      "text/plain": [
       "<IPython.core.display.HTML object>"
      ]
     },
     "metadata": {},
     "output_type": "display_data"
    }
   ],
   "source": [
    "%run ../input/python-recipes/dhtml.py\n",
    "%run ../input/python-recipes/embedding_html_svg.py\n",
    "%run ../input/python-recipes/embedding_html_string.py\n",
    "%run ../input/python-recipes/embedding_html_page.py\n",
    "dhtml('Additional Packages: Pygal')"
   ]
  },
  {
   "cell_type": "code",
   "execution_count": 2,
   "metadata": {
    "_kg_hide-output": true
   },
   "outputs": [
    {
     "data": {
      "text/plain": [
       "['__notebook__.ipynb']"
      ]
     },
     "execution_count": 2,
     "metadata": {},
     "output_type": "execute_result"
    }
   ],
   "source": [
    "!python3 -m pip install pygal --user --quiet\n",
    "import os; os.listdir('../working/')"
   ]
  },
  {
   "cell_type": "code",
   "execution_count": 3,
   "metadata": {
    "_cell_guid": "b1076dfc-b9ad-4769-8c92-a6c4dae69d19",
    "_kg_hide-input": true,
    "_uuid": "8f2839f25d086af736a60e9eeb907d3b93b6e0e5"
   },
   "outputs": [
    {
     "data": {
      "text/html": [
       "<figure><embed type=\"image/svg+xml\" src=\"samples.svg\" width=650 height=350/></figure>"
      ],
      "text/plain": [
       "<IPython.core.display.HTML object>"
      ]
     },
     "metadata": {},
     "output_type": "display_data"
    }
   ],
   "source": [
    "import warnings; warnings.filterwarnings('ignore')\n",
    "from IPython.display import display,HTML\n",
    "import pygal,pandas as pd\n",
    "from pygal.style import BlueStyle\n",
    "columns=['Fresh','Milk','Grocery','Frozen',\n",
    "         'Detergents_Paper','Delicatessen']\n",
    "colors=['#1b2c45','#5a8bbd','#008b8b','#ff5a8b']\n",
    "index= ['C1','C2','C3']\n",
    "data=[[26373,36423,22019,5154,4337,16523],\n",
    "      [16165,4230,7595,201,4003,57],\n",
    "      [14276,803,3045,485,100,518]]\n",
    "samples=pd.DataFrame(data,columns=columns,index=index) \n",
    "line=pygal.Line(\n",
    "    fill=False,height=330,\n",
    "    style=BlueStyle(opacity='.3',colors=colors,\n",
    "                    background='transparent'))\n",
    "line.title='Samples of the Dataset \"Wholesale Customers\"'\n",
    "line.x_labels=columns\n",
    "line.add('C1',data[0]); line.add('C2',data[1])\n",
    "line.add('C3',data[2]); line.add('MEAN',samples.mean())\n",
    "file_name='samples.svg'\n",
    "line.render_to_file(file_name)\n",
    "width=650; height=350\n",
    "embedding_html_svg(file_name,width,height)"
   ]
  },
  {
   "cell_type": "code",
   "execution_count": 4,
   "metadata": {
    "_kg_hide-input": true
   },
   "outputs": [
    {
     "data": {
      "text/html": [
       "<style>\n",
       "    @import 'https://fonts.googleapis.com/css?family=Smokum&effect=3d-float';</style>\n",
       "    <h1 class='font-effect-3d-float' \n",
       "    style='font-family:Smokum; color:#FF355E; font-size:25px;'>\n",
       "    Interactive Outputs: D3, Highcharts, Plotly</h1>"
      ],
      "text/plain": [
       "<IPython.core.display.HTML object>"
      ]
     },
     "metadata": {},
     "output_type": "display_data"
    }
   ],
   "source": [
    "dhtml('Interactive Outputs: D3, Highcharts, Plotly')"
   ]
  },
  {
   "cell_type": "code",
   "execution_count": 5,
   "metadata": {
    "_kg_hide-input": true
   },
   "outputs": [
    {
     "data": {
      "text/html": [
       "<div id=\"html_string1\"><iframe src=\"file1.html\" height=650 width=650></iframe></div>"
      ],
      "text/plain": [
       "<IPython.core.display.HTML object>"
      ]
     },
     "metadata": {},
     "output_type": "display_data"
    }
   ],
   "source": [
    "html_str='''\n",
    "<script src='//d3js.org/d3.v3.min.js'></script>\n",
    "<svg id='poly' style='background-color:silver;'></svg>\n",
    "<script>\n",
    "var mouse=[250,250],count=0;\n",
    "var svg=d3.select('#poly')\n",
    "          .attr('width',600).attr('height',600);\n",
    "var g=svg.selectAll('g').data(d3.range(25)).enter()\n",
    "         .append('g').attr('transform','translate('+mouse+')');\n",
    "g.append('rect').attr('rx',5).attr('ry',5)\n",
    " .attr('x',-5).attr('y',-5)\n",
    " .attr('width',15).attr('height',15)\n",
    " .attr('transform',function(d,i){return 'scale('+(1-d/25)*15+')';})\n",
    " .style('fill',d3.scale.category20b());\n",
    "g.datum(function(d){return {center:mouse.slice(),angle:0};});\n",
    "svg.on('mousemove',function(){mouse=d3.mouse(this);});\n",
    "d3.timer(function(){count++; \n",
    "g.attr('transform',\n",
    "       function(d,i){d.center[0]+=(mouse[0]-d.center[0])/(i+1); \n",
    "d.center[1]+=(mouse[1]-d.center[1])/(i+1); \n",
    "d.angle+=Math.sin((count+i)/30)*7; \n",
    "return 'translate('+d.center+')rotate('+d.angle+')'});});\n",
    "</script>'''\n",
    "width=650; height=650\n",
    "embedding_html_string(html_str,width,height,1)"
   ]
  },
  {
   "cell_type": "code",
   "execution_count": 6,
   "metadata": {
    "_kg_hide-input": true
   },
   "outputs": [
    {
     "data": {
      "text/html": [
       "<div id=\"html_string2\"><iframe src=\"file2.html\" height=650 width=650></iframe></div>"
      ],
      "text/plain": [
       "<IPython.core.display.HTML object>"
      ]
     },
     "metadata": {},
     "output_type": "display_data"
    }
   ],
   "source": [
    "html_str=\"\"\"<script src='https://cdn.plot.ly/plotly-latest.min.js'>\n",
    "</script>\n",
    "<div id='test_plotly' style='width:600px;height:600px;'/>\n",
    "<script>TEST=document.getElementById('test_plotly');\n",
    "function f(t) {return Math.exp(Math.pow(Math.cos(0.001*t),2)+\n",
    "                      Math.sin(0.001*t))-3*Math.cos(0.004*t);};\n",
    "function arx(a) {return Array(6400).fill(1+0.1*a).map((r,t)=>\n",
    "                        r*f(t)*Math.cos(0.001*t));};\n",
    "function ary(a) {return Array(6400).fill(1+0.1*a).map((r,t)=>\n",
    "                        r*f(t)*Math.sin(0.001*t));};\n",
    "function col(a) {return 'rgb('+(1-0.05*a).toString()+',0,'+\n",
    "                        (0.05*a).toString()+')';};\n",
    "function plt(a) {return Plotly.plot(TEST,[{x:arx(a),y:ary(a),\n",
    "                                           line:{color:col(a)},\n",
    "                                           name:a.toString()}]);};\n",
    "for (i=1; i<20; i++) {plt(i);}\n",
    "</script>\"\"\"\n",
    "width=650; height=650\n",
    "embedding_html_string(html_str,width,height,2)"
   ]
  },
  {
   "cell_type": "code",
   "execution_count": 7,
   "metadata": {
    "_cell_guid": "79c7e3d0-c299-4dcb-8224-4455121ee9b0",
    "_kg_hide-input": true,
    "_uuid": "d629ff2d2480ee46fbb7e2d37f6b5fab8052498a"
   },
   "outputs": [
    {
     "data": {
      "text/html": [
       "<div id=\"html_string3\"><iframe src=\"file3.html\" height=650 width=650></iframe></div>"
      ],
      "text/plain": [
       "<IPython.core.display.HTML object>"
      ]
     },
     "metadata": {},
     "output_type": "display_data"
    }
   ],
   "source": [
    "html_str='''<script src='https://code.highcharts.com/highcharts.js'></script>\n",
    "<div id='highcharts' style='height:600px; width:600px; margin:0 auto'></div><script>\n",
    "function getinteger(min,max) {return Math.floor(Math.random()*(max-min+1))+min;};\n",
    "function fx(a,b,c,q,n,t,k) {\n",
    "    var x1=Math.cos(Math.PI*t/n+k*Math.PI/q)+Math.cos(a*Math.PI*t/n+k*Math.PI/q);\n",
    "    var x2=Math.cos(b*Math.PI*t/n+k*Math.PI/q)+Math.cos(c*Math.PI*t/n+k*Math.PI/q);\n",
    "    return x1+x2};\n",
    "function fy(a,b,c,q,n,t,k) {\n",
    "    var y1=Math.sin(Math.PI*t/n+k*Math.PI/q)+Math.sin(a*Math.PI*t/n+k*Math.PI/q);\n",
    "    var y2=Math.sin(b*Math.PI*t/n+k*Math.PI/q)+Math.sin(c*Math.PI*t/n+k*Math.PI/q);\n",
    "    return y1+y2};\n",
    "function ar(a,b,c,q,n,k) {return Array(2*n+1).fill(k).map((k,t)=>\n",
    "                                 [fx(a,b,c,q,n,t,k),fy(a,b,c,q,n,t,k)]);};\n",
    "function colrb(i) {var r=getinteger(i,255); var g=0; var b=getinteger(i,255);\n",
    "    return 'rgb('+r.toString()+','+g.toString()+','+b.toString()+')';};   \n",
    "var a=getinteger(5,9),b=getinteger(10,14),c=getinteger(15,19);\n",
    "var q=getinteger(3,6),n=getinteger(4,24); var series=[];\n",
    "for (var k=1; k<2*q+2; k++) {\n",
    "    series.push({name:[k,a,b,c,n].toString(),marker:{symbol:\"circle\",radius:1},\n",
    "                 color:colrb(k),lineWidth:0.5,data:ar(a,b,c,q,n,k)})};\n",
    "Highcharts.chart('highcharts', {\n",
    "    chart:{type:'line',backgroundColor:'ghostwhite'},\n",
    "    xAxis:{title:{text:'x'}},yAxis:{title:{text:'y'}},\n",
    "    title:{text:'Random Parametric Polygons'},credits:{enabled:false},\n",
    "    legend:{enabled:false},series:series});\n",
    " </script>'''\n",
    "width=650; height=650\n",
    "embedding_html_string(html_str,width,height,3)"
   ]
  },
  {
   "cell_type": "code",
   "execution_count": 8,
   "metadata": {
    "_kg_hide-input": true
   },
   "outputs": [
    {
     "data": {
      "text/html": [
       "<style>\n",
       "    @import 'https://fonts.googleapis.com/css?family=Smokum&effect=3d-float';</style>\n",
       "    <h1 class='font-effect-3d-float' \n",
       "    style='font-family:Smokum; color:#FF355E; font-size:25px;'>\n",
       "    Interactive Code Cells</h1>"
      ],
      "text/plain": [
       "<IPython.core.display.HTML object>"
      ]
     },
     "metadata": {},
     "output_type": "display_data"
    }
   ],
   "source": [
    "dhtml('Interactive Code Cells')"
   ]
  },
  {
   "cell_type": "code",
   "execution_count": 9,
   "metadata": {
    "_kg_hide-input": true
   },
   "outputs": [
    {
     "data": {
      "text/html": [
       "<div id='smcell' style='border:10px double white; \n",
       "     width:650px; height:1000px; overflow:auto; \n",
       "     padding:10px; background-color:ghostwhite'>\n",
       "<iframe id='if1' \n",
       "src='https://olgabelitskaya.gitlab.io/kaggle/kaggle_smc02.html' \n",
       "width='600' height='950'/></div>\n"
      ],
      "text/plain": [
       "<IPython.core.display.HTML object>"
      ]
     },
     "metadata": {},
     "output_type": "display_data"
    }
   ],
   "source": [
    "%%html\n",
    "<div id='smcell' style='border:10px double white; \n",
    "     width:650px; height:1000px; overflow:auto; \n",
    "     padding:10px; background-color:ghostwhite'>\n",
    "<iframe id='if1' \n",
    "src='https://olgabelitskaya.gitlab.io/kaggle/kaggle_smc02.html' \n",
    "width='600' height='950'/></div>"
   ]
  }
 ],
 "metadata": {
  "kernelspec": {
   "display_name": "Python 3",
   "language": "python",
   "name": "python3"
  },
  "language_info": {
   "codemirror_mode": {
    "name": "ipython",
    "version": 3
   },
   "file_extension": ".py",
   "mimetype": "text/x-python",
   "name": "python",
   "nbconvert_exporter": "python",
   "pygments_lexer": "ipython3",
   "version": "3.6.6"
  }
 },
 "nbformat": 4,
 "nbformat_minor": 4
}
