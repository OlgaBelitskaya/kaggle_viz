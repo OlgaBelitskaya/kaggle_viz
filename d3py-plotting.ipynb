{
 "cells": [
  {
   "cell_type": "code",
   "execution_count": 1,
   "metadata": {
    "_kg_hide-input": true,
    "execution": {
     "iopub.execute_input": "2020-11-17T15:57:22.604433Z",
     "iopub.status.busy": "2020-11-17T15:57:22.603061Z",
     "iopub.status.idle": "2020-11-17T15:57:22.613912Z",
     "shell.execute_reply": "2020-11-17T15:57:22.614960Z"
    },
    "papermill": {
     "duration": 0.028396,
     "end_time": "2020-11-17T15:57:22.615203",
     "exception": false,
     "start_time": "2020-11-17T15:57:22.586807",
     "status": "completed"
    },
    "tags": []
   },
   "outputs": [
    {
     "data": {
      "text/html": [
       "<style>\n",
       "    @import 'https://fonts.googleapis.com/css?family=Smokum&effect=3d-float';</style>\n",
       "    <h1 class='font-effect-3d-float' \n",
       "    style='font-family:Smokum; color:#FF355E; font-size:25px;'>\n",
       "    D3Scatter XY & CSV</h1>"
      ],
      "text/plain": [
       "<IPython.core.display.HTML object>"
      ]
     },
     "metadata": {},
     "output_type": "display_data"
    }
   ],
   "source": [
    "%run ../input/python-recipes/dhtml.py\n",
    "dhtml('D3Scatter XY & CSV')"
   ]
  },
  {
   "cell_type": "code",
   "execution_count": 2,
   "metadata": {
    "execution": {
     "iopub.execute_input": "2020-11-17T15:57:22.641766Z",
     "iopub.status.busy": "2020-11-17T15:57:22.640809Z",
     "iopub.status.idle": "2020-11-17T15:57:22.648965Z",
     "shell.execute_reply": "2020-11-17T15:57:22.648289Z"
    },
    "papermill": {
     "duration": 0.024029,
     "end_time": "2020-11-17T15:57:22.649109",
     "exception": false,
     "start_time": "2020-11-17T15:57:22.625080",
     "status": "completed"
    },
    "tags": []
   },
   "outputs": [
    {
     "data": {
      "text/html": [
       "<div id='html_string'><iframe src='d3scatter_xy_csv8964579.2544037.html' height=320 width=620></iframe></div>"
      ],
      "text/plain": [
       "<IPython.core.display.HTML object>"
      ]
     },
     "metadata": {},
     "output_type": "display_data"
    }
   ],
   "source": [
    "%run ../input/python-recipes/d3scatter_xy_csv.py\n",
    "csv_url='https://olgabelitskaya.github.io/castle.csv'\n",
    "d3scatter_xy_csv(csv_url,'x','z',2,'ghostwhite','steelblue',600,300)"
   ]
  },
  {
   "cell_type": "code",
   "execution_count": 3,
   "metadata": {
    "execution": {
     "iopub.execute_input": "2020-11-17T15:57:22.669739Z",
     "iopub.status.busy": "2020-11-17T15:57:22.668805Z",
     "iopub.status.idle": "2020-11-17T15:57:22.674256Z",
     "shell.execute_reply": "2020-11-17T15:57:22.673497Z"
    },
    "papermill": {
     "duration": 0.017959,
     "end_time": "2020-11-17T15:57:22.674381",
     "exception": false,
     "start_time": "2020-11-17T15:57:22.656422",
     "status": "completed"
    },
    "tags": []
   },
   "outputs": [
    {
     "data": {
      "text/html": [
       "<div id='html_string'><iframe src='d3scatter_xy_csv9543695.976647217.html' height=720 width=620></iframe></div>"
      ],
      "text/plain": [
       "<IPython.core.display.HTML object>"
      ]
     },
     "metadata": {},
     "output_type": "display_data"
    }
   ],
   "source": [
    "csv_url='https://olgabelitskaya.github.io/beethoven.csv'\n",
    "d3scatter_xy_csv(csv_url,'x','z',.7,'black','slategray',600,700)"
   ]
  },
  {
   "cell_type": "code",
   "execution_count": 4,
   "metadata": {
    "_kg_hide-input": true,
    "execution": {
     "iopub.execute_input": "2020-11-17T15:57:22.698577Z",
     "iopub.status.busy": "2020-11-17T15:57:22.697252Z",
     "iopub.status.idle": "2020-11-17T15:57:22.703118Z",
     "shell.execute_reply": "2020-11-17T15:57:22.702483Z"
    },
    "papermill": {
     "duration": 0.02102,
     "end_time": "2020-11-17T15:57:22.703256",
     "exception": false,
     "start_time": "2020-11-17T15:57:22.682236",
     "status": "completed"
    },
    "tags": []
   },
   "outputs": [
    {
     "data": {
      "text/html": [
       "<style>\n",
       "    @import 'https://fonts.googleapis.com/css?family=Smokum&effect=3d-float';</style>\n",
       "    <h1 class='font-effect-3d-float' \n",
       "    style='font-family:Smokum; color:#FF355E; font-size:25px;'>\n",
       "    D3 Bar Charts & Lists</h1>"
      ],
      "text/plain": [
       "<IPython.core.display.HTML object>"
      ]
     },
     "metadata": {},
     "output_type": "display_data"
    }
   ],
   "source": [
    "dhtml('D3 Bar Charts & Lists')"
   ]
  },
  {
   "cell_type": "code",
   "execution_count": 5,
   "metadata": {
    "execution": {
     "iopub.execute_input": "2020-11-17T15:57:22.733611Z",
     "iopub.status.busy": "2020-11-17T15:57:22.732611Z",
     "iopub.status.idle": "2020-11-17T15:57:22.741307Z",
     "shell.execute_reply": "2020-11-17T15:57:22.740606Z"
    },
    "papermill": {
     "duration": 0.029303,
     "end_time": "2020-11-17T15:57:22.741444",
     "exception": false,
     "start_time": "2020-11-17T15:57:22.712141",
     "status": "completed"
    },
    "tags": []
   },
   "outputs": [
    {
     "data": {
      "text/html": [
       "<div id='html_string'><iframe src='d3barchart_list6212403.273529067.html' height=420 width=620></iframe></div>"
      ],
      "text/plain": [
       "<IPython.core.display.HTML object>"
      ]
     },
     "metadata": {},
     "output_type": "display_data"
    }
   ],
   "source": [
    "%run ../input/python-recipes/d3barchart_list.py\n",
    "num_list=[1,5,14,16,8,22,7,11,13,4,26,2,30,19,3,\n",
    "          2,4,8,6,17,1,4,5,2,3,23,18,14,11,5]\n",
    "d3barchart_list(num_list)"
   ]
  }
 ],
 "metadata": {
  "kernelspec": {
   "display_name": "Python 3",
   "language": "python",
   "name": "python3"
  },
  "language_info": {
   "codemirror_mode": {
    "name": "ipython",
    "version": 3
   },
   "file_extension": ".py",
   "mimetype": "text/x-python",
   "name": "python",
   "nbconvert_exporter": "python",
   "pygments_lexer": "ipython3",
   "version": "3.7.6"
  },
  "papermill": {
   "duration": 5.825739,
   "end_time": "2020-11-17T15:57:22.861088",
   "environment_variables": {},
   "exception": null,
   "input_path": "__notebook__.ipynb",
   "output_path": "__notebook__.ipynb",
   "parameters": {},
   "start_time": "2020-11-17T15:57:17.035349",
   "version": "2.1.0"
  }
 },
 "nbformat": 4,
 "nbformat_minor": 4
}
