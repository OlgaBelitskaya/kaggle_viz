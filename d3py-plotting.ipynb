{
 "cells": [
  {
   "cell_type": "code",
   "execution_count": 1,
   "metadata": {
    "_kg_hide-input": true,
    "execution": {
     "iopub.execute_input": "2021-03-25T10:15:18.699907Z",
     "iopub.status.busy": "2021-03-25T10:15:18.699127Z",
     "iopub.status.idle": "2021-03-25T10:15:18.716518Z",
     "shell.execute_reply": "2021-03-25T10:15:18.717057Z"
    },
    "papermill": {
     "duration": 0.033127,
     "end_time": "2021-03-25T10:15:18.717265",
     "exception": false,
     "start_time": "2021-03-25T10:15:18.684138",
     "status": "completed"
    },
    "tags": []
   },
   "outputs": [
    {
     "data": {
      "text/html": [
       "<style>\n",
       "    @import 'https://fonts.googleapis.com/css?family=Smokum&effect=3d-float';</style>\n",
       "    <h1 class='font-effect-3d-float' \n",
       "    style='font-family:Smokum; color:#FF355E; font-size:25px;'>\n",
       "    D3Scatter2D & CSV</h1>"
      ],
      "text/plain": [
       "<IPython.core.display.HTML object>"
      ]
     },
     "metadata": {},
     "output_type": "display_data"
    }
   ],
   "source": [
    "%run ../input/python-recipes/dhtml.py\n",
    "%run ../input/python-recipes/embedding_html_string.py\n",
    "dhtml('D3Scatter2D & CSV')"
   ]
  },
  {
   "cell_type": "code",
   "execution_count": 2,
   "metadata": {
    "execution": {
     "iopub.execute_input": "2021-03-25T10:15:18.738122Z",
     "iopub.status.busy": "2021-03-25T10:15:18.737442Z",
     "iopub.status.idle": "2021-03-25T10:15:18.742943Z",
     "shell.execute_reply": "2021-03-25T10:15:18.742393Z"
    },
    "papermill": {
     "duration": 0.015989,
     "end_time": "2021-03-25T10:15:18.743077",
     "exception": false,
     "start_time": "2021-03-25T10:15:18.727088",
     "status": "completed"
    },
    "tags": []
   },
   "outputs": [],
   "source": [
    "import random\n",
    "def randi(): return random.randint(1,99)"
   ]
  },
  {
   "cell_type": "code",
   "execution_count": 3,
   "metadata": {
    "_kg_hide-input": true,
    "execution": {
     "iopub.execute_input": "2021-03-25T10:15:18.772011Z",
     "iopub.status.busy": "2021-03-25T10:15:18.771217Z",
     "iopub.status.idle": "2021-03-25T10:15:18.774617Z",
     "shell.execute_reply": "2021-03-25T10:15:18.773933Z"
    },
    "papermill": {
     "duration": 0.024027,
     "end_time": "2021-03-25T10:15:18.774731",
     "exception": false,
     "start_time": "2021-03-25T10:15:18.750704",
     "status": "completed"
    },
    "tags": []
   },
   "outputs": [],
   "source": [
    "# ../input/python-recipes/d3scatter2d_csv.py\n",
    "from IPython.display import display,HTML\n",
    "import random\n",
    "def d3scatter2d_csv(csv_url,x='x',y='y',marker_size=3,\n",
    "                    background_color='silver',grid_color='black',\n",
    "                    width=500,height=500):\n",
    "    randi=random.randint(1,999999999)\n",
    "    css_str=\"\"\"<style>.grid1 line,.grid1 path,.xaxis1,.yaxis1 \n",
    "    {stroke:\"\"\"+grid_color+\"\"\"; stroke-opacity:.5;}</style>\"\"\"\n",
    "    html_str=\"\"\"<script src='https://d3js.org/d3.v4.min.js'>\n",
    "    </\"\"\"+\"\"\"script><svg id='svg\"\"\"+str(randi)+\"\"\"' \n",
    "    style='background-color:\"\"\"+background_color+\"\"\"'></svg><br/>\"\"\"\n",
    "    scr_str=\"\"\"<script>\n",
    "    var url='\"\"\"+csv_url+\"\"\"'; \n",
    "    d3.csv(url,function(data) {\n",
    "        var xmin=d3.min(data,function(d) {return parseFloat(d.\"\"\"+x+\"\"\");}),\n",
    "            xmax=d3.max(data,function(d) {return parseFloat(d.\"\"\"+x+\"\"\");});\n",
    "        var ymin=d3.min(data,function(d) {return parseFloat(d.\"\"\"+y+\"\"\");}),\n",
    "            ymax=d3.max(data,function(d) {return parseFloat(d.\"\"\"+y+\"\"\");});\n",
    "        var n=data.length,m=20,margin={top:m,right:m,bottom:m,left:m},\n",
    "            width=\"\"\"+str(width)+\"\"\"-margin.left-margin.right,\n",
    "            height=\"\"\"+str(height)+\"\"\"-margin.top-margin.bottom;\n",
    "        var xScale=d3.scaleLinear()\n",
    "                     .domain([1.1*xmin,1.1*xmax]).range([0,width]),\n",
    "            yScale=d3.scaleLinear()\n",
    "                     .domain([1.1*ymin,1.1*ymax]).range([height,0]); \n",
    "        function make_x_gridlines() {\n",
    "            return d3.axisBottom(xScale).ticks(11)}; \n",
    "        function make_y_gridlines() { \n",
    "            return d3.axisLeft(yScale).ticks(11)};  \n",
    "        var pointColor=d3.scaleSequential().domain([0,n]) \n",
    "                         .interpolator(d3.interpolateRainbow);  \n",
    "        var tr1='translate('+margin.left+','+margin.top+')',\n",
    "            tr2='translate(0,'+height+')';  \n",
    "        var svg=d3.select('#svg\"\"\"+str(randi)+\"\"\"') \n",
    "                  .attr('width',width+margin.left+margin.right) \n",
    "                  .attr('height',height+margin.top+margin.bottom) \n",
    "                  .append('g').attr('transform',tr1);  \n",
    "        svg.append('g').attr('class','xaxis1') \n",
    "           .call(d3.axisBottom(xScale).tickSize(.5)).attr('transform',tr2);  \n",
    "        svg.append('g').attr('class','yaxis1') \n",
    "           .call(d3.axisLeft(yScale).tickSize(.5)); \n",
    "        svg.append('g').attr('class','grid1').attr('transform',tr2)\n",
    "           .call(make_x_gridlines().tickSize(-height).tickFormat(''));\n",
    "        svg.append('g').attr('class','grid1').call(make_y_gridlines()\n",
    "           .tickSize(-width).tickFormat(''));\n",
    "        svg.selectAll('.point').data(data).enter()\n",
    "           .append('circle').attr('class','point')\n",
    "           .attr('fill',function(d,i){return pointColor(i)})\n",
    "           .attr('r',\"\"\"+str(marker_size)+\"\"\")\n",
    "           .attr('stroke','#fff')\n",
    "           .attr('stroke-width',\"\"\"+str(.1*marker_size)+\"\"\")\n",
    "           .attr('cx',function(d) {return xScale(d.\"\"\"+x+\"\"\")})\n",
    "           .attr('cy',function(d) {return yScale(d.\"\"\"+y+\"\"\")}); \n",
    "    });</script>\"\"\"\n",
    "    return css_str+html_str+scr_str"
   ]
  },
  {
   "cell_type": "code",
   "execution_count": 4,
   "metadata": {
    "execution": {
     "iopub.execute_input": "2021-03-25T10:15:18.797838Z",
     "iopub.status.busy": "2021-03-25T10:15:18.796453Z",
     "iopub.status.idle": "2021-03-25T10:15:18.801989Z",
     "shell.execute_reply": "2021-03-25T10:15:18.801433Z"
    },
    "papermill": {
     "duration": 0.019575,
     "end_time": "2021-03-25T10:15:18.802107",
     "exception": false,
     "start_time": "2021-03-25T10:15:18.782532",
     "status": "completed"
    },
    "tags": []
   },
   "outputs": [
    {
     "data": {
      "text/html": [
       "<div id=\"html_string10\"><iframe src=\"file10.html\" height=330 width=630></iframe></div>"
      ],
      "text/plain": [
       "<IPython.core.display.HTML object>"
      ]
     },
     "metadata": {},
     "output_type": "display_data"
    }
   ],
   "source": [
    "csv_url='https://olgabelitskaya.github.io/castle.csv'\n",
    "html_str=d3scatter2d_csv(csv_url,'x','z',2,\n",
    "                         'ghostwhite','steelblue',600,300)\n",
    "width,height=630,330\n",
    "embedding_html_string(html_str,width,height,randi())"
   ]
  },
  {
   "cell_type": "code",
   "execution_count": 5,
   "metadata": {
    "execution": {
     "iopub.execute_input": "2021-03-25T10:15:18.822614Z",
     "iopub.status.busy": "2021-03-25T10:15:18.821863Z",
     "iopub.status.idle": "2021-03-25T10:15:18.830330Z",
     "shell.execute_reply": "2021-03-25T10:15:18.829676Z"
    },
    "papermill": {
     "duration": 0.019443,
     "end_time": "2021-03-25T10:15:18.830442",
     "exception": false,
     "start_time": "2021-03-25T10:15:18.810999",
     "status": "completed"
    },
    "tags": []
   },
   "outputs": [
    {
     "data": {
      "text/html": [
       "<div id=\"html_string34\"><iframe src=\"file34.html\" height=730 width=630></iframe></div>"
      ],
      "text/plain": [
       "<IPython.core.display.HTML object>"
      ]
     },
     "metadata": {},
     "output_type": "display_data"
    }
   ],
   "source": [
    "csv_url='https://olgabelitskaya.github.io/beethoven.csv'\n",
    "html_str=d3scatter2d_csv(csv_url,'x','z',.7,\n",
    "                         'black','slategray',600,700)\n",
    "width,height=630,730\n",
    "embedding_html_string(html_str,width,height,randi())"
   ]
  },
  {
   "cell_type": "code",
   "execution_count": 6,
   "metadata": {
    "_kg_hide-input": true,
    "execution": {
     "iopub.execute_input": "2021-03-25T10:15:18.854591Z",
     "iopub.status.busy": "2021-03-25T10:15:18.853529Z",
     "iopub.status.idle": "2021-03-25T10:15:18.857563Z",
     "shell.execute_reply": "2021-03-25T10:15:18.858053Z"
    },
    "papermill": {
     "duration": 0.018461,
     "end_time": "2021-03-25T10:15:18.858227",
     "exception": false,
     "start_time": "2021-03-25T10:15:18.839766",
     "status": "completed"
    },
    "tags": []
   },
   "outputs": [
    {
     "data": {
      "text/html": [
       "<style>\n",
       "    @import 'https://fonts.googleapis.com/css?family=Smokum&effect=3d-float';</style>\n",
       "    <h1 class='font-effect-3d-float' \n",
       "    style='font-family:Smokum; color:#FF355E; font-size:25px;'>\n",
       "    D3 Bar Charts & Lists</h1>"
      ],
      "text/plain": [
       "<IPython.core.display.HTML object>"
      ]
     },
     "metadata": {},
     "output_type": "display_data"
    }
   ],
   "source": [
    "dhtml('D3 Bar Charts & Lists')"
   ]
  },
  {
   "cell_type": "code",
   "execution_count": 7,
   "metadata": {
    "_kg_hide-input": true,
    "execution": {
     "iopub.execute_input": "2021-03-25T10:15:18.882660Z",
     "iopub.status.busy": "2021-03-25T10:15:18.881561Z",
     "iopub.status.idle": "2021-03-25T10:15:18.891680Z",
     "shell.execute_reply": "2021-03-25T10:15:18.892216Z"
    },
    "papermill": {
     "duration": 0.023925,
     "end_time": "2021-03-25T10:15:18.892379",
     "exception": false,
     "start_time": "2021-03-25T10:15:18.868454",
     "status": "completed"
    },
    "tags": []
   },
   "outputs": [],
   "source": [
    "#../input/python-recipes/d3barchart_list.py\n",
    "from IPython.display import display,HTML\n",
    "import random\n",
    "def d3barchart_list(num_list1,num_list2,background_color='silver',\n",
    "                    width=600,height=400):\n",
    "    num_list1,num_list2=str(num_list1),str(num_list2) \n",
    "    randi=random.randint(1,999999999)\n",
    "    css_str=\"\"\"<style>#run_update \n",
    "    {fill:slategray;stroke:#fff; fill-opacity:.7}</style>\"\"\"\n",
    "    html_str=\"\"\"<script src='https://d3js.org/d3.v6.min.js'>\n",
    "    </\"\"\"+\"\"\"script><svg id='svg\"\"\"+str(randi)+\"\"\"' \n",
    "    style='background-color:\"\"\"+background_color+\"\"\";'></svg><br/><br/>\"\"\"\n",
    "    scr_str=\"\"\"<script>\n",
    "        var data=\"\"\"+num_list1+\"\"\",m=20; \n",
    "        var n=data.length,ymax=1.2*d3.max(data),\n",
    "            margin={top:m,right:m,bottom:m,left:m},\n",
    "            width=\"\"\"+str(width)+\"\"\"-margin.left-margin.right,\n",
    "            height=\"\"\"+str(height)+\"\"\"-margin.top-margin.bottom;\n",
    "        var trans='translate('+margin.left+','+margin.top+')'; \n",
    "        var xScale=d3.scaleBand().domain(d3.range(n))\n",
    "                     .rangeRound([0,width]).paddingInner(.1),\n",
    "            yScale=d3.scaleLinear().domain([0,ymax]).range([0,height]);\n",
    "        var svg=d3.select('#svg\"\"\"+str(randi)+\"\"\"')\n",
    "                  .attr('width',width).attr('height',height)\n",
    "                  .attr('transform',trans); \n",
    "        svg.selectAll('rect').data(data).enter().append('rect')\n",
    "           .attr('x',function(d,i) {return xScale(i);})\n",
    "           .attr('y',function(d) {return height-yScale(d);})\n",
    "           .attr('width',xScale.bandwidth())\n",
    "           .attr('height',function(d) {return yScale(d);})\n",
    "           .attr('fill',function(d) { \n",
    "               return 'rgb('+Math.round(d*50/ymax)+',0,'+\n",
    "                       Math.round(d*255/ymax)+')';}); \n",
    "        function newData() {\n",
    "            var n=data.length; \n",
    "            while (data.length>0) {data.pop();}; \n",
    "            for (var i=0; i<n; i++) {data.push(\"\"\"+num_list2+\"\"\"[i]);}; \n",
    "            return data}; \n",
    "        function updateBar() {\n",
    "            svg.selectAll('rect').data(data).transition().duration(3000)\n",
    "               .attr('y',function(d) {return height-yScale(d);})\n",
    "               .attr('height',function(d) {return yScale(d);})\n",
    "               .attr('fill',function(d) {\n",
    "                   return 'rgb('+Math.round(d*50/ymax)+',0,'+\n",
    "                          Math.round(d*255/ymax)+')';}); }; \n",
    "        svg.append('circle').attr('id','run_update')\n",
    "           .attr('cx',m).attr('cy',1.25*m).attr('r',15)\n",
    "           .on('click',function() {newData(); updateBar();}); \n",
    "        svg.append('text').text(' <<< UPDATE')\n",
    "           .attr('x',2*m).attr('y',1.25*m).attr('fill','#fff');\n",
    "    </script>\"\"\"\n",
    "    return css_str+html_str+scr_str"
   ]
  },
  {
   "cell_type": "code",
   "execution_count": 8,
   "metadata": {
    "execution": {
     "iopub.execute_input": "2021-03-25T10:15:18.915730Z",
     "iopub.status.busy": "2021-03-25T10:15:18.914763Z",
     "iopub.status.idle": "2021-03-25T10:15:18.924476Z",
     "shell.execute_reply": "2021-03-25T10:15:18.924942Z"
    },
    "papermill": {
     "duration": 0.023008,
     "end_time": "2021-03-25T10:15:18.925086",
     "exception": false,
     "start_time": "2021-03-25T10:15:18.902078",
     "status": "completed"
    },
    "tags": []
   },
   "outputs": [
    {
     "data": {
      "text/html": [
       "<div id=\"html_string60\"><iframe src=\"file60.html\" height=400 width=600></iframe></div>"
      ],
      "text/plain": [
       "<IPython.core.display.HTML object>"
      ]
     },
     "metadata": {},
     "output_type": "display_data"
    }
   ],
   "source": [
    "import numpy as np\n",
    "num_list1=list(np.random.randint(1,100,50))\n",
    "num_list2=list(np.random.randint(1,100,50))\n",
    "html_str=d3barchart_list(num_list1,num_list2)\n",
    "width,height=600,400\n",
    "embedding_html_string(html_str,width,height,randi())"
   ]
  }
 ],
 "metadata": {
  "kernelspec": {
   "display_name": "Python 3",
   "language": "python",
   "name": "python3"
  },
  "language_info": {
   "codemirror_mode": {
    "name": "ipython",
    "version": 3
   },
   "file_extension": ".py",
   "mimetype": "text/x-python",
   "name": "python",
   "nbconvert_exporter": "python",
   "pygments_lexer": "ipython3",
   "version": "3.7.6"
  },
  "papermill": {
   "duration": 5.233694,
   "end_time": "2021-03-25T10:15:19.042837",
   "environment_variables": {},
   "exception": null,
   "input_path": "__notebook__.ipynb",
   "output_path": "__notebook__.ipynb",
   "parameters": {},
   "start_time": "2021-03-25T10:15:13.809143",
   "version": "2.1.0"
  }
 },
 "nbformat": 4,
 "nbformat_minor": 4
}
