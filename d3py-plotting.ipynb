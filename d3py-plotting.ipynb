{
 "cells": [
  {
   "cell_type": "code",
   "execution_count": 1,
   "metadata": {
    "_kg_hide-input": true,
    "execution": {
     "iopub.execute_input": "2020-11-05T19:37:39.842201Z",
     "iopub.status.busy": "2020-11-05T19:37:39.840890Z",
     "iopub.status.idle": "2020-11-05T19:37:39.864061Z",
     "shell.execute_reply": "2020-11-05T19:37:39.863236Z"
    },
    "papermill": {
     "duration": 0.038496,
     "end_time": "2020-11-05T19:37:39.864200",
     "exception": false,
     "start_time": "2020-11-05T19:37:39.825704",
     "status": "completed"
    },
    "tags": []
   },
   "outputs": [
    {
     "data": {
      "text/html": [
       "<style>\n",
       "    @import 'https://fonts.googleapis.com/css?family=Smokum&effect=3d-float';</style>\n",
       "    <h1 class='font-effect-3d-float' \n",
       "    style='font-family:Smokum; color:#FF355E; font-size:25px;'>\n",
       "    D3Scatter CSV XY</h1>"
      ],
      "text/plain": [
       "<IPython.core.display.HTML object>"
      ]
     },
     "metadata": {},
     "output_type": "display_data"
    }
   ],
   "source": [
    "%run ../input/python-recipes/dhtml.py\n",
    "dhtml('D3Scatter CSV XY')"
   ]
  },
  {
   "cell_type": "code",
   "execution_count": 2,
   "metadata": {
    "_kg_hide-input": true,
    "execution": {
     "iopub.execute_input": "2020-11-05T19:37:39.890215Z",
     "iopub.status.busy": "2020-11-05T19:37:39.888797Z",
     "iopub.status.idle": "2020-11-05T19:37:39.895495Z",
     "shell.execute_reply": "2020-11-05T19:37:39.894476Z"
    },
    "papermill": {
     "duration": 0.022288,
     "end_time": "2020-11-05T19:37:39.895674",
     "exception": false,
     "start_time": "2020-11-05T19:37:39.873386",
     "status": "completed"
    },
    "tags": []
   },
   "outputs": [
    {
     "name": "stdout",
     "output_type": "stream",
     "text": [
      "Writing d3scatter_xy_csv.py\n"
     ]
    }
   ],
   "source": [
    "%%writefile d3scatter_xy_csv.py\n",
    "from IPython.core.display import display,HTML\n",
    "import random\n",
    "\n",
    "def d3scatter_xy_csv(csv_url,x='x',y='y',ms=3,\n",
    "                     background_color='silver',\n",
    "                     grid_color='black',\n",
    "                     width=500,height=500):\n",
    "    html_str=\"\"\"<style>.grid1 line,.grid1 path {stroke:\"\"\"+\\\n",
    "    grid_color+\"\"\";stroke-opacity:.5;}</style>\"\"\"+\\\n",
    "    \"\"\"<script src='https://d3js.org/d3.v4.min.js'></script>\"\"\"+\\\n",
    "    \"\"\"<svg id='svg0001' style='background-color:\"\"\"+\\\n",
    "    background_color+\\\n",
    "    \"\"\"'></svg><script>var url='\"\"\"+csv_url+\"\"\"';\"\"\"+\\\n",
    "    \"\"\"d3.csv(url,function(data) {\"\"\"+\\\n",
    "    \"\"\"var xmin=d3.min(data,function(d) {\"\"\"+\\\n",
    "    \"\"\"    return parseFloat(d.\"\"\"+x+\"\"\"); }),\"\"\"+\\\n",
    "    \"\"\"    xmax=d3.max(data,function(d) { \"\"\"+\\\n",
    "    \"\"\"    return parseFloat(d.\"\"\"+x+\"\"\"); }); \"\"\"+\\\n",
    "    \"\"\"var ymin=d3.min(data,function(d) { \"\"\"+\\\n",
    "    \"\"\"    return parseFloat(d.\"\"\"+y+\"\"\"); }),\"\"\"+\\\n",
    "    \"\"\"    ymax=d3.max(data,function(d) { \"\"\"+\\\n",
    "    \"\"\"    return parseFloat(d.\"\"\"+y+\"\"\"); }); \"\"\"+\\\n",
    "    \"\"\"var n=data.length,m=20,\"\"\"+\\\n",
    "    \"\"\"    margin={top:m,right:m,bottom:m,left:m},\"\"\"+\\\n",
    "    \"\"\"    width=\"\"\"+str(width)+\\\n",
    "    \"\"\"-margin.left-margin.right,\"\"\"+\\\n",
    "    \"\"\"    height=\"\"\"+str(height)+\\\n",
    "    \"\"\"-margin.top-margin.bottom; \"\"\"+\\\n",
    "    \"\"\"var xScale=d3.scaleLinear()\"\"\"+\\\n",
    "    \"\"\"             .domain([1.1*xmin,1.1*xmax])\"\"\"+\\\n",
    "    \"\"\"             .range([0,width]); \"\"\"+\\\n",
    "    \"\"\"var yScale=d3.scaleLinear()\"\"\"+\\\n",
    "    \"\"\"             .domain([1.1*ymin,1.1*ymax])\"\"\"+\\\n",
    "    \"\"\"             .range([height,0]); \"\"\"+\\\n",
    "    \"\"\"function make_x_gridlines() {\"\"\"+\\\n",
    "    \"\"\"    return d3.axisBottom(xScale).ticks(11)}; \"\"\"+\\\n",
    "    \"\"\"function make_y_gridlines() {\"\"\"+\\\n",
    "    \"\"\"    return d3.axisLeft(yScale).ticks(11)}; \"\"\"+\\\n",
    "    \"\"\"var pointColor=d3.scaleSequential().domain([0,n])\"\"\"+\\\n",
    "    \"\"\"                 .interpolator(d3.interpolateRainbow); \"\"\"+\\\n",
    "    \"\"\"var tr='translate('+margin.left+','+margin.top+')'; \"\"\"+\\\n",
    "    \"\"\"var svg=d3.select('#svg0001')\"\"\"+\\\n",
    "    \"\"\"          .attr('width',width+margin.left+margin.right)\"\"\"+\\\n",
    "    \"\"\"          .attr('height',height+margin.top+margin.bottom)\"\"\"+\\\n",
    "    \"\"\"          .append('g')\"\"\"+\\\n",
    "    \"\"\"          .attr('transform',tr);\"\"\"+\\\n",
    "    \"\"\"svg.append('g').attr('class','xaxis1')\"\"\"+\\\n",
    "    \"\"\"   .call(d3.axisBottom(xScale).tickSize(.5))\"\"\"+\\\n",
    "    \"\"\"   .attr('transform','translate(0,'+height+')'); \"\"\"+\\\n",
    "    \"\"\"svg.append('g').attr('class','yaxis1')\"\"\"+\\\n",
    "    \"\"\"   .call(d3.axisLeft(yScale).tickSize(.5)); \"\"\"+\\\n",
    "    \"\"\"svg.append('g').attr('class','grid1')\"\"\"+\\\n",
    "    \"\"\"   .attr('transform','translate(0,'+height+')')\"\"\"+\\\n",
    "    \"\"\"   .call(make_x_gridlines()\"\"\"+\\\n",
    "    \"\"\"   .tickSize(-height).tickFormat('')); \"\"\"+\\\n",
    "    \"\"\"svg.append('g').attr('class','grid1')\"\"\"+\\\n",
    "    \"\"\"   .call(make_y_gridlines()\"\"\"+\\\n",
    "    \"\"\"   .tickSize(-width).tickFormat('')).attr('stroke','#fff');\"\"\"+\\\n",
    "    \"\"\"svg.selectAll('.point').data(data).enter()\"\"\"+\\\n",
    "    \"\"\"   .append('circle').attr('class','point')\"\"\"+\\\n",
    "    \"\"\"   .attr('fill',function(d,i){return pointColor(i)})\"\"\"+\\\n",
    "    \"\"\"   .attr('r',\"\"\"+\\\n",
    "    str(ms)+\"\"\")\"\"\"+\\\n",
    "    \"\"\"   .attr('stroke','#fff').attr('stroke-width',\"\"\"+\\\n",
    "    str(.1*ms)+\"\"\")\"\"\"+\\\n",
    "    \"\"\"   .attr('cx',function(d) {return xScale(d.\"\"\"+\\\n",
    "    x+\"\"\")})\"\"\"+\\\n",
    "    \"\"\"   .attr('cy',function(d) {return yScale(d.\"\"\"+\\\n",
    "    y+\"\"\")}); });\"\"\"+\\\n",
    "    \"\"\"</script>\"\"\"\n",
    "    file='d3scatter_xy_csv'+str(random.uniform(0,9999999))+'.html'\n",
    "    with open(file,'w') as f:\n",
    "        f.write(html_str); f.close()\n",
    "    string=\"\"\"<div id='html_string'><iframe src='\"\"\"+\\\n",
    "           file+\"\"\"' height=\"\"\"+str(height+20)+\\\n",
    "           \"\"\" width=\"\"\"+str(width+20)+\"\"\"></iframe></div>\"\"\"\n",
    "    display(HTML(string))"
   ]
  },
  {
   "cell_type": "code",
   "execution_count": 3,
   "metadata": {
    "execution": {
     "iopub.execute_input": "2020-11-05T19:37:39.919657Z",
     "iopub.status.busy": "2020-11-05T19:37:39.918826Z",
     "iopub.status.idle": "2020-11-05T19:37:39.926828Z",
     "shell.execute_reply": "2020-11-05T19:37:39.926162Z"
    },
    "papermill": {
     "duration": 0.023405,
     "end_time": "2020-11-05T19:37:39.927000",
     "exception": false,
     "start_time": "2020-11-05T19:37:39.903595",
     "status": "completed"
    },
    "tags": []
   },
   "outputs": [
    {
     "data": {
      "text/html": [
       "<div id='html_string'><iframe src='d3scatter_xy_csv8453952.440701079.html' height=320 width=520></iframe></div>"
      ],
      "text/plain": [
       "<IPython.core.display.HTML object>"
      ]
     },
     "metadata": {},
     "output_type": "display_data"
    }
   ],
   "source": [
    "%run d3scatter_xy_csv.py\n",
    "csv_url='https://olgabelitskaya.github.io/castle.csv'\n",
    "d3scatter_xy_csv(csv_url,'x','z',2,'ghostwhite','steelblue',500,300)"
   ]
  },
  {
   "cell_type": "code",
   "execution_count": 4,
   "metadata": {
    "execution": {
     "iopub.execute_input": "2020-11-05T19:37:39.952461Z",
     "iopub.status.busy": "2020-11-05T19:37:39.951558Z",
     "iopub.status.idle": "2020-11-05T19:37:39.958032Z",
     "shell.execute_reply": "2020-11-05T19:37:39.957130Z"
    },
    "papermill": {
     "duration": 0.02266,
     "end_time": "2020-11-05T19:37:39.958210",
     "exception": false,
     "start_time": "2020-11-05T19:37:39.935550",
     "status": "completed"
    },
    "tags": []
   },
   "outputs": [
    {
     "data": {
      "text/html": [
       "<div id='html_string'><iframe src='d3scatter_xy_csv6445026.957571413.html' height=620 width=520></iframe></div>"
      ],
      "text/plain": [
       "<IPython.core.display.HTML object>"
      ]
     },
     "metadata": {},
     "output_type": "display_data"
    }
   ],
   "source": [
    "%run d3scatter_xy_csv.py\n",
    "csv_url='https://olgabelitskaya.github.io/beethoven.csv'\n",
    "d3scatter_xy_csv(csv_url,'x','z',.7,'black','slategray',500,600)"
   ]
  },
  {
   "cell_type": "code",
   "execution_count": 5,
   "metadata": {
    "_kg_hide-input": true,
    "execution": {
     "iopub.execute_input": "2020-11-05T19:37:39.987374Z",
     "iopub.status.busy": "2020-11-05T19:37:39.986238Z",
     "iopub.status.idle": "2020-11-05T19:37:39.992288Z",
     "shell.execute_reply": "2020-11-05T19:37:39.991493Z"
    },
    "papermill": {
     "duration": 0.024939,
     "end_time": "2020-11-05T19:37:39.992435",
     "exception": false,
     "start_time": "2020-11-05T19:37:39.967496",
     "status": "completed"
    },
    "tags": []
   },
   "outputs": [
    {
     "data": {
      "text/html": [
       "<style>\n",
       "    @import 'https://fonts.googleapis.com/css?family=Smokum&effect=3d-float';</style>\n",
       "    <h1 class='font-effect-3d-float' \n",
       "    style='font-family:Smokum; color:#FF355E; font-size:25px;'>\n",
       "    In Progress</h1>"
      ],
      "text/plain": [
       "<IPython.core.display.HTML object>"
      ]
     },
     "metadata": {},
     "output_type": "display_data"
    }
   ],
   "source": [
    "dhtml('In Progress')"
   ]
  }
 ],
 "metadata": {
  "kernelspec": {
   "display_name": "Python 3",
   "language": "python",
   "name": "python3"
  },
  "language_info": {
   "codemirror_mode": {
    "name": "ipython",
    "version": 3
   },
   "file_extension": ".py",
   "mimetype": "text/x-python",
   "name": "python",
   "nbconvert_exporter": "python",
   "pygments_lexer": "ipython3",
   "version": "3.7.6"
  },
  "papermill": {
   "duration": 6.064687,
   "end_time": "2020-11-05T19:37:40.113962",
   "environment_variables": {},
   "exception": null,
   "input_path": "__notebook__.ipynb",
   "output_path": "__notebook__.ipynb",
   "parameters": {},
   "start_time": "2020-11-05T19:37:34.049275",
   "version": "2.1.0"
  }
 },
 "nbformat": 4,
 "nbformat_minor": 4
}
