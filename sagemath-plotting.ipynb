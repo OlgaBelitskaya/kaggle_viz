{
 "cells": [
  {
   "cell_type": "code",
   "execution_count": 1,
   "metadata": {
    "_cell_guid": "b1076dfc-b9ad-4769-8c92-a6c4dae69d19",
    "_kg_hide-input": true,
    "_uuid": "8f2839f25d086af736a60e9eeb907d3b93b6e0e5",
    "execution": {
     "iopub.execute_input": "2020-11-06T13:00:37.985321Z",
     "iopub.status.busy": "2020-11-06T13:00:37.984339Z",
     "iopub.status.idle": "2020-11-06T13:00:38.001867Z",
     "shell.execute_reply": "2020-11-06T13:00:38.002567Z"
    },
    "papermill": {
     "duration": 0.036698,
     "end_time": "2020-11-06T13:00:38.002794",
     "exception": false,
     "start_time": "2020-11-06T13:00:37.966096",
     "status": "completed"
    },
    "tags": []
   },
   "outputs": [
    {
     "name": "stdout",
     "output_type": "stream",
     "text": [
      "Evaluation of SageMath cells is possible \n",
      "now with two additional syntax marks: \n",
      "the white space and the slash between code lines.\n"
     ]
    },
    {
     "data": {
      "text/html": [
       "<style>\n",
       "    @import 'https://fonts.googleapis.com/css?family=Smokum&effect=3d-float';</style>\n",
       "    <h1 class='font-effect-3d-float' \n",
       "    style='font-family:Smokum; color:#FF355E; font-size:25px;'>\n",
       "    2D Plotting with SageMathCell</h1>"
      ],
      "text/plain": [
       "<IPython.core.display.HTML object>"
      ]
     },
     "metadata": {},
     "output_type": "display_data"
    }
   ],
   "source": [
    "%run ../input/python-recipes/dhtml.py\n",
    "%run ../input/python-recipes/sage_call.py\n",
    "dhtml('2D Plotting with SageMathCell')"
   ]
  },
  {
   "cell_type": "code",
   "execution_count": 2,
   "metadata": {
    "_cell_guid": "79c7e3d0-c299-4dcb-8224-4455121ee9b0",
    "_kg_hide-input": true,
    "_uuid": "d629ff2d2480ee46fbb7e2d37f6b5fab8052498a",
    "execution": {
     "iopub.execute_input": "2020-11-06T13:00:38.040428Z",
     "iopub.status.busy": "2020-11-06T13:00:38.039594Z",
     "iopub.status.idle": "2020-11-06T13:00:38.044841Z",
     "shell.execute_reply": "2020-11-06T13:00:38.045478Z"
    },
    "papermill": {
     "duration": 0.029783,
     "end_time": "2020-11-06T13:00:38.045675",
     "exception": false,
     "start_time": "2020-11-06T13:00:38.015892",
     "status": "completed"
    },
    "tags": []
   },
   "outputs": [
    {
     "data": {
      "text/html": [
       "<html><head><meta charset='utf-8'><meta name='viewport' content='width=device-width'><script src='https://sagecell.sagemath.org/static/embedded_sagecell.js'></script><script>$(function () {sagecell.makeSagecell({inputLocation:'div.autosage',evalButtonText:'run',template:sagecell.templates.minimal,autoeval:true});});</script></head><style>.sagecell_output pre{min-height:3em; max-height:30em;} .sagecell .CodeMirror-scroll {min-height:3em; max-height:30em;}</style><body><div class='autosage'><script type='text/x-sage'> @interact\n",
       "def _(a=[7..11],b=[10..18]):\n",
       "    x(t)=cos(t)+cos(a*t)/2+sin((a+b)*t)/3\n",
       "    y(t)=sin(t)+sin(a*t)/2+cos((a+b)*t)/3\n",
       "    def col(c): return colormaps.hsv(5*c)[:3]\n",
       "    p=sum([parametric_plot((x,y),\n",
       "                           (t,(i-1)*pi/24,i*pi/24),\n",
       "                            color=col(i)) for i in [1..48]])\n",
       "    p.show(aspect_ratio=1,figsize=5,gridlines=True)\n",
       "</script></div></body></html>"
      ],
      "text/plain": [
       "<IPython.core.display.HTML object>"
      ]
     },
     "metadata": {},
     "output_type": "display_data"
    }
   ],
   "source": [
    "%sage_autorun \\\n",
    "@interact \\\n",
    "def _(a=[7..11],b=[10..18]): \\\n",
    "    x(t)=cos(t)+cos(a*t)/2+sin((a+b)*t)/3 \\\n",
    "    y(t)=sin(t)+sin(a*t)/2+cos((a+b)*t)/3 \\\n",
    "    def col(c): return colormaps.hsv(5*c)[:3] \\\n",
    "    p=sum([parametric_plot((x,y), \\\n",
    "                           (t,(i-1)*pi/24,i*pi/24), \\\n",
    "                            color=col(i)) for i in [1..48]]) \\\n",
    "    p.show(aspect_ratio=1,figsize=5,gridlines=True)"
   ]
  },
  {
   "cell_type": "code",
   "execution_count": 3,
   "metadata": {
    "_kg_hide-input": false,
    "execution": {
     "iopub.execute_input": "2020-11-06T13:00:38.097909Z",
     "iopub.status.busy": "2020-11-06T13:00:38.097004Z",
     "iopub.status.idle": "2020-11-06T13:00:38.103004Z",
     "shell.execute_reply": "2020-11-06T13:00:38.102232Z"
    },
    "papermill": {
     "duration": 0.047368,
     "end_time": "2020-11-06T13:00:38.103135",
     "exception": false,
     "start_time": "2020-11-06T13:00:38.055767",
     "status": "completed"
    },
    "tags": []
   },
   "outputs": [
    {
     "data": {
      "text/html": [
       "<html><head><meta charset='utf-8'><meta name='viewport' content='width=device-width'><script src='https://sagecell.sagemath.org/static/embedded_sagecell.js'></script><script>$(function () {sagecell.makeSagecell({inputLocation:'div.sage',evalButtonText:'run',template:sagecell.templates.minimal});});</script></head><style>.sagecell_output pre{min-height:3em; max-height:30em;} .sagecell .CodeMirror-scroll {min-height:3em; max-height:30em;}</style><body><div class='sage'><script type='text/x-sage'> el=[\"😸\",\"😹\",\"😻\",\"😼\",\"😽\",\"😾\",\"😿\",\"🙀\"]\n",
       "var('t,k'); n=randint(16,36)\n",
       "a,b,c=randint(5,12),randint(13,24),2*randint(3,6)\n",
       "str1='=>=>=>Fortune Telling on a Chamomile'\n",
       "col=Color(1,random(),random()).html_color()\n",
       "str2='<p style=\"font-size:150%; color:'\n",
       "pretty_print(html(str2+col+'\">'+str1+'</p>'))\n",
       "fy(t,k)=cos(pi*t/n+2*k*pi/c)+\\\n",
       "        cos(a*pi*t/n+2*k*pi/c)+\\\n",
       "        cos(b*pi*t/n+2*k*pi/c)\n",
       "fx(t,k)=sin(pi*t/n+2*k*pi/c)-\\\n",
       "        sin(a*pi*t/n+2*k*pi/c)+\\\n",
       "        sin(b*pi*t/n+2*k*pi/c)\n",
       "L=[[[fx(t,k),fy(t,k)]\n",
       "     for t in range(2*n)] for k in range(2*c)]\n",
       "p=sum([polygon2d(L[i],color=(1,random(),random()),\n",
       "                 thickness=.5,alpha=.075,axes=False)\n",
       "        for i in range(2*c)])\n",
       "p+text(el[randint(0,len(el)-1)],\n",
       "       (0,0),fontsize=80,color=col)\n",
       "</script></div></body></html>"
      ],
      "text/plain": [
       "<IPython.core.display.HTML object>"
      ]
     },
     "metadata": {},
     "output_type": "display_data"
    }
   ],
   "source": [
    "%sage_run \\\n",
    "el=[\"😸\",\"😹\",\"😻\",\"😼\",\"😽\",\"😾\",\"😿\",\"🙀\"] \\\n",
    "var('t,k'); n=randint(16,36) \\\n",
    "a,b,c=randint(5,12),randint(13,24),2*randint(3,6) \\\n",
    "str1='=>=>=>Fortune Telling on a Chamomile' \\\n",
    "col=Color(1,random(),random()).html_color() \\\n",
    "str2='<p style=\"font-size:150%; color:' \\\n",
    "pretty_print(html(str2+col+'\">'+str1+'</p>')) \\\n",
    "fy(t,k)=cos(pi*t/n+2*k*pi/c)+\\ \\\n",
    "        cos(a*pi*t/n+2*k*pi/c)+\\ \\\n",
    "        cos(b*pi*t/n+2*k*pi/c) \\\n",
    "fx(t,k)=sin(pi*t/n+2*k*pi/c)-\\ \\\n",
    "        sin(a*pi*t/n+2*k*pi/c)+\\ \\\n",
    "        sin(b*pi*t/n+2*k*pi/c) \\\n",
    "L=[[[fx(t,k),fy(t,k)]  \\\n",
    "    for t in range(2*n)] for k in range(2*c)] \\\n",
    "p=sum([polygon2d(L[i],color=(1,random(),random()), \\\n",
    "                 thickness=.5,alpha=.075,axes=False)  \\\n",
    "       for i in range(2*c)]) \\\n",
    "p+text(el[randint(0,len(el)-1)], \\\n",
    "       (0,0),fontsize=80,color=col)"
   ]
  },
  {
   "cell_type": "code",
   "execution_count": 4,
   "metadata": {
    "_kg_hide-input": true,
    "execution": {
     "iopub.execute_input": "2020-11-06T13:00:38.131700Z",
     "iopub.status.busy": "2020-11-06T13:00:38.130698Z",
     "iopub.status.idle": "2020-11-06T13:00:38.135845Z",
     "shell.execute_reply": "2020-11-06T13:00:38.135028Z"
    },
    "papermill": {
     "duration": 0.021887,
     "end_time": "2020-11-06T13:00:38.136006",
     "exception": false,
     "start_time": "2020-11-06T13:00:38.114119",
     "status": "completed"
    },
    "tags": []
   },
   "outputs": [
    {
     "data": {
      "text/html": [
       "<style>\n",
       "    @import 'https://fonts.googleapis.com/css?family=Smokum&effect=3d-float';</style>\n",
       "    <h1 class='font-effect-3d-float' \n",
       "    style='font-family:Smokum; color:#FF355E; font-size:25px;'>\n",
       "    3D Plotting with SageMathCell</h1>"
      ],
      "text/plain": [
       "<IPython.core.display.HTML object>"
      ]
     },
     "metadata": {},
     "output_type": "display_data"
    }
   ],
   "source": [
    "dhtml('3D Plotting with SageMathCell')"
   ]
  },
  {
   "cell_type": "code",
   "execution_count": 5,
   "metadata": {
    "_kg_hide-input": true,
    "execution": {
     "iopub.execute_input": "2020-11-06T13:00:38.172174Z",
     "iopub.status.busy": "2020-11-06T13:00:38.171174Z",
     "iopub.status.idle": "2020-11-06T13:00:38.176811Z",
     "shell.execute_reply": "2020-11-06T13:00:38.175969Z"
    },
    "papermill": {
     "duration": 0.029031,
     "end_time": "2020-11-06T13:00:38.176946",
     "exception": false,
     "start_time": "2020-11-06T13:00:38.147915",
     "status": "completed"
    },
    "tags": []
   },
   "outputs": [
    {
     "data": {
      "text/html": [
       "<html><head><meta charset='utf-8'><meta name='viewport' content='width=device-width'><script src='https://sagecell.sagemath.org/static/embedded_sagecell.js'></script><script>$(function () {sagecell.makeSagecell({inputLocation:'div.autosage',evalButtonText:'run',template:sagecell.templates.minimal,autoeval:true});});</script></head><style>.sagecell_output pre{min-height:3em; max-height:30em;} .sagecell .CodeMirror-scroll {min-height:3em; max-height:30em;}</style><body><div class='autosage'><script type='text/x-sage'> @interact\n",
       "def _(colormap=['bwr','cool','prism',\n",
       "                'jet','terrain','flag',\n",
       "                'ocean','hsv','bone']):\n",
       "    def c(cm):\n",
       "        return [colormaps[cm](12*i)[:3]\n",
       "                 for i in [1..20]]\n",
       "    g=icosahedron().stickers(c(colormap),.05,.05)\n",
       "    g.show(frame=False)\n",
       "</script></div></body></html>"
      ],
      "text/plain": [
       "<IPython.core.display.HTML object>"
      ]
     },
     "metadata": {},
     "output_type": "display_data"
    }
   ],
   "source": [
    "%sage_autorun \\\n",
    "@interact \\\n",
    "def _(colormap=['bwr','cool','prism', \\\n",
    "                'jet','terrain','flag', \\\n",
    "                'ocean','hsv','bone']): \\\n",
    "    def c(cm): \\\n",
    "        return [colormaps[cm](12*i)[:3]  \\\n",
    "                for i in [1..20]] \\\n",
    "    g=icosahedron().stickers(c(colormap),.05,.05) \\\n",
    "    g.show(frame=False)"
   ]
  },
  {
   "cell_type": "code",
   "execution_count": 6,
   "metadata": {
    "_kg_hide-input": false,
    "execution": {
     "iopub.execute_input": "2020-11-06T13:00:38.221979Z",
     "iopub.status.busy": "2020-11-06T13:00:38.221063Z",
     "iopub.status.idle": "2020-11-06T13:00:38.227304Z",
     "shell.execute_reply": "2020-11-06T13:00:38.226507Z"
    },
    "papermill": {
     "duration": 0.036127,
     "end_time": "2020-11-06T13:00:38.227448",
     "exception": false,
     "start_time": "2020-11-06T13:00:38.191321",
     "status": "completed"
    },
    "tags": []
   },
   "outputs": [
    {
     "data": {
      "text/html": [
       "<html><head><meta charset='utf-8'><meta name='viewport' content='width=device-width'><script src='https://sagecell.sagemath.org/static/embedded_sagecell.js'></script><script>$(function () {sagecell.makeSagecell({inputLocation:'div.sage',evalButtonText:'run',template:sagecell.templates.minimal});});</script></head><style>.sagecell_output pre{min-height:3em; max-height:30em;} .sagecell .CodeMirror-scroll {min-height:3em; max-height:30em;}</style><body><div class='sage'><script type='text/x-sage'> var('u,v'); u_min,u_max=0,2*pi; v_min,v_max=0,pi\n",
       "f_x=(2+cos(u))*cos(v)^3*sin(v)\n",
       "f_y=(2+cos(u+2*pi/3))*cos(v+2*pi/3)^2*sin(v+2*pi/3)^2\n",
       "f_z=(2+cos(u-2*pi/3))*cos(v+2*pi/3)^2*sin(v+2*pi/3)^2\n",
       "sum([parametric_plot3d([f_x*i,f_y*j,f_z*k],\n",
       "                       (u_min,u_max),(v_min,v_max),\n",
       "                       plotpoints=100,color='cyan',\n",
       "                       opacity=.4,mesh=True,frame=False)\n",
       "      for i in [-1,1] for j in [-1,1] for k in [-1,1]])\n",
       "</script></div></body></html>"
      ],
      "text/plain": [
       "<IPython.core.display.HTML object>"
      ]
     },
     "metadata": {},
     "output_type": "display_data"
    }
   ],
   "source": [
    "%sage_run \\\n",
    "var('u,v'); u_min,u_max=0,2*pi; v_min,v_max=0,pi \\\n",
    "f_x=(2+cos(u))*cos(v)^3*sin(v) \\\n",
    "f_y=(2+cos(u+2*pi/3))*cos(v+2*pi/3)^2*sin(v+2*pi/3)^2 \\\n",
    "f_z=(2+cos(u-2*pi/3))*cos(v+2*pi/3)^2*sin(v+2*pi/3)^2 \\\n",
    "sum([parametric_plot3d([f_x*i,f_y*j,f_z*k], \\\n",
    "                       (u_min,u_max),(v_min,v_max), \\\n",
    "                       plotpoints=100,color='cyan', \\\n",
    "                       opacity=.4,mesh=True,frame=False)  \\\n",
    "     for i in [-1,1] for j in [-1,1] for k in [-1,1]])"
   ]
  },
  {
   "cell_type": "code",
   "execution_count": 7,
   "metadata": {
    "_kg_hide-input": true,
    "execution": {
     "iopub.execute_input": "2020-11-06T13:00:38.261198Z",
     "iopub.status.busy": "2020-11-06T13:00:38.260089Z",
     "iopub.status.idle": "2020-11-06T13:00:38.264956Z",
     "shell.execute_reply": "2020-11-06T13:00:38.264198Z"
    },
    "papermill": {
     "duration": 0.024131,
     "end_time": "2020-11-06T13:00:38.265121",
     "exception": false,
     "start_time": "2020-11-06T13:00:38.240990",
     "status": "completed"
    },
    "tags": []
   },
   "outputs": [
    {
     "data": {
      "text/html": [
       "<style>\n",
       "    @import 'https://fonts.googleapis.com/css?family=Smokum&effect=3d-float';</style>\n",
       "    <h1 class='font-effect-3d-float' \n",
       "    style='font-family:Smokum; color:#FF355E; font-size:25px;'>\n",
       "    Editable Code Cells</h1>"
      ],
      "text/plain": [
       "<IPython.core.display.HTML object>"
      ]
     },
     "metadata": {},
     "output_type": "display_data"
    }
   ],
   "source": [
    "dhtml('Editable Code Cells')"
   ]
  },
  {
   "cell_type": "code",
   "execution_count": 8,
   "metadata": {
    "_kg_hide-input": false,
    "execution": {
     "iopub.execute_input": "2020-11-06T13:00:38.300806Z",
     "iopub.status.busy": "2020-11-06T13:00:38.299984Z",
     "iopub.status.idle": "2020-11-06T13:00:38.305830Z",
     "shell.execute_reply": "2020-11-06T13:00:38.304983Z"
    },
    "papermill": {
     "duration": 0.02562,
     "end_time": "2020-11-06T13:00:38.305971",
     "exception": false,
     "start_time": "2020-11-06T13:00:38.280351",
     "status": "completed"
    },
    "tags": []
   },
   "outputs": [
    {
     "data": {
      "text/html": [
       "<div id='html_string'><iframe src='sage_coderun3673276.356582868.html' height=320 width=550></iframe></div>"
      ],
      "text/plain": [
       "<IPython.core.display.HTML object>"
      ]
     },
     "metadata": {},
     "output_type": "display_data"
    }
   ],
   "source": [
    "%sage_coderun 530 300"
   ]
  }
 ],
 "metadata": {
  "kernelspec": {
   "display_name": "Python 3",
   "language": "python",
   "name": "python3"
  },
  "language_info": {
   "codemirror_mode": {
    "name": "ipython",
    "version": 3
   },
   "file_extension": ".py",
   "mimetype": "text/x-python",
   "name": "python",
   "nbconvert_exporter": "python",
   "pygments_lexer": "ipython3",
   "version": "3.7.6"
  },
  "papermill": {
   "duration": 5.69532,
   "end_time": "2020-11-06T13:00:38.430255",
   "environment_variables": {},
   "exception": null,
   "input_path": "__notebook__.ipynb",
   "output_path": "__notebook__.ipynb",
   "parameters": {},
   "start_time": "2020-11-06T13:00:32.734935",
   "version": "2.1.0"
  }
 },
 "nbformat": 4,
 "nbformat_minor": 4
}
