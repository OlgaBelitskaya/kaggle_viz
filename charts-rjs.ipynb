{
 "cells": [
  {
   "cell_type": "code",
   "execution_count": 1,
   "metadata": {
    "_kg_hide-input": true
   },
   "outputs": [
    {
     "data": {
      "text/html": [
       "<style>@import \"https://fonts.googleapis.com/css?family=Ewert|Roboto&effect=3d\"; </style><h1 class=\"font-effect-3d\" style=\"font-family:Ewert; color:#ff355e;\"> &#x1F310; &nbsp;Code Modules</h1>"
      ]
     },
     "metadata": {},
     "output_type": "display_data"
    }
   ],
   "source": [
    "source('../input/r-recipes/header_styling.R')\n",
    "dhtml('Code Modules')"
   ]
  },
  {
   "cell_type": "code",
   "execution_count": 2,
   "metadata": {
    "_execution_state": "idle",
    "_kg_hide-input": false,
    "_kg_hide-output": true,
    "_uuid": "051d70d956493feee0c6d64651c6a088724dca2a",
    "collapsed": true
   },
   "outputs": [
    {
     "name": "stderr",
     "output_type": "stream",
     "text": [
      "── \u001b[1mAttaching packages\u001b[22m ─────────────────────────────────────── tidyverse 1.3.0 ──\n",
      "\n",
      "\u001b[32m✔\u001b[39m \u001b[34mggplot2\u001b[39m 3.3.0.\u001b[31m9000\u001b[39m     \u001b[32m✔\u001b[39m \u001b[34mpurrr  \u001b[39m 0.3.4     \n",
      "\u001b[32m✔\u001b[39m \u001b[34mtibble \u001b[39m 3.0.1          \u001b[32m✔\u001b[39m \u001b[34mdplyr  \u001b[39m 0.8.5     \n",
      "\u001b[32m✔\u001b[39m \u001b[34mtidyr  \u001b[39m 1.0.3          \u001b[32m✔\u001b[39m \u001b[34mstringr\u001b[39m 1.4.0     \n",
      "\u001b[32m✔\u001b[39m \u001b[34mreadr  \u001b[39m 1.3.1          \u001b[32m✔\u001b[39m \u001b[34mforcats\u001b[39m 0.5.0     \n",
      "\n",
      "── \u001b[1mConflicts\u001b[22m ────────────────────────────────────────── tidyverse_conflicts() ──\n",
      "\u001b[31m✖\u001b[39m \u001b[34mdplyr\u001b[39m::\u001b[32mfilter()\u001b[39m masks \u001b[34mstats\u001b[39m::filter()\n",
      "\u001b[31m✖\u001b[39m \u001b[34mdplyr\u001b[39m::\u001b[32mlag()\u001b[39m    masks \u001b[34mstats\u001b[39m::lag()\n",
      "\n"
     ]
    }
   ],
   "source": [
    "library(IRdisplay); library(tidyverse)"
   ]
  },
  {
   "cell_type": "code",
   "execution_count": 3,
   "metadata": {
    "_kg_hide-input": true
   },
   "outputs": [
    {
     "data": {
      "text/html": [
       "<style>@import \"https://fonts.googleapis.com/css?family=Ewert|Roboto&effect=3d\"; </style><h1 class=\"font-effect-3d\" style=\"font-family:Ewert; color:#ff355e;\"> &#x1F310; &nbsp;With Arrays & Functions</h1>"
      ]
     },
     "metadata": {},
     "output_type": "display_data"
    }
   ],
   "source": [
    "dhtml('With Arrays & Functions')"
   ]
  },
  {
   "cell_type": "code",
   "execution_count": 4,
   "metadata": {
    "_kg_hide-input": true
   },
   "outputs": [
    {
     "data": {
      "text/html": [
       "<div id='d001'><iframe src='chart268.html' height='630' width='680'></iframe></div>"
      ]
     },
     "metadata": {},
     "output_type": "display_data"
    }
   ],
   "source": [
    "html_str<-\"\n",
    "<script src='https://code.highcharts.com/highcharts.js'></script>\n",
    "<div id='chartdiv001' style='height:600px; width:650px; margin:0 auto'></div>\n",
    "<script>\n",
    "var series=[]; var d=.001; var i; var n=3; \n",
    "function randi(min,max) {return Math.floor(Math.random()*(max-min+1))+min;};\n",
    "function ar(k,a,b) {return Array(6400).fill(k).map((k,t)=>\n",
    "    [k*(Math.cos(d*t)+Math.sin(a*d*t)/2-Math.cos(b*d*t)/6),\n",
    "     k*(Math.sin(d*t)+Math.cos(a*d*t)/2-Math.sin(b*d*t)/6)]);};\n",
    "function col(i) {var r=randi(i,255),g=randi(i,255),b=randi(i,255);\n",
    "                 return 'rgb('+r+','+g+','+b+')';}; \n",
    "var a=randi(7,19),b=randi(18,64);\n",
    "for (i=1; i<n+1; i++) {\n",
    "    series.push({name:i,color:col(i),lineWidth:.5,data:ar(i,a,b)})};\n",
    "Highcharts.chart('chartdiv001',{\n",
    "    chart:{type:'line',backgroundColor:'mintcream'},\n",
    "    xAxis:{title:{text:'x'}},yAxis:{title:{text:'y'}},\n",
    "    title:{text:'a,b = '+[a,b]},series:series,\n",
    "    credits:{enabled:false},legend:{enabled:false}});\n",
    "</script>\"\n",
    "html_str<-paste(as.character(html_str),collapse='\\n')\n",
    "file_name<-paste0(c('chart',sample(1:999,1),'.html'),collapse='')\n",
    "write.table(html_str,file=file_name,\n",
    "            quote=FALSE,col.names=FALSE,row.names=FALSE)\n",
    "display_html(paste0(c(\n",
    "    \"<div id='d001'><iframe src='\",file_name,\n",
    "    \"' height='630' width='680'></iframe></div>\"),collapse=''))"
   ]
  },
  {
   "cell_type": "code",
   "execution_count": 5,
   "metadata": {
    "_kg_hide-input": true
   },
   "outputs": [
    {
     "data": {
      "text/html": [
       "<style>@import \"https://fonts.googleapis.com/css?family=Ewert|Roboto&effect=3d\"; </style><h1 class=\"font-effect-3d\" style=\"font-family:Ewert; color:#ff355e;\"> &#x1F310; &nbsp;With CSV Strings & Other Data Objects</h1>"
      ]
     },
     "metadata": {},
     "output_type": "display_data"
    }
   ],
   "source": [
    "dhtml('With CSV Strings & Other Data Objects')"
   ]
  },
  {
   "cell_type": "code",
   "execution_count": 6,
   "metadata": {
    "_kg_hide-input": true
   },
   "outputs": [
    {
     "data": {
      "text/html": [
       "<div id='d002'><iframe src='chart297.html' height='530' width='680'></iframe></div>"
      ]
     },
     "metadata": {},
     "output_type": "display_data"
    }
   ],
   "source": [
    "html_str<-\"<script src='https://www.gstatic.com/charts/loader.js'>\n",
    "</script></script><script src='https://d3js.org/d3.v5.js'></script>\n",
    "<script type='text/javascript'>\n",
    "google.charts.load('current',{'packages':['corechart']});\n",
    "google.charts.setOnLoadCallback(drawChart);\n",
    "const st=`x,y,z\n",
    "1.418,-1.494,-2.541\n",
    "1.259,-1.563,-2.426\n",
    "1.236,-1.686,-2.711\n",
    "1.409,-1.614,-2.865\n",
    "1.225,-1.777,-2.939`;\n",
    "const xyz=d3.csvParse(st,d3.autoType);\n",
    "var x=[],y=[],z=[];\n",
    "for (var i=0; i<5; i++){\n",
    "  x.push(xyz[i]['x']); \n",
    "  y.push(xyz[i]['y']); \n",
    "  z.push(xyz[i]['z'])};\n",
    "function drawChart() {\n",
    "  var data=new google.visualization.DataTable();\n",
    "  data.addColumn('number','id'); data.addColumn('number','v1');\n",
    "  data.addColumn('number','v2'); data.addColumn('number','v3');\n",
    "  for (var i=0; i<5; i++){\n",
    "      data.addRow([i+1,x[i],y[i],z[i]]);};\n",
    "  var options={'title':'Charts with DataTables',\n",
    "               'width':650,'height':500};\n",
    "  var doc=document.getElementById('chartdiv002');\n",
    "  var chart=new google.visualization.AreaChart(doc);\n",
    "  chart.draw(data,options);}\n",
    "</script><div id='chartdiv002'></div>\"\n",
    "html_str<-paste(as.character(html_str),collapse='\\n')\n",
    "file_name<-paste0(c('chart',sample(1:999,1),'.html'),collapse='')\n",
    "write.table(html_str,file=file_name,\n",
    "            quote=FALSE,col.names=FALSE,row.names=FALSE)\n",
    "display_html(paste0(c(\n",
    "    \"<div id='d002'><iframe src='\",file_name,\n",
    "    \"' height='530' width='680'></iframe></div>\"),collapse=''))"
   ]
  },
  {
   "cell_type": "markdown",
   "metadata": {},
   "source": [
    "## With CSV Files"
   ]
  },
  {
   "cell_type": "code",
   "execution_count": 7,
   "metadata": {
    "_kg_hide-input": true
   },
   "outputs": [
    {
     "data": {
      "text/html": [
       "<style>@import \"https://fonts.googleapis.com/css?family=Ewert|Roboto&effect=3d\"; </style><h1 class=\"font-effect-3d\" style=\"font-family:Ewert; color:#ff355e;\"> &#x1F310; &nbsp;With Chart Building</h1>"
      ]
     },
     "metadata": {},
     "output_type": "display_data"
    }
   ],
   "source": [
    "dhtml('With Chart Building')"
   ]
  },
  {
   "cell_type": "code",
   "execution_count": 8,
   "metadata": {
    "_kg_hide-input": true
   },
   "outputs": [
    {
     "data": {
      "text/html": [
       "<div id='d003'><iframe src='chart273.html' height='220px' width='100%'></iframe></div>"
      ]
     },
     "metadata": {},
     "output_type": "display_data"
    }
   ],
   "source": [
    "html_str<-\"\n",
    "<style>@import 'https://fonts.googleapis.com/css?family=Wallpoet';\n",
    "</style><script src='https://d3js.org/d3.v6.min.js'>\n",
    "</script><div id='chartdiv003'/><script>\n",
    "var data=[4,12,21,38,42,55];\n",
    "var tc=setInterval(function(){\n",
    "    var now=new Date().getTime();\n",
    "    var font_size=20;\n",
    "    var width=.6*Math.max(window.screen.width,window.innerWidth);\n",
    "    var div=d3.select('#chartdiv003')\n",
    "              .attr('width',width).attr('height',11*font_size+'px')\n",
    "    div.style('text-align','right')\n",
    "       .style('text-shadow','3px 3px 3px slategray')\n",
    "       .style('padding','5px')\n",
    "       .style('color',d3.interpolateSinebow(now/1000000))\n",
    "       .style('background',d3.interpolateSinebow(now/1000000));\n",
    "    var x=d3.scaleLinear().domain([0,d3.max(data)]).range([0,.8*width])\n",
    "    div.selectAll('div').data(data).join('div')\n",
    "       .style('background','silver')\n",
    "       .style('padding','5px').style('margin','1px')\n",
    "       .style('width',d=>x(d)+'px')\n",
    "       .style('font-family','Wallpoet')\n",
    "       .style('font-size',font_size+'px')\n",
    "       .text(d=>d);},100);\n",
    "</script>\"\n",
    "html_str<-paste(as.character(html_str),collapse='\\n')\n",
    "file_name<-paste0(c('chart',sample(1:999,1),'.html'),collapse='')\n",
    "write.table(html_str,file=file_name,\n",
    "            quote=FALSE,col.names=FALSE,row.names=FALSE)\n",
    "display_html(paste0(c(\n",
    "    \"<div id='d003'><iframe src='\",file_name,\n",
    "    \"' height='220px' width='100%'></iframe></div>\"),collapse=''))"
   ]
  },
  {
   "cell_type": "code",
   "execution_count": 9,
   "metadata": {
    "_kg_hide-input": true
   },
   "outputs": [
    {
     "data": {
      "text/html": [
       "<style>@import \"https://fonts.googleapis.com/css?family=Ewert|Roboto&effect=3d\"; </style><h1 class=\"font-effect-3d\" style=\"font-family:Ewert; color:#ff355e;\"> &#x1F310; &nbsp;In Progress</h1>"
      ]
     },
     "metadata": {},
     "output_type": "display_data"
    }
   ],
   "source": [
    "dhtml('In Progress')"
   ]
  },
  {
   "cell_type": "code",
   "execution_count": 10,
   "metadata": {},
   "outputs": [
    {
     "data": {
      "text/html": [
       "<table>\n",
       "<caption>A data.frame: 6 × 5</caption>\n",
       "<thead>\n",
       "\t<tr><th></th><th scope=col>t</th><th scope=col>x</th><th scope=col>y</th><th scope=col>name</th><th scope=col>color</th></tr>\n",
       "\t<tr><th></th><th scope=col>&lt;int&gt;</th><th scope=col>&lt;dbl&gt;</th><th scope=col>&lt;dbl&gt;</th><th scope=col>&lt;chr&gt;</th><th scope=col>&lt;chr&gt;</th></tr>\n",
       "</thead>\n",
       "<tbody>\n",
       "\t<tr><th scope=row>1</th><td>1</td><td>-0.35</td><td> 0.29</td><td>loquat</td><td>#d35400</td></tr>\n",
       "\t<tr><th scope=row>2</th><td>2</td><td> 0.06</td><td> 0.78</td><td>fig   </td><td>#2980b9</td></tr>\n",
       "\t<tr><th scope=row>3</th><td>3</td><td>-0.84</td><td> 0.26</td><td>raisin</td><td>#2ecc71</td></tr>\n",
       "\t<tr><th scope=row>4</th><td>4</td><td> 0.63</td><td>-0.03</td><td>banana</td><td>#f1c40f</td></tr>\n",
       "\t<tr><th scope=row>5</th><td>5</td><td> 0.12</td><td>-1.35</td><td>date  </td><td>#2c3e50</td></tr>\n",
       "\t<tr><th scope=row>6</th><td>6</td><td> 0.41</td><td>-0.40</td><td>grape </td><td>#7f8c8d</td></tr>\n",
       "</tbody>\n",
       "</table>\n"
      ],
      "text/latex": [
       "A data.frame: 6 × 5\n",
       "\\begin{tabular}{r|lllll}\n",
       "  & t & x & y & name & color\\\\\n",
       "  & <int> & <dbl> & <dbl> & <chr> & <chr>\\\\\n",
       "\\hline\n",
       "\t1 & 1 & -0.35 &  0.29 & loquat & \\#d35400\\\\\n",
       "\t2 & 2 &  0.06 &  0.78 & fig    & \\#2980b9\\\\\n",
       "\t3 & 3 & -0.84 &  0.26 & raisin & \\#2ecc71\\\\\n",
       "\t4 & 4 &  0.63 & -0.03 & banana & \\#f1c40f\\\\\n",
       "\t5 & 5 &  0.12 & -1.35 & date   & \\#2c3e50\\\\\n",
       "\t6 & 6 &  0.41 & -0.40 & grape  & \\#7f8c8d\\\\\n",
       "\\end{tabular}\n"
      ],
      "text/markdown": [
       "\n",
       "A data.frame: 6 × 5\n",
       "\n",
       "| <!--/--> | t &lt;int&gt; | x &lt;dbl&gt; | y &lt;dbl&gt; | name &lt;chr&gt; | color &lt;chr&gt; |\n",
       "|---|---|---|---|---|---|\n",
       "| 1 | 1 | -0.35 |  0.29 | loquat | #d35400 |\n",
       "| 2 | 2 |  0.06 |  0.78 | fig    | #2980b9 |\n",
       "| 3 | 3 | -0.84 |  0.26 | raisin | #2ecc71 |\n",
       "| 4 | 4 |  0.63 | -0.03 | banana | #f1c40f |\n",
       "| 5 | 5 |  0.12 | -1.35 | date   | #2c3e50 |\n",
       "| 6 | 6 |  0.41 | -0.40 | grape  | #7f8c8d |\n",
       "\n"
      ],
      "text/plain": [
       "  t x     y     name   color  \n",
       "1 1 -0.35  0.29 loquat #d35400\n",
       "2 2  0.06  0.78 fig    #2980b9\n",
       "3 3 -0.84  0.26 raisin #2ecc71\n",
       "4 4  0.63 -0.03 banana #f1c40f\n",
       "5 5  0.12 -1.35 date   #2c3e50\n",
       "6 6  0.41 -0.40 grape  #7f8c8d"
      ]
     },
     "metadata": {},
     "output_type": "display_data"
    }
   ],
   "source": [
    "n<-24\n",
    "colors<-c(\"#d35400\",\"#2980b9\",\"#2ecc71\",\"#f1c40f\",\"#2c3e50\",\"#7f8c8d\",\n",
    "         \"#000004\",\"#3B0F70\",\"#8C2981\",\"#DE4968\",\"#FE9F6D\",\"#FCFDBF\")\n",
    "df<-data.frame(t=seq_len(n)) %>% \n",
    "  mutate(\n",
    "    x=round((cos(4*t))*cos(t),2),\n",
    "    y=round((1+cos(4*t))*sin(t),2),\n",
    "    name=sample(fruit[str_length(fruit)<=6],size=n),\n",
    "    color=rep(colors,length.out=n))\n",
    "head(df)"
   ]
  },
  {
   "cell_type": "code",
   "execution_count": 11,
   "metadata": {
    "_kg_hide-output": true
   },
   "outputs": [
    {
     "data": {
      "text/html": [
       "<table>\n",
       "<caption>A matrix: 9 × 3 of type chr</caption>\n",
       "<thead>\n",
       "\t<tr><th></th><th scope=col>1</th><th scope=col>2</th><th scope=col>3</th></tr>\n",
       "</thead>\n",
       "<tbody>\n",
       "\t<tr><th scope=row>rank</th><td>1       </td><td>2       </td><td>3       </td></tr>\n",
       "\t<tr><th scope=row>city</th><td>Tokyo   </td><td>Delhi   </td><td>Shanghai</td></tr>\n",
       "\t<tr><th scope=row>country</th><td>Japan   </td><td>India   </td><td>China   </td></tr>\n",
       "\t<tr><th scope=row>y_2014</th><td>37833000</td><td>24953000</td><td>22991000</td></tr>\n",
       "\t<tr><th scope=row>y_1990</th><td>32530000</td><td> 9726000</td><td> 7823000</td></tr>\n",
       "\t<tr><th scope=row>growth</th><td> 16.30  </td><td>156.56  </td><td>193.89  </td></tr>\n",
       "\t<tr><th scope=row>country_code</th><td>JPN     </td><td>IND     </td><td>CHN     </td></tr>\n",
       "\t<tr><th scope=row>latitude</th><td>35.6895 </td><td>28.7041 </td><td>31.2304 </td></tr>\n",
       "\t<tr><th scope=row>longitude</th><td>139.6917</td><td> 77.1025</td><td>121.4737</td></tr>\n",
       "</tbody>\n",
       "</table>\n"
      ],
      "text/latex": [
       "A matrix: 9 × 3 of type chr\n",
       "\\begin{tabular}{r|lll}\n",
       "  & 1 & 2 & 3\\\\\n",
       "\\hline\n",
       "\trank & 1        & 2        & 3       \\\\\n",
       "\tcity & Tokyo    & Delhi    & Shanghai\\\\\n",
       "\tcountry & Japan    & India    & China   \\\\\n",
       "\ty\\_2014 & 37833000 & 24953000 & 22991000\\\\\n",
       "\ty\\_1990 & 32530000 &  9726000 &  7823000\\\\\n",
       "\tgrowth &  16.30   & 156.56   & 193.89  \\\\\n",
       "\tcountry\\_code & JPN      & IND      & CHN     \\\\\n",
       "\tlatitude & 35.6895  & 28.7041  & 31.2304 \\\\\n",
       "\tlongitude & 139.6917 &  77.1025 & 121.4737\\\\\n",
       "\\end{tabular}\n"
      ],
      "text/markdown": [
       "\n",
       "A matrix: 9 × 3 of type chr\n",
       "\n",
       "| <!--/--> | 1 | 2 | 3 |\n",
       "|---|---|---|---|\n",
       "| rank | 1        | 2        | 3        |\n",
       "| city | Tokyo    | Delhi    | Shanghai |\n",
       "| country | Japan    | India    | China    |\n",
       "| y_2014 | 37833000 | 24953000 | 22991000 |\n",
       "| y_1990 | 32530000 |  9726000 |  7823000 |\n",
       "| growth |  16.30   | 156.56   | 193.89   |\n",
       "| country_code | JPN      | IND      | CHN      |\n",
       "| latitude | 35.6895  | 28.7041  | 31.2304  |\n",
       "| longitude | 139.6917 |  77.1025 | 121.4737 |\n",
       "\n"
      ],
      "text/plain": [
       "             1        2        3       \n",
       "rank         1        2        3       \n",
       "city         Tokyo    Delhi    Shanghai\n",
       "country      Japan    India    China   \n",
       "y_2014       37833000 24953000 22991000\n",
       "y_1990       32530000  9726000  7823000\n",
       "growth        16.30   156.56   193.89  \n",
       "country_code JPN      IND      CHN     \n",
       "latitude     35.6895  28.7041  31.2304 \n",
       "longitude    139.6917  77.1025 121.4737"
      ]
     },
     "metadata": {},
     "output_type": "display_data"
    }
   ],
   "source": [
    "fp<-'https://olgabelitskaya.github.io/huge_cities.tsv'\n",
    "hcity<-data.frame(read.csv(fp,header=T,sep='\\t'))\n",
    "t(head(hcity,3))"
   ]
  }
 ],
 "metadata": {
  "kernelspec": {
   "display_name": "R",
   "language": "R",
   "name": "ir"
  },
  "language_info": {
   "codemirror_mode": "r",
   "file_extension": ".r",
   "mimetype": "text/x-r-source",
   "name": "R",
   "pygments_lexer": "r",
   "version": "3.6.3"
  }
 },
 "nbformat": 4,
 "nbformat_minor": 4
}
