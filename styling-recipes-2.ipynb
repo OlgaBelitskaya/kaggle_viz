{
 "cells": [
  {
   "cell_type": "markdown",
   "metadata": {
    "papermill": {
     "duration": 0.017381,
     "end_time": "2020-12-02T08:51:03.721315",
     "exception": false,
     "start_time": "2020-12-02T08:51:03.703934",
     "status": "completed"
    },
    "tags": []
   },
   "source": [
    "[📑 My Observable Exercises](https://observablehq.com/@olgabelitskaya?tab=notebooks)"
   ]
  },
  {
   "cell_type": "code",
   "execution_count": 1,
   "metadata": {
    "_kg_hide-input": true,
    "execution": {
     "iopub.execute_input": "2020-12-02T08:51:03.757070Z",
     "iopub.status.busy": "2020-12-02T08:51:03.756282Z",
     "iopub.status.idle": "2020-12-02T08:51:03.787852Z",
     "shell.execute_reply": "2020-12-02T08:51:03.788486Z"
    },
    "papermill": {
     "duration": 0.052912,
     "end_time": "2020-12-02T08:51:03.788677",
     "exception": false,
     "start_time": "2020-12-02T08:51:03.735765",
     "status": "completed"
    },
    "tags": []
   },
   "outputs": [
    {
     "data": {
      "text/html": [
       "<style>\n",
       "    @import 'https://fonts.googleapis.com/css?family=Akronim&effect=3d-float';</style>\n",
       "    <h1 class='font-effect-3d-float' \n",
       "    style='font-family:Akronim; color:#ff36ff; font-size:30px;'>\n",
       "    Code Modules & Element Classes</h1>"
      ],
      "text/plain": [
       "<IPython.core.display.HTML object>"
      ]
     },
     "metadata": {},
     "output_type": "display_data"
    }
   ],
   "source": [
    "%run ../input/python-recipes/dhtml.py\n",
    "dhtml('Code Modules & Element Classes','#ff36ff',f2,fs8)"
   ]
  },
  {
   "cell_type": "code",
   "execution_count": 2,
   "metadata": {
    "_kg_hide-input": true,
    "execution": {
     "iopub.execute_input": "2020-12-02T08:51:03.827530Z",
     "iopub.status.busy": "2020-12-02T08:51:03.826391Z",
     "iopub.status.idle": "2020-12-02T08:51:03.831469Z",
     "shell.execute_reply": "2020-12-02T08:51:03.830728Z"
    },
    "papermill": {
     "duration": 0.027153,
     "end_time": "2020-12-02T08:51:03.831618",
     "exception": false,
     "start_time": "2020-12-02T08:51:03.804465",
     "status": "completed"
    },
    "tags": []
   },
   "outputs": [
    {
     "name": "stdout",
     "output_type": "stream",
     "text": [
      "Writing cidhtml.py\n"
     ]
    }
   ],
   "source": [
    "%%writefile cidhtml.py\n",
    "from IPython.display import display,HTML\n",
    "import random \n",
    "\n",
    "f1,f2,f3,f4,f5,f6,f7,f8,f9=\\\n",
    "'Smokum','Akronim','Wallpoet','Orbitron','Ewert',\\\n",
    "'Lobster','Roboto','Miss Fajardose','Monoton'\n",
    "fs1,fs2,fs3,fs4,fs5,fs6,fs7,fs8,fs9,fs10,fs11=\\\n",
    "10,12,14,16,18,20,22,24,26,28,30\n",
    "\n",
    "def chtml(string,fontcolor='#ff36ff',font=f2,fontsize=fs9):\n",
    "    style_str=\"\"\"<style>@import \"\"\"+\\\n",
    "    \"\"\"'https://fonts.googleapis.com/css?family=\"\"\"+font+\\\n",
    "    \"\"\"'; .colored_font {color:\"\"\"+fontcolor+\\\n",
    "    \"\"\"; font-family:\"\"\"+font+\\\n",
    "    \"\"\"; font-size:\"\"\"+str(fontsize)+\"\"\"px;}</style>\"\"\"\n",
    "    h_str=\"\"\"<h1 class='colored_font'>\"\"\"+string+\"\"\"</h1>\"\"\"\n",
    "    display(HTML(style_str+h_str))\n",
    "    \n",
    "def idhtml(string,fontcolor='darkslategray',font=f5,fontsize=fs5):\n",
    "    randi=random.randint(1,999999999)\n",
    "    style_str=\"\"\"<style>@import \"\"\"+\\\n",
    "    \"\"\"'https://fonts.googleapis.com/css?family=\"\"\"+font+\\\n",
    "    \"\"\"'; #colored_font\"\"\"+str(randi)+\\\n",
    "    \"\"\" {color:\"\"\"+fontcolor+\\\n",
    "    \"\"\"; font-family:\"\"\"+font+\\\n",
    "    \"\"\"; font-size:\"\"\"+str(fontsize)+\"\"\"px;}</style>\"\"\"\n",
    "    h_str=\"\"\"<h1 id='colored_font\"\"\"+str(randi)+\\\n",
    "    \"\"\"'>\"\"\"+string+\"\"\"</h1>\"\"\"\n",
    "    script_str=\"\"\"<script>\"\"\"+\\\n",
    "    \"\"\"var idc=setInterval(function() {\"\"\"+\\\n",
    "    \"\"\"var iddoc=document.getElementById(\"\"\"+\\\n",
    "    \"\"\"'colored_font\"\"\"+str(randi)+\"\"\"'); \"\"\"+\\\n",
    "    \"\"\"var now=new Date().getTime(); \"\"\"+\\\n",
    "    \"\"\"var sec=Math.floor((now%(1000*60))/1000); \"\"\"+\\\n",
    "    \"\"\"var col='rgb('+(5+Math.abs(245-8*sec))+',0,'\"\"\"+\\\n",
    "    \"\"\"+(250-Math.abs(245-8*sec))+')'; \"\"\"+\\\n",
    "    \"\"\"iddoc.style.color=col;},1000);</\"\"\"+\"\"\"script>\"\"\"\n",
    "    display(HTML(style_str+h_str+script_str))"
   ]
  },
  {
   "cell_type": "code",
   "execution_count": 3,
   "metadata": {
    "execution": {
     "iopub.execute_input": "2020-12-02T08:51:03.870880Z",
     "iopub.status.busy": "2020-12-02T08:51:03.869687Z",
     "iopub.status.idle": "2020-12-02T08:51:03.876705Z",
     "shell.execute_reply": "2020-12-02T08:51:03.877332Z"
    },
    "papermill": {
     "duration": 0.029656,
     "end_time": "2020-12-02T08:51:03.877490",
     "exception": false,
     "start_time": "2020-12-02T08:51:03.847834",
     "status": "completed"
    },
    "tags": []
   },
   "outputs": [
    {
     "data": {
      "text/html": [
       "<style>@import 'https://fonts.googleapis.com/css?family=Akronim'; .colored_font {color:#ff36ff; font-family:Akronim; font-size:26px;}</style><h1 class='colored_font'>Style Applying to Classes of Elements</h1>"
      ],
      "text/plain": [
       "<IPython.core.display.HTML object>"
      ]
     },
     "metadata": {},
     "output_type": "display_data"
    },
    {
     "data": {
      "text/html": [
       "<style>@import 'https://fonts.googleapis.com/css?family=Ewert'; #colored_font607403551 {color:darkslategray; font-family:Ewert; font-size:18px;}</style><h1 id='colored_font607403551'>Style Applying to Id of Elements</h1><script>var idc=setInterval(function() {var iddoc=document.getElementById('colored_font607403551'); var now=new Date().getTime(); var sec=Math.floor((now%(1000*60))/1000); var col='rgb('+(5+Math.abs(245-8*sec))+',0,'+(250-Math.abs(245-8*sec))+')'; iddoc.style.color=col;},1000);</script>"
      ],
      "text/plain": [
       "<IPython.core.display.HTML object>"
      ]
     },
     "metadata": {},
     "output_type": "display_data"
    }
   ],
   "source": [
    "%run cidhtml.py\n",
    "#looks fine in the working space\n",
    "chtml('Style Applying to Classes of Elements')\n",
    "#looks fine in the working space and after the notebook execution\n",
    "idhtml('Style Applying to Id of Elements')"
   ]
  },
  {
   "cell_type": "code",
   "execution_count": 4,
   "metadata": {
    "_kg_hide-input": true,
    "execution": {
     "iopub.execute_input": "2020-12-02T08:51:03.918069Z",
     "iopub.status.busy": "2020-12-02T08:51:03.917079Z",
     "iopub.status.idle": "2020-12-02T08:51:03.921213Z",
     "shell.execute_reply": "2020-12-02T08:51:03.921727Z"
    },
    "papermill": {
     "duration": 0.027041,
     "end_time": "2020-12-02T08:51:03.921882",
     "exception": false,
     "start_time": "2020-12-02T08:51:03.894841",
     "status": "completed"
    },
    "tags": []
   },
   "outputs": [
    {
     "data": {
      "text/html": [
       "<style>\n",
       "    @import 'https://fonts.googleapis.com/css?family=Akronim&effect=3d-float';</style>\n",
       "    <h1 class='font-effect-3d-float' \n",
       "    style='font-family:Akronim; color:#ff36ff; font-size:24px;'>\n",
       "    Animated Markdown Cells</h1>"
      ],
      "text/plain": [
       "<IPython.core.display.HTML object>"
      ]
     },
     "metadata": {},
     "output_type": "display_data"
    }
   ],
   "source": [
    "dhtml('Animated Markdown Cells','#ff36ff',f2,fs8)"
   ]
  },
  {
   "cell_type": "code",
   "execution_count": 5,
   "metadata": {
    "_kg_hide-input": true,
    "execution": {
     "iopub.execute_input": "2020-12-02T08:51:03.965825Z",
     "iopub.status.busy": "2020-12-02T08:51:03.964842Z",
     "iopub.status.idle": "2020-12-02T08:51:03.969633Z",
     "shell.execute_reply": "2020-12-02T08:51:03.968890Z"
    },
    "papermill": {
     "duration": 0.029713,
     "end_time": "2020-12-02T08:51:03.969765",
     "exception": false,
     "start_time": "2020-12-02T08:51:03.940052",
     "status": "completed"
    },
    "tags": []
   },
   "outputs": [
    {
     "data": {
      "application/javascript": [
       "var t=setInterval(function() {\n",
       "  var doc=document.getElementById('simple_timer');\n",
       "  var now=new Date().getTime();\n",
       "  var sec=Math.floor((now%(1000*60))/1000);\n",
       "  doc.innerHTML='now '+now;\n",
       "  doc.style.color='rgb('+4*(sec+1)+',0,'+4*(sec+1)+')'},1000);\n",
       "\n",
       "var tc=setInterval(function() {\n",
       "  var doc=document.getElementById('colored_time');\n",
       "  var now=new Date().getTime();\n",
       "  var sec=Math.floor((now%(1000*60))/1000);\n",
       "  var col='rgb('+4*(sec+1)+',0,'+4*(sec+1)+')';\n",
       "  doc.style.color=col},1000);\n",
       "\n",
       "var countDownDate=new Date('Jan 1, 2021 00:00:00').getTime();\n",
       "\n",
       "var cdd=setInterval(function() {\n",
       "  var doc=document.getElementById('new_year_countdown');\n",
       "  var now=new Date().getTime();\n",
       "  var distance=countDownDate-now;\n",
       "  var days=Math.floor(distance/(1000*60*60*24)),\n",
       "      hours=Math.floor((distance%(1000*60*60*24))/(1000*60*60)),\n",
       "      minutes=Math.floor((distance%(1000*60*60))/(1000 * 60)),\n",
       "      seconds=Math.floor((distance%(1000*60))/1000);\n",
       "  doc.innerHTML=days+' days '+hours+' hours '+minutes+\n",
       "                ' minutes '+seconds+' seconds';\n",
       "  if (distance<0) {\n",
       "    clearInterval(x); doc.innerHTML='Happy New Year!';}},1000);\n"
      ],
      "text/plain": [
       "<IPython.core.display.Javascript object>"
      ]
     },
     "metadata": {},
     "output_type": "display_data"
    }
   ],
   "source": [
    "%%javascript\n",
    "var t=setInterval(function() {\n",
    "  var doc=document.getElementById('simple_timer');\n",
    "  var now=new Date().getTime();\n",
    "  var sec=Math.floor((now%(1000*60))/1000);\n",
    "  doc.innerHTML='now '+now;\n",
    "  doc.style.color='rgb('+4*(sec+1)+',0,'+4*(sec+1)+')'},1000);\n",
    "\n",
    "var tc=setInterval(function() {\n",
    "  var doc=document.getElementById('colored_time');\n",
    "  var now=new Date().getTime();\n",
    "  var sec=Math.floor((now%(1000*60))/1000);\n",
    "  var col='rgb('+4*(sec+1)+',0,'+4*(sec+1)+')';\n",
    "  doc.style.color=col},1000);\n",
    "\n",
    "var countDownDate=new Date('Jan 1, 2021 00:00:00').getTime();\n",
    "\n",
    "var cdd=setInterval(function() {\n",
    "  var doc=document.getElementById('new_year_countdown');\n",
    "  var now=new Date().getTime();\n",
    "  var distance=countDownDate-now;\n",
    "  var days=Math.floor(distance/(1000*60*60*24)),\n",
    "      hours=Math.floor((distance%(1000*60*60*24))/(1000*60*60)),\n",
    "      minutes=Math.floor((distance%(1000*60*60))/(1000 * 60)),\n",
    "      seconds=Math.floor((distance%(1000*60))/1000);\n",
    "  doc.innerHTML=days+' days '+hours+' hours '+minutes+\n",
    "                ' minutes '+seconds+' seconds';\n",
    "  if (distance<0) {\n",
    "    clearInterval(x); doc.innerHTML='Happy New Year!';}},1000);"
   ]
  },
  {
   "cell_type": "markdown",
   "metadata": {
    "papermill": {
     "duration": 0.018751,
     "end_time": "2020-12-02T08:51:04.007612",
     "exception": false,
     "start_time": "2020-12-02T08:51:03.988861",
     "status": "completed"
    },
    "tags": []
   },
   "source": [
    "<p id='colored_time'>This Markdown element has id='colored_time'.</p>\n",
    "\n",
    "🕒 <<<<< Simple Timer >>>>> 🕒 <p id='simple_timer'></p>\n",
    "\n",
    "🕒 <<<<< New Year Countdown >>>>> 🕒 <p id='new_year_countdown'></p>"
   ]
  },
  {
   "cell_type": "code",
   "execution_count": 6,
   "metadata": {
    "_kg_hide-input": true,
    "execution": {
     "iopub.execute_input": "2020-12-02T08:51:04.052539Z",
     "iopub.status.busy": "2020-12-02T08:51:04.051455Z",
     "iopub.status.idle": "2020-12-02T08:51:04.054868Z",
     "shell.execute_reply": "2020-12-02T08:51:04.055453Z"
    },
    "papermill": {
     "duration": 0.028827,
     "end_time": "2020-12-02T08:51:04.055605",
     "exception": false,
     "start_time": "2020-12-02T08:51:04.026778",
     "status": "completed"
    },
    "tags": []
   },
   "outputs": [
    {
     "data": {
      "text/html": [
       "<style>\n",
       "@import url('https://fonts.googleapis.com/css?family=Ewert');\n",
       ".animated {\n",
       "    background-color:silver; font-family:'Ewert'; \n",
       "    color:#ff36ff; text-align:center; font-size:20px; \n",
       "    border-radius:15px; padding:10px; width:350px; \n",
       "    transition:all 0.8s; cursor:pointer; margin:2px;}\n",
       ".animated span {\n",
       "    cursor:pointer; display:inline-block; \n",
       "    position: relative; transition:0.8s;}\n",
       ".animated span:after {\n",
       "    content:'\\22d9'; position:absolute; \n",
       "    opacity:0; top:0; right:-10px; transition:0.8s;}\n",
       ".animated:hover span {padding-right:15px;}\n",
       ".animated:hover span:after {opacity:1; mright:0;}\n",
       "</style>\n"
      ],
      "text/plain": [
       "<IPython.core.display.HTML object>"
      ]
     },
     "metadata": {},
     "output_type": "display_data"
    }
   ],
   "source": [
    "%%html\n",
    "<style>\n",
    "@import url('https://fonts.googleapis.com/css?family=Ewert');\n",
    ".animated {\n",
    "    background-color:silver; font-family:'Ewert'; \n",
    "    color:#ff36ff; text-align:center; font-size:20px; \n",
    "    border-radius:15px; padding:10px; width:350px; \n",
    "    transition:all 0.8s; cursor:pointer; margin:2px;}\n",
    ".animated span {\n",
    "    cursor:pointer; display:inline-block; \n",
    "    position: relative; transition:0.8s;}\n",
    ".animated span:after {\n",
    "    content:'\\22d9'; position:absolute; \n",
    "    opacity:0; top:0; right:-10px; transition:0.8s;}\n",
    ".animated:hover span {padding-right:15px;}\n",
    ".animated:hover span:after {opacity:1; mright:0;}\n",
    "</style>"
   ]
  },
  {
   "cell_type": "markdown",
   "metadata": {
    "papermill": {
     "duration": 0.019466,
     "end_time": "2020-12-02T08:51:04.094965",
     "exception": false,
     "start_time": "2020-12-02T08:51:04.075499",
     "status": "completed"
    },
    "tags": []
   },
   "source": [
    "<button class='animated'><span>Animated Button</span></button>"
   ]
  },
  {
   "cell_type": "code",
   "execution_count": 7,
   "metadata": {
    "_kg_hide-input": true,
    "execution": {
     "iopub.execute_input": "2020-12-02T08:51:04.141116Z",
     "iopub.status.busy": "2020-12-02T08:51:04.140060Z",
     "iopub.status.idle": "2020-12-02T08:51:04.145481Z",
     "shell.execute_reply": "2020-12-02T08:51:04.144739Z"
    },
    "papermill": {
     "duration": 0.030904,
     "end_time": "2020-12-02T08:51:04.145604",
     "exception": false,
     "start_time": "2020-12-02T08:51:04.114700",
     "status": "completed"
    },
    "tags": []
   },
   "outputs": [
    {
     "data": {
      "text/html": [
       "<style>\n",
       "    @import 'https://fonts.googleapis.com/css?family=Akronim&effect=3d-float';</style>\n",
       "    <h1 class='font-effect-3d-float' \n",
       "    style='font-family:Akronim; color:#ff36ff; font-size:24px;'>\n",
       "    Animated Code Outputs</h1>"
      ],
      "text/plain": [
       "<IPython.core.display.HTML object>"
      ]
     },
     "metadata": {},
     "output_type": "display_data"
    }
   ],
   "source": [
    "dhtml('Animated Code Outputs','#ff36ff',f2,fs8)"
   ]
  },
  {
   "cell_type": "code",
   "execution_count": 8,
   "metadata": {
    "_kg_hide-input": true,
    "execution": {
     "iopub.execute_input": "2020-12-02T08:51:04.193606Z",
     "iopub.status.busy": "2020-12-02T08:51:04.192455Z",
     "iopub.status.idle": "2020-12-02T08:51:04.198069Z",
     "shell.execute_reply": "2020-12-02T08:51:04.197081Z"
    },
    "papermill": {
     "duration": 0.031887,
     "end_time": "2020-12-02T08:51:04.198263",
     "exception": false,
     "start_time": "2020-12-02T08:51:04.166376",
     "status": "completed"
    },
    "tags": []
   },
   "outputs": [
    {
     "name": "stdout",
     "output_type": "stream",
     "text": [
      "Writing example000.html\n"
     ]
    }
   ],
   "source": [
    "%%writefile example000.html\n",
    "<script src='https://d3js.org/d3.v6.min.js'></script>\n",
    "<style>\n",
    "@import 'https://fonts.googleapis.com/css?family=Ewert';\n",
    ".gewert {font-family:Ewert; color:white; text-align:center; width:99%;}\n",
    "</style>\n",
    "<h3 id='colorized1' class='gewert'>Color Interpolation in Text Displaying</h3>\n",
    "<h3 id='colorized2' class='gewert'>Background Interpolation in Text Displaying</h3>\n",
    "<script>\n",
    "var tc=setInterval(function() {\n",
    "    var now=new Date().getTime();\n",
    "    var iddoc1=document.getElementById('colorized1');\n",
    "    var iddoc2=document.getElementById('colorized2');\n",
    "    iddoc1.style.color=d3.interpolateSinebow(now/1000);\n",
    "    iddoc2.style.background=d3.interpolateRainbow(now/60000);},1)\n",
    "</script>"
   ]
  },
  {
   "cell_type": "code",
   "execution_count": 9,
   "metadata": {
    "execution": {
     "iopub.execute_input": "2020-12-02T08:51:04.249256Z",
     "iopub.status.busy": "2020-12-02T08:51:04.248300Z",
     "iopub.status.idle": "2020-12-02T08:51:04.252967Z",
     "shell.execute_reply": "2020-12-02T08:51:04.252278Z"
    },
    "papermill": {
     "duration": 0.032084,
     "end_time": "2020-12-02T08:51:04.253108",
     "exception": false,
     "start_time": "2020-12-02T08:51:04.221024",
     "status": "completed"
    },
    "tags": []
   },
   "outputs": [
    {
     "data": {
      "text/html": [
       "\n",
       "        <iframe\n",
       "            width=\"650\"\n",
       "            height=\"100\"\n",
       "            src=\"example000.html\"\n",
       "            frameborder=\"0\"\n",
       "            allowfullscreen\n",
       "        ></iframe>\n",
       "        "
      ],
      "text/plain": [
       "<IPython.lib.display.IFrame at 0x7f4f45336b50>"
      ]
     },
     "execution_count": 9,
     "metadata": {},
     "output_type": "execute_result"
    }
   ],
   "source": [
    "from IPython.display import IFrame\n",
    "IFrame(src='example000.html',width=650,height=100)"
   ]
  },
  {
   "cell_type": "code",
   "execution_count": 10,
   "metadata": {
    "_kg_hide-input": true,
    "execution": {
     "iopub.execute_input": "2020-12-02T08:51:04.304391Z",
     "iopub.status.busy": "2020-12-02T08:51:04.303263Z",
     "iopub.status.idle": "2020-12-02T08:51:04.306960Z",
     "shell.execute_reply": "2020-12-02T08:51:04.307598Z"
    },
    "papermill": {
     "duration": 0.032776,
     "end_time": "2020-12-02T08:51:04.307759",
     "exception": false,
     "start_time": "2020-12-02T08:51:04.274983",
     "status": "completed"
    },
    "tags": []
   },
   "outputs": [
    {
     "name": "stdout",
     "output_type": "stream",
     "text": [
      "Writing example001.html\n"
     ]
    }
   ],
   "source": [
    "%%writefile example001.html\n",
    "<script src='https://d3js.org/d3.v6.min.js'></script>\n",
    "run <button style='background:silver; width:200px; height:25px'\n",
    "onclick='draw_circles();' id='interpolate_button'>\n",
    "=>>></button><br/><br/>\n",
    "<svg id='svg016'></svg>\n",
    "<script>\n",
    "function draw_circles() {\n",
    "var cols={1:'silver',2:'#ff36ff'};\n",
    "var svg=d3.select('#svg016')\n",
    "          .attr('width',300).attr('height',300);\n",
    "svg.selectAll('circle').remove();\n",
    "svg.selectAll('text').remove();\n",
    "for (var i=1; i<7; i++) {\n",
    "    svg.append('circle').attr('id','c'+i)\n",
    "      .attr('transform','translate(150,150)')\n",
    "      .attr('cx',0).attr('cy',0).attr('r',140-i*20)\n",
    "      .attr('stroke','silver').attr('stroke-width',3)\n",
    "      .attr('fill-opacity',.1*i)\n",
    "      .transition().duration(10000)\n",
    "      .styleTween('fill',function() {\n",
    "          return d3.interpolateHsl(cols[1],cols[2]);});\n",
    "    svg.append('text').text('COLOR')\n",
    "       .attr('transform','translate(25,25)')\n",
    "       .attr('x',0).attr('y',0).attr('fill','siver')\n",
    "       .transition().duration(10000)\n",
    "       .styleTween('fill',function() {\n",
    "          return d3.interpolateHsl(cols[2],cols[1]);});\n",
    "};};</script>"
   ]
  },
  {
   "cell_type": "code",
   "execution_count": 11,
   "metadata": {
    "execution": {
     "iopub.execute_input": "2020-12-02T08:51:04.360220Z",
     "iopub.status.busy": "2020-12-02T08:51:04.359155Z",
     "iopub.status.idle": "2020-12-02T08:51:04.363666Z",
     "shell.execute_reply": "2020-12-02T08:51:04.362977Z"
    },
    "papermill": {
     "duration": 0.033169,
     "end_time": "2020-12-02T08:51:04.363789",
     "exception": false,
     "start_time": "2020-12-02T08:51:04.330620",
     "status": "completed"
    },
    "tags": []
   },
   "outputs": [
    {
     "data": {
      "text/html": [
       "\n",
       "        <iframe\n",
       "            width=\"350\"\n",
       "            height=\"370\"\n",
       "            src=\"example001.html\"\n",
       "            frameborder=\"0\"\n",
       "            allowfullscreen\n",
       "        ></iframe>\n",
       "        "
      ],
      "text/plain": [
       "<IPython.lib.display.IFrame at 0x7f4f4533b610>"
      ]
     },
     "execution_count": 11,
     "metadata": {},
     "output_type": "execute_result"
    }
   ],
   "source": [
    "from IPython.display import IFrame\n",
    "IFrame(src='example001.html',width=350,height=370)"
   ]
  },
  {
   "cell_type": "code",
   "execution_count": 12,
   "metadata": {
    "_kg_hide-input": true,
    "execution": {
     "iopub.execute_input": "2020-12-02T08:51:04.419507Z",
     "iopub.status.busy": "2020-12-02T08:51:04.418577Z",
     "iopub.status.idle": "2020-12-02T08:51:04.422684Z",
     "shell.execute_reply": "2020-12-02T08:51:04.423357Z"
    },
    "papermill": {
     "duration": 0.035895,
     "end_time": "2020-12-02T08:51:04.423520",
     "exception": false,
     "start_time": "2020-12-02T08:51:04.387625",
     "status": "completed"
    },
    "tags": []
   },
   "outputs": [
    {
     "name": "stdout",
     "output_type": "stream",
     "text": [
      "Writing example002.html\n"
     ]
    }
   ],
   "source": [
    "%%writefile example002.html\n",
    "<script src='https://d3js.org/d3.v6.min.js'></script>\n",
    "number <select id='num_points' \n",
    "style='text-align:center; text-align-last:center; \n",
    "  background:silver; width:200px; height:25px'>\n",
    "    <option value='100'>100</option><option value='150'>150</option>\n",
    "    <option value='200'>200</option><option value='250'>250</option>\n",
    "    <option value='300'>300</option><option value='350'>350</option>\n",
    "</select><br/><br/>run &nbsp; &nbsp; &nbsp; &nbsp;\n",
    "<button style='background:silver; width:200px; height:25px'\n",
    "onclick='draw_chart();' id='run_button'>=>>></button><br/><br/>\n",
    "<svg id='svg015' style='background-color:silver;'></svg><script>\n",
    "margin={top:20,right:20,bottom:20,left:60},width=600,height=250;\n",
    "reveal=path=>\n",
    "path.transition().duration(10000).ease(d3.easeLinear)\n",
    "    .attrTween('stroke-dasharray',function() {\n",
    "      const length=this.getTotalLength();\n",
    "      return d3.interpolate(`0,${length}`,`${length},${length}`);});\n",
    "function draw_chart() {\n",
    "  var n=parseInt(document.getElementById('num_points').value);\n",
    "  var x=d3.scaleLinear().domain([0,n-1])\n",
    "          .range([margin.left,width-margin.right]),\n",
    "      y=d3.scaleLinear().domain([0,n])\n",
    "          .range([height-margin.bottom,margin.top]); \n",
    "  var line=d3.line().curve(d3.curveMonotoneX)\n",
    "           .x(function(d,i) {return x(i);})\n",
    "           .y(function(d) {return y(d.y);});\n",
    "  var data=d3.range(n).map(function(d) {\n",
    "      return {'y':d3.randomUniform(n)()}; })\n",
    "  var xAxis=(g,scale=x)=>g\n",
    "      .attr('transform',`translate(0,${height-margin.bottom})`)\n",
    "      .call(d3.axisBottom(scale)\n",
    "              .ticks(width/60).tickSizeOuter(0)),\n",
    "      yAxis=(g,scale=y)=>g\n",
    "      .attr('transform',`translate(${margin.left},0)`)\n",
    "      .call(d3.axisLeft(scale).ticks(height/40));\n",
    "  var svg=d3.select('#svg015')\n",
    "            .attr('width',width).attr('height',height);\n",
    "  svg.selectAll('g').remove(); svg.selectAll('path').remove();\n",
    "  svg.append('g').call(xAxis); svg.append('g').call(yAxis);\n",
    "  svg.append('path').datum(data).attr('d',line)\n",
    "     .attr('stroke','#ff36ff').attr('stroke-width',1)\n",
    "     .attr('stroke-miterlimit',1).attr('stroke-dasharray','0,1')\n",
    "     .attr('fill','none').call(reveal);};\n",
    "</script>"
   ]
  },
  {
   "cell_type": "code",
   "execution_count": 13,
   "metadata": {
    "_kg_hide-input": false,
    "execution": {
     "iopub.execute_input": "2020-12-02T08:51:04.478897Z",
     "iopub.status.busy": "2020-12-02T08:51:04.477832Z",
     "iopub.status.idle": "2020-12-02T08:51:04.482258Z",
     "shell.execute_reply": "2020-12-02T08:51:04.482782Z"
    },
    "papermill": {
     "duration": 0.035333,
     "end_time": "2020-12-02T08:51:04.482953",
     "exception": false,
     "start_time": "2020-12-02T08:51:04.447620",
     "status": "completed"
    },
    "tags": []
   },
   "outputs": [
    {
     "data": {
      "text/html": [
       "\n",
       "        <iframe\n",
       "            width=\"650\"\n",
       "            height=\"370\"\n",
       "            src=\"example002.html\"\n",
       "            frameborder=\"0\"\n",
       "            allowfullscreen\n",
       "        ></iframe>\n",
       "        "
      ],
      "text/plain": [
       "<IPython.lib.display.IFrame at 0x7f4f4533bf90>"
      ]
     },
     "execution_count": 13,
     "metadata": {},
     "output_type": "execute_result"
    }
   ],
   "source": [
    "from IPython.display import IFrame\n",
    "IFrame(src='example002.html',width=650,height=370)"
   ]
  },
  {
   "cell_type": "code",
   "execution_count": 14,
   "metadata": {
    "_kg_hide-input": true,
    "execution": {
     "iopub.execute_input": "2020-12-02T08:51:04.539729Z",
     "iopub.status.busy": "2020-12-02T08:51:04.538566Z",
     "iopub.status.idle": "2020-12-02T08:51:04.542842Z",
     "shell.execute_reply": "2020-12-02T08:51:04.542259Z"
    },
    "papermill": {
     "duration": 0.035239,
     "end_time": "2020-12-02T08:51:04.542977",
     "exception": false,
     "start_time": "2020-12-02T08:51:04.507738",
     "status": "completed"
    },
    "tags": []
   },
   "outputs": [
    {
     "name": "stdout",
     "output_type": "stream",
     "text": [
      "Writing example003.html\n"
     ]
    }
   ],
   "source": [
    "%%writefile example003.html\n",
    "<script src='https://d3js.org/d3.v6.min.js'></script>\n",
    "n <input type='number' id='n_frames' value=1\n",
    "style='width:120px; font-size:120%; color:#363636;\n",
    "background-color:silver; text-align:center;'/> \n",
    "m <input type='number' id='m_frames' value=15\n",
    "style='width:120px; font-size:120%; color:#363636;\n",
    "background-color:silver; text-align:center;'/>\n",
    "run =>>> <input type='button' onclick='draw_curves();' value='update'\n",
    "style='width:120px; font-size:120%; color:#363636;\n",
    "background-color:silver; text-align:center;'/><br/><br/>\n",
    "<svg id='svg014' style='background-color:silver;'></svg>\n",
    "<script>s=600;\n",
    "colors=['#3636ff','#ff3636','#ff36ff',\n",
    "        '#ffff36','#36ff36','#36ffff'];\n",
    "function subpoint(a,b,m) {\n",
    "  return [Math.floor(m/2)*(a[0]+b[0])/m,\n",
    "          Math.floor(m/2)*(a[1]+b[1])/m]};\n",
    "function subdivpoly(poly,m,iterations=1) {\n",
    "  var [p1,p2,p3]=poly,points=[];\n",
    "  var centroid=d3.polygonCentroid(poly);\n",
    "  if (iterations===0) {points.push(centroid);} \n",
    "  else {var subset1=[p1,subpoint(p1,p3,m),p2],\n",
    "            subset2=[p2,subpoint(p1,p3,m),p3];\n",
    "        points.push(...subdivpoly(subset1,m,iterations-1));\n",
    "        points.push(...subdivpoly(subset2,m,iterations-1));}\n",
    "  return points};\n",
    "function recursive_curve(len,m,iterations) {\n",
    "  var contour1=[[0,len],[0,0],[len,0]],\n",
    "      contour2=[[len,0],[len,len],[0,len]];\n",
    "  var half1=subdivpoly(contour1,m,iterations),\n",
    "      half2=subdivpoly(contour2,m,iterations);\n",
    "  return [...half1,...half2];};\n",
    "function draw_curves() {\n",
    "  var m=parseInt(document.getElementById('m_frames').value);\n",
    "  var n=parseInt(document.getElementById('n_frames').value);\n",
    "  var line=d3.line();\n",
    "  var svg=d3.select('#svg014').attr('width',s).attr('height',s);\n",
    "  svg.selectAll('path').remove();\n",
    "  svg.selectAll('.curve').data(colors).join('path')\n",
    "     .attr('d',(_,i)=>line(recursive_curve(s,m,i+n))+'z')\n",
    "     .style('stroke',d=>d).style('stroke-width',3)\n",
    "     .style('fill',d=>d).style('fill-opacity',.9)\n",
    "     .transition().duration(10000)\n",
    "     .style('fill',d=>d).style('fill-opacity',.02); };\n",
    "</script>"
   ]
  },
  {
   "cell_type": "code",
   "execution_count": 15,
   "metadata": {
    "execution": {
     "iopub.execute_input": "2020-12-02T08:51:04.600611Z",
     "iopub.status.busy": "2020-12-02T08:51:04.599791Z",
     "iopub.status.idle": "2020-12-02T08:51:04.603884Z",
     "shell.execute_reply": "2020-12-02T08:51:04.604424Z"
    },
    "papermill": {
     "duration": 0.036159,
     "end_time": "2020-12-02T08:51:04.604591",
     "exception": false,
     "start_time": "2020-12-02T08:51:04.568432",
     "status": "completed"
    },
    "tags": []
   },
   "outputs": [
    {
     "data": {
      "text/html": [
       "\n",
       "        <iframe\n",
       "            width=\"650\"\n",
       "            height=\"670\"\n",
       "            src=\"example003.html\"\n",
       "            frameborder=\"0\"\n",
       "            allowfullscreen\n",
       "        ></iframe>\n",
       "        "
      ],
      "text/plain": [
       "<IPython.lib.display.IFrame at 0x7f4f45343910>"
      ]
     },
     "execution_count": 15,
     "metadata": {},
     "output_type": "execute_result"
    }
   ],
   "source": [
    "from IPython.display import IFrame\n",
    "IFrame(src='example003.html',width=650,height=670)"
   ]
  }
 ],
 "metadata": {
  "kernelspec": {
   "display_name": "Python 3",
   "language": "python",
   "name": "python3"
  },
  "language_info": {
   "codemirror_mode": {
    "name": "ipython",
    "version": 3
   },
   "file_extension": ".py",
   "mimetype": "text/x-python",
   "name": "python",
   "nbconvert_exporter": "python",
   "pygments_lexer": "ipython3",
   "version": "3.7.6"
  },
  "papermill": {
   "duration": 6.648994,
   "end_time": "2020-12-02T08:51:04.738980",
   "environment_variables": {},
   "exception": null,
   "input_path": "__notebook__.ipynb",
   "output_path": "__notebook__.ipynb",
   "parameters": {},
   "start_time": "2020-12-02T08:50:58.089986",
   "version": "2.1.0"
  }
 },
 "nbformat": 4,
 "nbformat_minor": 4
}
