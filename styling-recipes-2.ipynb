{
 "cells": [
  {
   "cell_type": "markdown",
   "metadata": {
    "papermill": {
     "duration": 0.017299,
     "end_time": "2021-03-25T09:25:02.926189",
     "exception": false,
     "start_time": "2021-03-25T09:25:02.908890",
     "status": "completed"
    },
    "tags": []
   },
   "source": [
    "[📑 My Observable Exercises](https://observablehq.com/@olgabelitskaya?tab=notebooks)"
   ]
  },
  {
   "cell_type": "code",
   "execution_count": 1,
   "metadata": {
    "_kg_hide-input": true,
    "execution": {
     "iopub.execute_input": "2021-03-25T09:25:02.961152Z",
     "iopub.status.busy": "2021-03-25T09:25:02.960452Z",
     "iopub.status.idle": "2021-03-25T09:25:02.983351Z",
     "shell.execute_reply": "2021-03-25T09:25:02.982667Z"
    },
    "papermill": {
     "duration": 0.042833,
     "end_time": "2021-03-25T09:25:02.983468",
     "exception": false,
     "start_time": "2021-03-25T09:25:02.940635",
     "status": "completed"
    },
    "tags": []
   },
   "outputs": [
    {
     "data": {
      "text/html": [
       "<style>\n",
       "    @import 'https://fonts.googleapis.com/css?family=Akronim&effect=3d-float';</style>\n",
       "    <h1 class='font-effect-3d-float' \n",
       "    style='font-family:Akronim; color:#ff36ff; font-size:30px;'>\n",
       "    Code Modules & Element Classes</h1>"
      ],
      "text/plain": [
       "<IPython.core.display.HTML object>"
      ]
     },
     "metadata": {},
     "output_type": "display_data"
    }
   ],
   "source": [
    "%run ../input/python-recipes/dhtml.py\n",
    "dhtml('Code Modules & Element Classes','#ff36ff',f2,fs8)"
   ]
  },
  {
   "cell_type": "code",
   "execution_count": 2,
   "metadata": {
    "_kg_hide-input": true,
    "execution": {
     "iopub.execute_input": "2021-03-25T09:25:03.021850Z",
     "iopub.status.busy": "2021-03-25T09:25:03.020703Z",
     "iopub.status.idle": "2021-03-25T09:25:03.024480Z",
     "shell.execute_reply": "2021-03-25T09:25:03.025191Z"
    },
    "papermill": {
     "duration": 0.026078,
     "end_time": "2021-03-25T09:25:03.025338",
     "exception": false,
     "start_time": "2021-03-25T09:25:02.999260",
     "status": "completed"
    },
    "tags": []
   },
   "outputs": [
    {
     "name": "stdout",
     "output_type": "stream",
     "text": [
      "Writing cidhtml.py\n"
     ]
    }
   ],
   "source": [
    "%%writefile cidhtml.py\n",
    "from IPython.display import display,HTML\n",
    "import random\n",
    "\n",
    "f1,f2,f3,f4,f5,f6,f7,f8,f9=\\\n",
    "'Smokum','Akronim','Wallpoet','Orbitron','Ewert',\\\n",
    "'Lobster','Roboto','Miss Fajardose','Monoton'\n",
    "fs1,fs2,fs3,fs4,fs5,fs6,fs7,fs8,fs9,fs10,fs11=\\\n",
    "10,12,14,16,18,20,22,24,26,28,30\n",
    "\n",
    "def chtml(string,font_family=f2,font_size=fs9,font_color='#ff36ff'):\n",
    "    css_str=\"\"\"<style>@import \"\"\"+\\\n",
    "    \"\"\"'https://fonts.googleapis.com/css?family=\"\"\"+font_family+\"\"\"'; \n",
    "    .ch1 {color:\"\"\"+font_color+\"\"\"; font-family:\"\"\"+font_family+\"\"\"; \n",
    "    font-size:\"\"\"+str(font_size)+\"\"\"px;}</style>\"\"\"\n",
    "    h1_str=\"\"\"<h1 class='ch1'>\"\"\"+string+\"\"\"</h1>\"\"\"\n",
    "    display(HTML(css_str+h1_str))\n",
    "    \n",
    "def idhtml(string,font_family=f5,\n",
    "           font_size=fs5,font_color='darkslategray'):\n",
    "    randi=random.randint(1,999999999)\n",
    "    css_str=\"\"\"<style>@import \"\"\"+\\\n",
    "    \"\"\"'https://fonts.googleapis.com/css?family=\"\"\"+font_family+\"\"\"'; \n",
    "    #ch1_\"\"\"+str(randi)+\"\"\" {font-family:\"\"\"+font_family+\"\"\"; \n",
    "    color:\"\"\"+font_color+\"\"\"; font-size:\"\"\"+str(font_size)+\"\"\"px;}</style>\"\"\"\n",
    "    h1_str=\"\"\"<h1 id='ch1_\"\"\"+str(randi)+\"\"\"'>\"\"\"+string+\"\"\"</h1>\"\"\"\n",
    "    scr_str=\"\"\"<script>\n",
    "    var idc=setInterval(function() {\n",
    "        var iddoc=document.getElementById('ch1_\"\"\"+str(randi)+\"\"\"'), \n",
    "            sec=Math.floor(new Date().getTime()%60000/1000); \n",
    "        var col='rgb('+(5+Math.abs(245-8*sec))+',0,'+\n",
    "                (250-Math.abs(245-8*sec))+')';  \n",
    "        iddoc.style.color=col;}, 1000);</script>\"\"\"\n",
    "    display(HTML(css_str+h1_str+scr_str))\n",
    "    \n",
    "def whtml(string,background_color='black',padding=2,\n",
    "          font_family='Akronim',font_size_px=int(28),\n",
    "          deg=int(120),percent=[0,33,67,100],\n",
    "          colors=['magenta','orange','cyan','purple']):\n",
    "    randi=str(random.randint(1,999999999))\n",
    "    css_str=\"\"\"<style>@import 'https://fonts.googleapis.com/\"\"\"+\\\n",
    "    \"\"\"css?family=\"\"\"+font_family+\"\"\"';</style>\"\"\"\n",
    "    html_str=\"\"\"<div id='col_div\"\"\"+str(randi)+\"\"\"' \n",
    "    style='background:\"\"\"+background_color+\"\"\"; width:100%; \n",
    "    padding:\"\"\"+str(padding)+\"\"\"vw;'>\n",
    "    <div style='background:linear-gradient(\"\"\"+str(deg)+\"\"\"deg, \n",
    "    \"\"\"+colors[0]+\"\"\" \"\"\"+str(percent[0])+\"\"\"%,\n",
    "    \"\"\"+colors[1]+\"\"\" \"\"\"+str(percent[1])+\"\"\"%,\n",
    "    \"\"\"+colors[2]+\"\"\" \"\"\"+str(percent[2])+\"\"\"%,\n",
    "    \"\"\"+colors[3]+\"\"\" \"\"\"+str(percent[3])+\"\"\"%); \n",
    "    font-family:\"\"\"+font_family+\"\"\"; font-size:\"\"\"+str(font_size_px)+\"\"\"px; \n",
    "    -webkit-background-clip:text; color:transparent;'>\"\"\"+string+\"\"\"\n",
    "    </div></div>\"\"\"\n",
    "    display(HTML(css_str+html_str))"
   ]
  },
  {
   "cell_type": "code",
   "execution_count": 3,
   "metadata": {
    "_kg_hide-input": true,
    "execution": {
     "iopub.execute_input": "2021-03-25T09:25:03.062436Z",
     "iopub.status.busy": "2021-03-25T09:25:03.061454Z",
     "iopub.status.idle": "2021-03-25T09:25:03.066472Z",
     "shell.execute_reply": "2021-03-25T09:25:03.065905Z"
    },
    "papermill": {
     "duration": 0.025786,
     "end_time": "2021-03-25T09:25:03.066579",
     "exception": false,
     "start_time": "2021-03-25T09:25:03.040793",
     "status": "completed"
    },
    "tags": []
   },
   "outputs": [
    {
     "data": {
      "text/html": [
       "<style>\n",
       "    @import 'https://fonts.googleapis.com/css?family=Akronim&effect=3d-float';</style>\n",
       "    <h1 class='font-effect-3d-float' \n",
       "    style='font-family:Akronim; color:#ff36ff; font-size:30px;'>\n",
       "    Colorized Code Outputs</h1>"
      ],
      "text/plain": [
       "<IPython.core.display.HTML object>"
      ]
     },
     "metadata": {},
     "output_type": "display_data"
    }
   ],
   "source": [
    "dhtml('Colorized Code Outputs','#ff36ff',f2,fs8)"
   ]
  },
  {
   "cell_type": "code",
   "execution_count": 4,
   "metadata": {
    "execution": {
     "iopub.execute_input": "2021-03-25T09:25:03.104129Z",
     "iopub.status.busy": "2021-03-25T09:25:03.103459Z",
     "iopub.status.idle": "2021-03-25T09:25:03.115292Z",
     "shell.execute_reply": "2021-03-25T09:25:03.114599Z"
    },
    "papermill": {
     "duration": 0.033124,
     "end_time": "2021-03-25T09:25:03.115408",
     "exception": false,
     "start_time": "2021-03-25T09:25:03.082284",
     "status": "completed"
    },
    "tags": []
   },
   "outputs": [
    {
     "data": {
      "text/html": [
       "<style>@import 'https://fonts.googleapis.com/css?family=Akronim'; \n",
       "    .ch1 {color:#ff36ff; font-family:Akronim; \n",
       "    font-size:26px;}</style><h1 class='ch1'>Style Applying to Classes of Elements</h1>"
      ],
      "text/plain": [
       "<IPython.core.display.HTML object>"
      ]
     },
     "metadata": {},
     "output_type": "display_data"
    },
    {
     "data": {
      "text/html": [
       "<style>@import 'https://fonts.googleapis.com/css?family=Ewert'; \n",
       "    #ch1_746619450 {font-family:Ewert; \n",
       "    color:darkslategray; font-size:18px;}</style><h1 id='ch1_746619450'>Style Applying to Id of Elements</h1><script>\n",
       "    var idc=setInterval(function() {\n",
       "        var iddoc=document.getElementById('ch1_746619450'), \n",
       "            sec=Math.floor(new Date().getTime()%60000/1000); \n",
       "        var col='rgb('+(5+Math.abs(245-8*sec))+',0,'+\n",
       "                (250-Math.abs(245-8*sec))+')';  \n",
       "        iddoc.style.color=col;}, 1000);</script>"
      ],
      "text/plain": [
       "<IPython.core.display.HTML object>"
      ]
     },
     "metadata": {},
     "output_type": "display_data"
    }
   ],
   "source": [
    "%run cidhtml.py\n",
    "#looks fine in the working space\n",
    "chtml('Style Applying to Classes of Elements')\n",
    "#looks fine in the working space and after the notebook execution\n",
    "idhtml('Style Applying to Id of Elements')"
   ]
  },
  {
   "cell_type": "code",
   "execution_count": 5,
   "metadata": {
    "execution": {
     "iopub.execute_input": "2021-03-25T09:25:03.155934Z",
     "iopub.status.busy": "2021-03-25T09:25:03.155114Z",
     "iopub.status.idle": "2021-03-25T09:25:03.157698Z",
     "shell.execute_reply": "2021-03-25T09:25:03.158226Z"
    },
    "papermill": {
     "duration": 0.026093,
     "end_time": "2021-03-25T09:25:03.158376",
     "exception": false,
     "start_time": "2021-03-25T09:25:03.132283",
     "status": "completed"
    },
    "tags": []
   },
   "outputs": [],
   "source": [
    "corpus=['Have you already set your goals for the New Year?', \n",
    "        'Do you want to lose ten kilos, '+\\\n",
    "        'run a marathon or speak fluent English?', \n",
    "        'Some experts believe that you need systems, not goals.', \n",
    "        'A system is something you do on a regular basis. ',\n",
    "        'This means focusing on what you can control '+\\\n",
    "        '(your actions) rather than what you can’t.',\n",
    "        'For example, do not focus on losing ten kilos.',\n",
    "        'Focus on shopping for healthy food and '+\\\n",
    "        'cooking something light every day.',\n",
    "        'Do not focus on the marathon.',\n",
    "        'Focus on the training schedule.',\n",
    "        'Invent a system to improve your English, one step at a time.',\n",
    "        'Good luck!']\n",
    "corpus_str=' '.join(corpus)"
   ]
  },
  {
   "cell_type": "code",
   "execution_count": 6,
   "metadata": {
    "execution": {
     "iopub.execute_input": "2021-03-25T09:25:03.198027Z",
     "iopub.status.busy": "2021-03-25T09:25:03.197039Z",
     "iopub.status.idle": "2021-03-25T09:25:03.200964Z",
     "shell.execute_reply": "2021-03-25T09:25:03.201521Z"
    },
    "papermill": {
     "duration": 0.026293,
     "end_time": "2021-03-25T09:25:03.201661",
     "exception": false,
     "start_time": "2021-03-25T09:25:03.175368",
     "status": "completed"
    },
    "tags": []
   },
   "outputs": [
    {
     "data": {
      "text/html": [
       "<style>@import 'https://fonts.googleapis.com/css?family=Akronim';</style><div id='col_div798207775' \n",
       "    style='background:black; width:100%; \n",
       "    padding:2vw;'>\n",
       "    <div style='background:linear-gradient(120deg, \n",
       "    magenta 0%,\n",
       "    orange 33%,\n",
       "    cyan 67%,\n",
       "    purple 100%); \n",
       "    font-family:Akronim; font-size:28px; \n",
       "    -webkit-background-clip:text; color:transparent;'>Have you already set your goals for the New Year? Do you want to lose ten kilos, run a marathon or speak fluent English? Some experts believe that you need systems, not goals. A system is something you do on a regular basis.  This means focusing on what you can control (your actions) rather than what you can’t. For example, do not focus on losing ten kilos. Focus on shopping for healthy food and cooking something light every day. Do not focus on the marathon. Focus on the training schedule. Invent a system to improve your English, one step at a time. Good luck!\n",
       "    </div></div>"
      ],
      "text/plain": [
       "<IPython.core.display.HTML object>"
      ]
     },
     "metadata": {},
     "output_type": "display_data"
    }
   ],
   "source": [
    "#cool, isn't it?\n",
    "whtml(corpus_str)"
   ]
  },
  {
   "cell_type": "code",
   "execution_count": 7,
   "metadata": {
    "_kg_hide-input": true,
    "execution": {
     "iopub.execute_input": "2021-03-25T09:25:03.243109Z",
     "iopub.status.busy": "2021-03-25T09:25:03.242460Z",
     "iopub.status.idle": "2021-03-25T09:25:03.247710Z",
     "shell.execute_reply": "2021-03-25T09:25:03.248192Z"
    },
    "papermill": {
     "duration": 0.02881,
     "end_time": "2021-03-25T09:25:03.248342",
     "exception": false,
     "start_time": "2021-03-25T09:25:03.219532",
     "status": "completed"
    },
    "tags": []
   },
   "outputs": [
    {
     "data": {
      "text/html": [
       "<style>\n",
       "    @import 'https://fonts.googleapis.com/css?family=Akronim&effect=3d-float';</style>\n",
       "    <h1 class='font-effect-3d-float' \n",
       "    style='font-family:Akronim; color:#ff36ff; font-size:24px;'>\n",
       "    Animated Markdown Cells</h1>"
      ],
      "text/plain": [
       "<IPython.core.display.HTML object>"
      ]
     },
     "metadata": {},
     "output_type": "display_data"
    }
   ],
   "source": [
    "dhtml('Animated Markdown Cells','#ff36ff',f2,fs8)"
   ]
  },
  {
   "cell_type": "code",
   "execution_count": 8,
   "metadata": {
    "_kg_hide-input": true,
    "execution": {
     "iopub.execute_input": "2021-03-25T09:25:03.288805Z",
     "iopub.status.busy": "2021-03-25T09:25:03.288097Z",
     "iopub.status.idle": "2021-03-25T09:25:03.293632Z",
     "shell.execute_reply": "2021-03-25T09:25:03.294147Z"
    },
    "papermill": {
     "duration": 0.027391,
     "end_time": "2021-03-25T09:25:03.294287",
     "exception": false,
     "start_time": "2021-03-25T09:25:03.266896",
     "status": "completed"
    },
    "tags": []
   },
   "outputs": [
    {
     "data": {
      "application/javascript": [
       "var t=setInterval(function() {\n",
       "  var doc=document.getElementById('simple_timer');\n",
       "  var now=new Date().getTime();\n",
       "  var sec=Math.floor(now%60000/1000);\n",
       "  doc.innerHTML='🕒 '+sec;\n",
       "  doc.style.color='rgb('+4*(sec+1)+',0,'+4*(sec+1)+')'},1000);\n",
       "var tc=setInterval(function() {\n",
       "  var doc=document.getElementById('color_timer');\n",
       "  var now=new Date().getTime();\n",
       "  var sec=Math.floor(now%60000/1000);\n",
       "  var col='rgb(0,'+(5+Math.abs(245-8*sec))+','+\n",
       "          (250-Math.abs(245-8*sec))+')';\n",
       "  doc.style.color=col},1);\n",
       "var countDownDate=new Date('Jan 1, 2022 00:00:00').getTime();\n",
       "var cdd=setInterval(function() {\n",
       "  var doc=document.getElementById('new_year_countdown');\n",
       "  var now=new Date().getTime();\n",
       "  var distance=countDownDate-now;\n",
       "  var days=Math.floor(distance/(1000*60*60*24)),\n",
       "      hours=Math.floor(distance%(1000*60*60*24)/(1000*60*60)),\n",
       "      minutes=Math.floor(distance%(1000*60*60)/(1000*60)),\n",
       "      seconds=Math.floor(distance%(1000*60)/1000);\n",
       "  doc.innerHTML=days+' days '+hours+' hours '+minutes+\n",
       "                ' minutes '+seconds+' seconds';\n",
       "  if (distance<0) {\n",
       "    clearInterval(x); doc.innerHTML='Happy New Year!';}},3000);\n"
      ],
      "text/plain": [
       "<IPython.core.display.Javascript object>"
      ]
     },
     "metadata": {},
     "output_type": "display_data"
    }
   ],
   "source": [
    "%%javascript\n",
    "var t=setInterval(function() {\n",
    "  var doc=document.getElementById('simple_timer');\n",
    "  var now=new Date().getTime();\n",
    "  var sec=Math.floor(now%60000/1000);\n",
    "  doc.innerHTML='🕒 '+sec;\n",
    "  doc.style.color='rgb('+4*(sec+1)+',0,'+4*(sec+1)+')'},1000);\n",
    "var tc=setInterval(function() {\n",
    "  var doc=document.getElementById('color_timer');\n",
    "  var now=new Date().getTime();\n",
    "  var sec=Math.floor(now%60000/1000);\n",
    "  var col='rgb(0,'+(5+Math.abs(245-8*sec))+','+\n",
    "          (250-Math.abs(245-8*sec))+')';\n",
    "  doc.style.color=col},1);\n",
    "var countDownDate=new Date('Jan 1, 2022 00:00:00').getTime();\n",
    "var cdd=setInterval(function() {\n",
    "  var doc=document.getElementById('new_year_countdown');\n",
    "  var now=new Date().getTime();\n",
    "  var distance=countDownDate-now;\n",
    "  var days=Math.floor(distance/(1000*60*60*24)),\n",
    "      hours=Math.floor(distance%(1000*60*60*24)/(1000*60*60)),\n",
    "      minutes=Math.floor(distance%(1000*60*60)/(1000*60)),\n",
    "      seconds=Math.floor(distance%(1000*60)/1000);\n",
    "  doc.innerHTML=days+' days '+hours+' hours '+minutes+\n",
    "                ' minutes '+seconds+' seconds';\n",
    "  if (distance<0) {\n",
    "    clearInterval(x); doc.innerHTML='Happy New Year!';}},3000);"
   ]
  },
  {
   "cell_type": "markdown",
   "metadata": {
    "papermill": {
     "duration": 0.018884,
     "end_time": "2021-03-25T09:25:03.332369",
     "exception": false,
     "start_time": "2021-03-25T09:25:03.313485",
     "status": "completed"
    },
    "tags": []
   },
   "source": [
    "<p id='color_timer'>This Markdown element has id='color_timer'.</p>\n",
    "\n",
    "🕒 <<<<< Simple Timer >>>>> 🕒 <p id='simple_timer'></p>\n",
    "\n",
    "🕒 <<<<< New Year Countdown >>>>> 🕒 <p id='new_year_countdown'></p>"
   ]
  },
  {
   "cell_type": "code",
   "execution_count": 9,
   "metadata": {
    "_kg_hide-input": true,
    "execution": {
     "iopub.execute_input": "2021-03-25T09:25:03.378226Z",
     "iopub.status.busy": "2021-03-25T09:25:03.377395Z",
     "iopub.status.idle": "2021-03-25T09:25:03.381276Z",
     "shell.execute_reply": "2021-03-25T09:25:03.381790Z"
    },
    "papermill": {
     "duration": 0.029477,
     "end_time": "2021-03-25T09:25:03.381951",
     "exception": false,
     "start_time": "2021-03-25T09:25:03.352474",
     "status": "completed"
    },
    "tags": []
   },
   "outputs": [
    {
     "data": {
      "text/html": [
       "<style>\n",
       "@import url('https://fonts.googleapis.com/css?family=Ewert');\n",
       ".animated {\n",
       "    background-color:silver; font-family:'Ewert'; \n",
       "    color:#ff36ff; text-align:center; font-size:20px; \n",
       "    border-radius:15px; padding:10px; width:350px; \n",
       "    transition:all 0.8s; cursor:pointer; margin:2px;}\n",
       ".animated span {\n",
       "    cursor:pointer; display:inline-block; \n",
       "    position: relative; transition:0.8s;}\n",
       ".animated span:after {\n",
       "    content:'\\22d9'; position:absolute; \n",
       "    opacity:0; top:0; right:-10px; transition:0.8s;}\n",
       ".animated:hover span {padding-right:15px;}\n",
       ".animated:hover span:after {opacity:1; mright:0;}\n",
       "</style>\n"
      ],
      "text/plain": [
       "<IPython.core.display.HTML object>"
      ]
     },
     "metadata": {},
     "output_type": "display_data"
    }
   ],
   "source": [
    "%%html\n",
    "<style>\n",
    "@import url('https://fonts.googleapis.com/css?family=Ewert');\n",
    ".animated {\n",
    "    background-color:silver; font-family:'Ewert'; \n",
    "    color:#ff36ff; text-align:center; font-size:20px; \n",
    "    border-radius:15px; padding:10px; width:350px; \n",
    "    transition:all 0.8s; cursor:pointer; margin:2px;}\n",
    ".animated span {\n",
    "    cursor:pointer; display:inline-block; \n",
    "    position: relative; transition:0.8s;}\n",
    ".animated span:after {\n",
    "    content:'\\22d9'; position:absolute; \n",
    "    opacity:0; top:0; right:-10px; transition:0.8s;}\n",
    ".animated:hover span {padding-right:15px;}\n",
    ".animated:hover span:after {opacity:1; mright:0;}\n",
    "</style>"
   ]
  },
  {
   "cell_type": "markdown",
   "metadata": {
    "papermill": {
     "duration": 0.019458,
     "end_time": "2021-03-25T09:25:03.421450",
     "exception": false,
     "start_time": "2021-03-25T09:25:03.401992",
     "status": "completed"
    },
    "tags": []
   },
   "source": [
    "<button class='animated'><span>Animated Button</span></button>"
   ]
  },
  {
   "cell_type": "code",
   "execution_count": 10,
   "metadata": {
    "_kg_hide-input": true,
    "execution": {
     "iopub.execute_input": "2021-03-25T09:25:03.467187Z",
     "iopub.status.busy": "2021-03-25T09:25:03.466085Z",
     "iopub.status.idle": "2021-03-25T09:25:03.470675Z",
     "shell.execute_reply": "2021-03-25T09:25:03.470036Z"
    },
    "papermill": {
     "duration": 0.029475,
     "end_time": "2021-03-25T09:25:03.470789",
     "exception": false,
     "start_time": "2021-03-25T09:25:03.441314",
     "status": "completed"
    },
    "tags": []
   },
   "outputs": [
    {
     "data": {
      "text/html": [
       "<style>\n",
       "    @import 'https://fonts.googleapis.com/css?family=Akronim&effect=3d-float';</style>\n",
       "    <h1 class='font-effect-3d-float' \n",
       "    style='font-family:Akronim; color:#ff36ff; font-size:24px;'>\n",
       "    Animated Code Outputs</h1>"
      ],
      "text/plain": [
       "<IPython.core.display.HTML object>"
      ]
     },
     "metadata": {},
     "output_type": "display_data"
    }
   ],
   "source": [
    "dhtml('Animated Code Outputs','#ff36ff',f2,fs8)"
   ]
  },
  {
   "cell_type": "code",
   "execution_count": 11,
   "metadata": {
    "_kg_hide-input": true,
    "execution": {
     "iopub.execute_input": "2021-03-25T09:25:03.518490Z",
     "iopub.status.busy": "2021-03-25T09:25:03.517558Z",
     "iopub.status.idle": "2021-03-25T09:25:03.521007Z",
     "shell.execute_reply": "2021-03-25T09:25:03.521539Z"
    },
    "papermill": {
     "duration": 0.030271,
     "end_time": "2021-03-25T09:25:03.521689",
     "exception": false,
     "start_time": "2021-03-25T09:25:03.491418",
     "status": "completed"
    },
    "tags": []
   },
   "outputs": [
    {
     "name": "stdout",
     "output_type": "stream",
     "text": [
      "Writing example000.html\n"
     ]
    }
   ],
   "source": [
    "%%writefile example000.html\n",
    "<script src='https://d3js.org/d3.v6.min.js'></script>\n",
    "<style>\n",
    "@import 'https://fonts.googleapis.com/css?family=Ewert';\n",
    ".gewert {font-family:Ewert; color:white; text-align:center; width:99%;}\n",
    "</style>\n",
    "<h3 id='colorized1' class='gewert'>Color Interpolation in Text Displaying</h3>\n",
    "<h3 id='colorized2' class='gewert'>Background Interpolation in Text Displaying</h3>\n",
    "<script>\n",
    "var tc=setInterval(function() {\n",
    "    var now=new Date().getTime();\n",
    "    var iddoc1=document.getElementById('colorized1');\n",
    "    var iddoc2=document.getElementById('colorized2');\n",
    "    iddoc1.style.color=d3.interpolateSinebow(now/1000);\n",
    "    iddoc2.style.background=d3.interpolateRainbow(now/60000);},1)\n",
    "</script>"
   ]
  },
  {
   "cell_type": "code",
   "execution_count": 12,
   "metadata": {
    "execution": {
     "iopub.execute_input": "2021-03-25T09:25:03.567645Z",
     "iopub.status.busy": "2021-03-25T09:25:03.566960Z",
     "iopub.status.idle": "2021-03-25T09:25:03.572668Z",
     "shell.execute_reply": "2021-03-25T09:25:03.573214Z"
    },
    "papermill": {
     "duration": 0.030404,
     "end_time": "2021-03-25T09:25:03.573361",
     "exception": false,
     "start_time": "2021-03-25T09:25:03.542957",
     "status": "completed"
    },
    "tags": []
   },
   "outputs": [
    {
     "data": {
      "text/html": [
       "\n",
       "        <iframe\n",
       "            width=\"650\"\n",
       "            height=\"100\"\n",
       "            src=\"example000.html\"\n",
       "            frameborder=\"0\"\n",
       "            allowfullscreen\n",
       "        ></iframe>\n",
       "        "
      ],
      "text/plain": [
       "<IPython.lib.display.IFrame at 0x7f8e4aec77d0>"
      ]
     },
     "execution_count": 12,
     "metadata": {},
     "output_type": "execute_result"
    }
   ],
   "source": [
    "from IPython.display import IFrame\n",
    "IFrame(src='example000.html',width=650,height=100)"
   ]
  },
  {
   "cell_type": "code",
   "execution_count": 13,
   "metadata": {
    "_kg_hide-input": true,
    "execution": {
     "iopub.execute_input": "2021-03-25T09:25:03.620580Z",
     "iopub.status.busy": "2021-03-25T09:25:03.619956Z",
     "iopub.status.idle": "2021-03-25T09:25:03.625779Z",
     "shell.execute_reply": "2021-03-25T09:25:03.626517Z"
    },
    "papermill": {
     "duration": 0.031199,
     "end_time": "2021-03-25T09:25:03.626679",
     "exception": false,
     "start_time": "2021-03-25T09:25:03.595480",
     "status": "completed"
    },
    "tags": []
   },
   "outputs": [
    {
     "name": "stdout",
     "output_type": "stream",
     "text": [
      "Writing example001.html\n"
     ]
    }
   ],
   "source": [
    "%%writefile example001.html\n",
    "<script src='https://d3js.org/d3.v6.min.js'></script>\n",
    "run <button style='background:silver; width:200px; height:25px'\n",
    "onclick='draw_circles();' id='interpolate_button'>\n",
    "=>>></button><br/><br/>\n",
    "<svg id='svg016'></svg>\n",
    "<script>\n",
    "function draw_circles() {\n",
    "var cols={1:'silver',2:'#ff36ff'};\n",
    "var svg=d3.select('#svg016')\n",
    "          .attr('width',300).attr('height',300);\n",
    "svg.selectAll('circle').remove();\n",
    "svg.selectAll('text').remove();\n",
    "for (var i=1; i<7; i++) {\n",
    "    svg.append('circle').attr('id','c'+i)\n",
    "      .attr('transform','translate(150,150)')\n",
    "      .attr('cx',0).attr('cy',0).attr('r',140-i*20)\n",
    "      .attr('stroke','silver').attr('stroke-width',3)\n",
    "      .attr('fill-opacity',.1*i)\n",
    "      .transition().duration(10000)\n",
    "      .styleTween('fill',function() {\n",
    "          return d3.interpolateHsl(cols[1],cols[2]);});\n",
    "    svg.append('text').text('COLOR INTERPOLATION')\n",
    "       .attr('transform','translate(30,20)')\n",
    "       .attr('x',0).attr('y',0).attr('fill','siver')\n",
    "       .transition().duration(10000)\n",
    "       .styleTween('fill',function() {\n",
    "          return d3.interpolateHsl(cols[2],cols[1]);});\n",
    "};};</script>"
   ]
  },
  {
   "cell_type": "code",
   "execution_count": 14,
   "metadata": {
    "execution": {
     "iopub.execute_input": "2021-03-25T09:25:03.674220Z",
     "iopub.status.busy": "2021-03-25T09:25:03.673532Z",
     "iopub.status.idle": "2021-03-25T09:25:03.680104Z",
     "shell.execute_reply": "2021-03-25T09:25:03.679582Z"
    },
    "papermill": {
     "duration": 0.031216,
     "end_time": "2021-03-25T09:25:03.680217",
     "exception": false,
     "start_time": "2021-03-25T09:25:03.649001",
     "status": "completed"
    },
    "tags": []
   },
   "outputs": [
    {
     "data": {
      "text/html": [
       "\n",
       "        <iframe\n",
       "            width=\"350\"\n",
       "            height=\"370\"\n",
       "            src=\"example001.html\"\n",
       "            frameborder=\"0\"\n",
       "            allowfullscreen\n",
       "        ></iframe>\n",
       "        "
      ],
      "text/plain": [
       "<IPython.lib.display.IFrame at 0x7f8e4aeca190>"
      ]
     },
     "execution_count": 14,
     "metadata": {},
     "output_type": "execute_result"
    }
   ],
   "source": [
    "from IPython.display import IFrame\n",
    "IFrame(src='example001.html',width=350,height=370)"
   ]
  },
  {
   "cell_type": "code",
   "execution_count": 15,
   "metadata": {
    "_kg_hide-input": true,
    "execution": {
     "iopub.execute_input": "2021-03-25T09:25:03.728991Z",
     "iopub.status.busy": "2021-03-25T09:25:03.728268Z",
     "iopub.status.idle": "2021-03-25T09:25:03.735002Z",
     "shell.execute_reply": "2021-03-25T09:25:03.735727Z"
    },
    "papermill": {
     "duration": 0.033185,
     "end_time": "2021-03-25T09:25:03.735931",
     "exception": false,
     "start_time": "2021-03-25T09:25:03.702746",
     "status": "completed"
    },
    "tags": []
   },
   "outputs": [
    {
     "name": "stdout",
     "output_type": "stream",
     "text": [
      "Writing example002.html\n"
     ]
    }
   ],
   "source": [
    "%%writefile example002.html\n",
    "<script src='https://d3js.org/d3.v6.min.js'></script>\n",
    "number <select id='num_points' \n",
    "style='text-align:center; text-align-last:center; \n",
    "  background:silver; width:200px; height:25px'>\n",
    "    <option value='100'>100</option><option value='150'>150</option>\n",
    "    <option value='200'>200</option><option value='250'>250</option>\n",
    "    <option value='300'>300</option><option value='350'>350</option>\n",
    "</select><br/><br/>run &nbsp; &nbsp; &nbsp; &nbsp;\n",
    "<button style='background:silver; width:200px; height:25px'\n",
    "onclick='draw_chart();' id='run_button'>=>>></button><br/><br/>\n",
    "<svg id='svg015' style='background-color:silver;'></svg><script>\n",
    "margin={top:20,right:20,bottom:20,left:60},width=600,height=250;\n",
    "reveal=path=>\n",
    "path.transition().duration(10000).ease(d3.easeLinear)\n",
    "    .attrTween('stroke-dasharray',function() {\n",
    "      const length=this.getTotalLength();\n",
    "      return d3.interpolate(`0,${length}`,`${length},${length}`);});\n",
    "function draw_chart() {\n",
    "  var n=parseInt(document.getElementById('num_points').value);\n",
    "  var x=d3.scaleLinear().domain([0,n-1])\n",
    "          .range([margin.left,width-margin.right]),\n",
    "      y=d3.scaleLinear().domain([0,n])\n",
    "          .range([height-margin.bottom,margin.top]); \n",
    "  var line=d3.line().curve(d3.curveMonotoneX)\n",
    "           .x(function(d,i) {return x(i);})\n",
    "           .y(function(d) {return y(d.y);});\n",
    "  var data=d3.range(n).map(function(d) {\n",
    "      return {'y':d3.randomUniform(n)()}; })\n",
    "  var xAxis=(g,scale=x)=>g\n",
    "      .attr('transform',`translate(0,${height-margin.bottom})`)\n",
    "      .call(d3.axisBottom(scale)\n",
    "              .ticks(width/60).tickSizeOuter(0)),\n",
    "      yAxis=(g,scale=y)=>g\n",
    "      .attr('transform',`translate(${margin.left},0)`)\n",
    "      .call(d3.axisLeft(scale).ticks(height/40));\n",
    "  var svg=d3.select('#svg015')\n",
    "            .attr('width',width).attr('height',height);\n",
    "  svg.selectAll('g').remove(); svg.selectAll('path').remove();\n",
    "  svg.append('g').call(xAxis); svg.append('g').call(yAxis);\n",
    "  svg.append('path').datum(data).attr('d',line)\n",
    "     .attr('stroke','#ff36ff').attr('stroke-width',1)\n",
    "     .attr('stroke-miterlimit',1).attr('stroke-dasharray','0,1')\n",
    "     .attr('fill','none').call(reveal);};\n",
    "</script>"
   ]
  },
  {
   "cell_type": "code",
   "execution_count": 16,
   "metadata": {
    "_kg_hide-input": false,
    "execution": {
     "iopub.execute_input": "2021-03-25T09:25:03.788948Z",
     "iopub.status.busy": "2021-03-25T09:25:03.787897Z",
     "iopub.status.idle": "2021-03-25T09:25:03.791946Z",
     "shell.execute_reply": "2021-03-25T09:25:03.792476Z"
    },
    "papermill": {
     "duration": 0.032962,
     "end_time": "2021-03-25T09:25:03.792627",
     "exception": false,
     "start_time": "2021-03-25T09:25:03.759665",
     "status": "completed"
    },
    "tags": []
   },
   "outputs": [
    {
     "data": {
      "text/html": [
       "\n",
       "        <iframe\n",
       "            width=\"650\"\n",
       "            height=\"370\"\n",
       "            src=\"example002.html\"\n",
       "            frameborder=\"0\"\n",
       "            allowfullscreen\n",
       "        ></iframe>\n",
       "        "
      ],
      "text/plain": [
       "<IPython.lib.display.IFrame at 0x7f8e4aecad50>"
      ]
     },
     "execution_count": 16,
     "metadata": {},
     "output_type": "execute_result"
    }
   ],
   "source": [
    "from IPython.display import IFrame\n",
    "IFrame(src='example002.html',width=650,height=370)"
   ]
  },
  {
   "cell_type": "code",
   "execution_count": 17,
   "metadata": {
    "_kg_hide-input": true,
    "execution": {
     "iopub.execute_input": "2021-03-25T09:25:03.844824Z",
     "iopub.status.busy": "2021-03-25T09:25:03.843847Z",
     "iopub.status.idle": "2021-03-25T09:25:03.850944Z",
     "shell.execute_reply": "2021-03-25T09:25:03.851972Z"
    },
    "papermill": {
     "duration": 0.035751,
     "end_time": "2021-03-25T09:25:03.852226",
     "exception": false,
     "start_time": "2021-03-25T09:25:03.816475",
     "status": "completed"
    },
    "tags": []
   },
   "outputs": [
    {
     "name": "stdout",
     "output_type": "stream",
     "text": [
      "Writing example003.html\n"
     ]
    }
   ],
   "source": [
    "%%writefile example003.html\n",
    "<script src='https://d3js.org/d3.v6.min.js'></script>\n",
    "n <input type='number' id='n_frames' value=1\n",
    "style='width:120px; font-size:120%; color:#363636;\n",
    "background-color:silver; text-align:center;'/> \n",
    "m <input type='number' id='m_frames' value=15\n",
    "style='width:120px; font-size:120%; color:#363636;\n",
    "background-color:silver; text-align:center;'/>\n",
    "run =>>> <input type='button' onclick='draw_curves();' value='update'\n",
    "style='width:120px; font-size:120%; color:#363636;\n",
    "background-color:silver; text-align:center;'/><br/><br/>\n",
    "<svg id='svg014' style='background-color:silver;'></svg>\n",
    "<script>s=600;\n",
    "colors=['#3636ff','#ff3636','#ff36ff',\n",
    "        '#ffff36','#36ff36','#36ffff'];\n",
    "function subpoint(a,b,m) {\n",
    "  return [Math.floor(m/2)*(a[0]+b[0])/m,\n",
    "          Math.floor(m/2)*(a[1]+b[1])/m]};\n",
    "function subdivpoly(poly,m,iterations=1) {\n",
    "  var [p1,p2,p3]=poly,points=[];\n",
    "  var centroid=d3.polygonCentroid(poly);\n",
    "  if (iterations===0) {points.push(centroid);} \n",
    "  else {var subset1=[p1,subpoint(p1,p3,m),p2],\n",
    "            subset2=[p2,subpoint(p1,p3,m),p3];\n",
    "        points.push(...subdivpoly(subset1,m,iterations-1));\n",
    "        points.push(...subdivpoly(subset2,m,iterations-1));}\n",
    "  return points};\n",
    "function recursive_curve(len,m,iterations) {\n",
    "  var contour1=[[0,len],[0,0],[len,0]],\n",
    "      contour2=[[len,0],[len,len],[0,len]];\n",
    "  var half1=subdivpoly(contour1,m,iterations),\n",
    "      half2=subdivpoly(contour2,m,iterations);\n",
    "  return [...half1,...half2];};\n",
    "function draw_curves() {\n",
    "  var m=parseInt(document.getElementById('m_frames').value);\n",
    "  var n=parseInt(document.getElementById('n_frames').value);\n",
    "  var line=d3.line();\n",
    "  var svg=d3.select('#svg014').attr('width',s).attr('height',s);\n",
    "  svg.selectAll('path').remove();\n",
    "  svg.selectAll('.curve').data(colors).join('path')\n",
    "     .attr('d',(_,i)=>line(recursive_curve(s,m,i+n))+'z')\n",
    "     .style('stroke',d=>d).style('stroke-width',3)\n",
    "     .style('fill',d=>d).style('fill-opacity',.9)\n",
    "     .transition().duration(10000)\n",
    "     .style('fill',d=>d).style('fill-opacity',.02); };\n",
    "</script>"
   ]
  },
  {
   "cell_type": "code",
   "execution_count": 18,
   "metadata": {
    "execution": {
     "iopub.execute_input": "2021-03-25T09:25:03.905242Z",
     "iopub.status.busy": "2021-03-25T09:25:03.904257Z",
     "iopub.status.idle": "2021-03-25T09:25:03.911461Z",
     "shell.execute_reply": "2021-03-25T09:25:03.910915Z"
    },
    "papermill": {
     "duration": 0.034107,
     "end_time": "2021-03-25T09:25:03.911573",
     "exception": false,
     "start_time": "2021-03-25T09:25:03.877466",
     "status": "completed"
    },
    "tags": []
   },
   "outputs": [
    {
     "data": {
      "text/html": [
       "\n",
       "        <iframe\n",
       "            width=\"650\"\n",
       "            height=\"670\"\n",
       "            src=\"example003.html\"\n",
       "            frameborder=\"0\"\n",
       "            allowfullscreen\n",
       "        ></iframe>\n",
       "        "
      ],
      "text/plain": [
       "<IPython.lib.display.IFrame at 0x7f8e4aecd550>"
      ]
     },
     "execution_count": 18,
     "metadata": {},
     "output_type": "execute_result"
    }
   ],
   "source": [
    "from IPython.display import IFrame\n",
    "IFrame(src='example003.html',width=650,height=670)"
   ]
  }
 ],
 "metadata": {
  "kernelspec": {
   "display_name": "Python 3",
   "language": "python",
   "name": "python3"
  },
  "language_info": {
   "codemirror_mode": {
    "name": "ipython",
    "version": 3
   },
   "file_extension": ".py",
   "mimetype": "text/x-python",
   "name": "python",
   "nbconvert_exporter": "python",
   "pygments_lexer": "ipython3",
   "version": "3.7.6"
  },
  "papermill": {
   "duration": 5.743834,
   "end_time": "2021-03-25T09:25:04.044142",
   "environment_variables": {},
   "exception": null,
   "input_path": "__notebook__.ipynb",
   "output_path": "__notebook__.ipynb",
   "parameters": {},
   "start_time": "2021-03-25T09:24:58.300308",
   "version": "2.1.0"
  }
 },
 "nbformat": 4,
 "nbformat_minor": 4
}
