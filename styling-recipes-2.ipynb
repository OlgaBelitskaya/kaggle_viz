{
 "cells": [
  {
   "cell_type": "markdown",
   "metadata": {
    "papermill": {
     "duration": 0.016105,
     "end_time": "2020-11-28T14:38:22.143982",
     "exception": false,
     "start_time": "2020-11-28T14:38:22.127877",
     "status": "completed"
    },
    "tags": []
   },
   "source": [
    "[📑 My Observable Exercises](https://observablehq.com/@olgabelitskaya?tab=notebooks)"
   ]
  },
  {
   "cell_type": "code",
   "execution_count": 1,
   "metadata": {
    "_kg_hide-input": true,
    "execution": {
     "iopub.execute_input": "2020-11-28T14:38:22.178119Z",
     "iopub.status.busy": "2020-11-28T14:38:22.177274Z",
     "iopub.status.idle": "2020-11-28T14:38:22.192473Z",
     "shell.execute_reply": "2020-11-28T14:38:22.191768Z"
    },
    "papermill": {
     "duration": 0.034861,
     "end_time": "2020-11-28T14:38:22.192613",
     "exception": false,
     "start_time": "2020-11-28T14:38:22.157752",
     "status": "completed"
    },
    "tags": []
   },
   "outputs": [
    {
     "data": {
      "text/html": [
       "<style>\n",
       "    @import 'https://fonts.googleapis.com/css?family=Akronim&effect=3d-float';</style>\n",
       "    <h1 class='font-effect-3d-float' \n",
       "    style='font-family:Akronim; color:#ff36ff; font-size:30px;'>\n",
       "    Code Modules & Element Classes</h1>"
      ],
      "text/plain": [
       "<IPython.core.display.HTML object>"
      ]
     },
     "metadata": {},
     "output_type": "display_data"
    }
   ],
   "source": [
    "%run ../input/python-recipes/dhtml.py\n",
    "dhtml('Code Modules & Element Classes','#ff36ff',f2,fs8)"
   ]
  },
  {
   "cell_type": "code",
   "execution_count": 2,
   "metadata": {
    "_kg_hide-input": true,
    "execution": {
     "iopub.execute_input": "2020-11-28T14:38:22.229520Z",
     "iopub.status.busy": "2020-11-28T14:38:22.228237Z",
     "iopub.status.idle": "2020-11-28T14:38:22.233442Z",
     "shell.execute_reply": "2020-11-28T14:38:22.232661Z"
    },
    "papermill": {
     "duration": 0.02625,
     "end_time": "2020-11-28T14:38:22.233578",
     "exception": false,
     "start_time": "2020-11-28T14:38:22.207328",
     "status": "completed"
    },
    "tags": []
   },
   "outputs": [
    {
     "name": "stdout",
     "output_type": "stream",
     "text": [
      "Writing cidhtml.py\n"
     ]
    }
   ],
   "source": [
    "%%writefile cidhtml.py\n",
    "from IPython.display import display,HTML\n",
    "import random \n",
    "\n",
    "f1,f2,f3,f4,f5,f6,f7,f8,f9=\\\n",
    "'Smokum','Akronim','Wallpoet','Orbitron','Ewert',\\\n",
    "'Lobster','Roboto','Miss Fajardose','Monoton'\n",
    "fs1,fs2,fs3,fs4,fs5,fs6,fs7,fs8,fs9,fs10,fs11=\\\n",
    "10,12,14,16,18,20,22,24,26,28,30\n",
    "\n",
    "def chtml(string,fontcolor='#ff36ff',font=f2,fontsize=fs9):\n",
    "    style_str=\"\"\"<style>@import \"\"\"+\\\n",
    "    \"\"\"'https://fonts.googleapis.com/css?family=\"\"\"+font+\\\n",
    "    \"\"\"'; .colored_font {color:\"\"\"+fontcolor+\\\n",
    "    \"\"\"; font-family:\"\"\"+font+\\\n",
    "    \"\"\"; font-size:\"\"\"+str(fontsize)+\"\"\"px;}</style>\"\"\"\n",
    "    h_str=\"\"\"<h1 class='colored_font'>\"\"\"+string+\"\"\"</h1>\"\"\"\n",
    "    display(HTML(style_str+h_str))\n",
    "    \n",
    "def idhtml(string,fontcolor='darkslategray',font=f5,fontsize=fs5):\n",
    "    randi=random.randint(1,999999999)\n",
    "    style_str=\"\"\"<style>@import \"\"\"+\\\n",
    "    \"\"\"'https://fonts.googleapis.com/css?family=\"\"\"+font+\\\n",
    "    \"\"\"'; #colored_font\"\"\"+str(randi)+\\\n",
    "    \"\"\" {color:\"\"\"+fontcolor+\\\n",
    "    \"\"\"; font-family:\"\"\"+font+\\\n",
    "    \"\"\"; font-size:\"\"\"+str(fontsize)+\"\"\"px;}</style>\"\"\"\n",
    "    h_str=\"\"\"<h1 id='colored_font\"\"\"+str(randi)+\\\n",
    "    \"\"\"'>\"\"\"+string+\"\"\"</h1>\"\"\"\n",
    "    script_str=\"\"\"<script>\"\"\"+\\\n",
    "    \"\"\"var idc=setInterval(function() {\"\"\"+\\\n",
    "    \"\"\"var iddoc=document.getElementById(\"\"\"+\\\n",
    "    \"\"\"'colored_font\"\"\"+str(randi)+\"\"\"'); \"\"\"+\\\n",
    "    \"\"\"var now=new Date().getTime(); \"\"\"+\\\n",
    "    \"\"\"var sec=Math.floor((now%(1000*60))/1000); \"\"\"+\\\n",
    "    \"\"\"var col='rgb('+(5+Math.abs(245-8*sec))+',0,'\"\"\"+\\\n",
    "    \"\"\"+(250-Math.abs(245-8*sec))+')'; \"\"\"+\\\n",
    "    \"\"\"iddoc.style.color=col;},1000);</script>\"\"\"\n",
    "    display(HTML(style_str+h_str+script_str))"
   ]
  },
  {
   "cell_type": "code",
   "execution_count": 3,
   "metadata": {
    "execution": {
     "iopub.execute_input": "2020-11-28T14:38:22.269695Z",
     "iopub.status.busy": "2020-11-28T14:38:22.268876Z",
     "iopub.status.idle": "2020-11-28T14:38:22.276990Z",
     "shell.execute_reply": "2020-11-28T14:38:22.276357Z"
    },
    "papermill": {
     "duration": 0.028663,
     "end_time": "2020-11-28T14:38:22.277118",
     "exception": false,
     "start_time": "2020-11-28T14:38:22.248455",
     "status": "completed"
    },
    "tags": []
   },
   "outputs": [
    {
     "data": {
      "text/html": [
       "<style>@import 'https://fonts.googleapis.com/css?family=Akronim'; .colored_font {color:#ff36ff; font-family:Akronim; font-size:26px;}</style><h1 class='colored_font'>Style Applying to Classes of Elements</h1>"
      ],
      "text/plain": [
       "<IPython.core.display.HTML object>"
      ]
     },
     "metadata": {},
     "output_type": "display_data"
    },
    {
     "data": {
      "text/html": [
       "<style>@import 'https://fonts.googleapis.com/css?family=Ewert'; #colored_font349532038 {color:darkslategray; font-family:Ewert; font-size:18px;}</style><h1 id='colored_font349532038'>Style Applying to Id of Elements</h1><script>var idc=setInterval(function() {var iddoc=document.getElementById('colored_font349532038'); var now=new Date().getTime(); var sec=Math.floor((now%(1000*60))/1000); var col='rgb('+(5+Math.abs(245-8*sec))+',0,'+(250-Math.abs(245-8*sec))+')'; iddoc.style.color=col;},1000);</script>"
      ],
      "text/plain": [
       "<IPython.core.display.HTML object>"
      ]
     },
     "metadata": {},
     "output_type": "display_data"
    }
   ],
   "source": [
    "%run cidhtml.py\n",
    "#looks fine in the working space\n",
    "chtml('Style Applying to Classes of Elements')\n",
    "#looks fine in the working space and after the notebook execution\n",
    "idhtml('Style Applying to Id of Elements')"
   ]
  },
  {
   "cell_type": "code",
   "execution_count": 4,
   "metadata": {
    "_kg_hide-input": true,
    "execution": {
     "iopub.execute_input": "2020-11-28T14:38:22.316492Z",
     "iopub.status.busy": "2020-11-28T14:38:22.315366Z",
     "iopub.status.idle": "2020-11-28T14:38:22.320151Z",
     "shell.execute_reply": "2020-11-28T14:38:22.319488Z"
    },
    "papermill": {
     "duration": 0.02707,
     "end_time": "2020-11-28T14:38:22.320273",
     "exception": false,
     "start_time": "2020-11-28T14:38:22.293203",
     "status": "completed"
    },
    "tags": []
   },
   "outputs": [
    {
     "data": {
      "text/html": [
       "<style>\n",
       "    @import 'https://fonts.googleapis.com/css?family=Akronim&effect=3d-float';</style>\n",
       "    <h1 class='font-effect-3d-float' \n",
       "    style='font-family:Akronim; color:#ff36ff; font-size:24px;'>\n",
       "    Animated Markdown Cells</h1>"
      ],
      "text/plain": [
       "<IPython.core.display.HTML object>"
      ]
     },
     "metadata": {},
     "output_type": "display_data"
    }
   ],
   "source": [
    "dhtml('Animated Markdown Cells','#ff36ff',f2,fs8)"
   ]
  },
  {
   "cell_type": "code",
   "execution_count": 5,
   "metadata": {
    "_kg_hide-input": true,
    "execution": {
     "iopub.execute_input": "2020-11-28T14:38:22.361259Z",
     "iopub.status.busy": "2020-11-28T14:38:22.360135Z",
     "iopub.status.idle": "2020-11-28T14:38:22.364990Z",
     "shell.execute_reply": "2020-11-28T14:38:22.364245Z"
    },
    "papermill": {
     "duration": 0.027815,
     "end_time": "2020-11-28T14:38:22.365127",
     "exception": false,
     "start_time": "2020-11-28T14:38:22.337312",
     "status": "completed"
    },
    "tags": []
   },
   "outputs": [
    {
     "data": {
      "application/javascript": [
       "var t=setInterval(function() {\n",
       "  var doc=document.getElementById('simple_timer');\n",
       "  var now=new Date().getTime();\n",
       "  var sec=Math.floor((now%(1000*60))/1000);\n",
       "  doc.innerHTML='now '+now;\n",
       "  doc.style.color='rgb('+4*(sec+1)+',0,'+4*(sec+1)+')'},1000);\n",
       "\n",
       "var tc=setInterval(function() {\n",
       "  var doc=document.getElementById('colored_time');\n",
       "  var now=new Date().getTime();\n",
       "  var sec=Math.floor((now%(1000*60))/1000);\n",
       "  var col='rgb('+4*(sec+1)+',0,'+4*(sec+1)+')';\n",
       "  doc.style.color=col},1000);\n",
       "\n",
       "var countDownDate=new Date('Jan 1, 2021 00:00:00').getTime();\n",
       "\n",
       "var cdd=setInterval(function() {\n",
       "  var doc=document.getElementById('new_year_countdown');\n",
       "  var now=new Date().getTime();\n",
       "  var distance=countDownDate-now;\n",
       "  var days=Math.floor(distance/(1000*60*60*24)),\n",
       "      hours=Math.floor((distance%(1000*60*60*24))/(1000*60*60)),\n",
       "      minutes=Math.floor((distance%(1000*60*60))/(1000 * 60)),\n",
       "      seconds=Math.floor((distance%(1000*60))/1000);\n",
       "  doc.innerHTML=days+' days '+hours+' hours '+minutes+\n",
       "                ' minutes '+seconds+' seconds';\n",
       "  if (distance<0) {\n",
       "    clearInterval(x); doc.innerHTML='Happy New Year!';}},1000);\n"
      ],
      "text/plain": [
       "<IPython.core.display.Javascript object>"
      ]
     },
     "metadata": {},
     "output_type": "display_data"
    }
   ],
   "source": [
    "%%javascript\n",
    "var t=setInterval(function() {\n",
    "  var doc=document.getElementById('simple_timer');\n",
    "  var now=new Date().getTime();\n",
    "  var sec=Math.floor((now%(1000*60))/1000);\n",
    "  doc.innerHTML='now '+now;\n",
    "  doc.style.color='rgb('+4*(sec+1)+',0,'+4*(sec+1)+')'},1000);\n",
    "\n",
    "var tc=setInterval(function() {\n",
    "  var doc=document.getElementById('colored_time');\n",
    "  var now=new Date().getTime();\n",
    "  var sec=Math.floor((now%(1000*60))/1000);\n",
    "  var col='rgb('+4*(sec+1)+',0,'+4*(sec+1)+')';\n",
    "  doc.style.color=col},1000);\n",
    "\n",
    "var countDownDate=new Date('Jan 1, 2021 00:00:00').getTime();\n",
    "\n",
    "var cdd=setInterval(function() {\n",
    "  var doc=document.getElementById('new_year_countdown');\n",
    "  var now=new Date().getTime();\n",
    "  var distance=countDownDate-now;\n",
    "  var days=Math.floor(distance/(1000*60*60*24)),\n",
    "      hours=Math.floor((distance%(1000*60*60*24))/(1000*60*60)),\n",
    "      minutes=Math.floor((distance%(1000*60*60))/(1000 * 60)),\n",
    "      seconds=Math.floor((distance%(1000*60))/1000);\n",
    "  doc.innerHTML=days+' days '+hours+' hours '+minutes+\n",
    "                ' minutes '+seconds+' seconds';\n",
    "  if (distance<0) {\n",
    "    clearInterval(x); doc.innerHTML='Happy New Year!';}},1000);"
   ]
  },
  {
   "cell_type": "markdown",
   "metadata": {
    "papermill": {
     "duration": 0.017361,
     "end_time": "2020-11-28T14:38:22.400255",
     "exception": false,
     "start_time": "2020-11-28T14:38:22.382894",
     "status": "completed"
    },
    "tags": []
   },
   "source": [
    "<p id='colored_time'>This Markdown element has id='colored_time'.</p>\n",
    "\n",
    "🕒 <<<<< Simple Timer >>>>> 🕒 <p id='simple_timer'></p>\n",
    "\n",
    "🕒 <<<<< New Year Countdown >>>>> 🕒 <p id='new_year_countdown'></p>"
   ]
  },
  {
   "cell_type": "code",
   "execution_count": 6,
   "metadata": {
    "_kg_hide-input": true,
    "execution": {
     "iopub.execute_input": "2020-11-28T14:38:22.442022Z",
     "iopub.status.busy": "2020-11-28T14:38:22.441127Z",
     "iopub.status.idle": "2020-11-28T14:38:22.446321Z",
     "shell.execute_reply": "2020-11-28T14:38:22.445598Z"
    },
    "papermill": {
     "duration": 0.028576,
     "end_time": "2020-11-28T14:38:22.446461",
     "exception": false,
     "start_time": "2020-11-28T14:38:22.417885",
     "status": "completed"
    },
    "tags": []
   },
   "outputs": [
    {
     "data": {
      "text/html": [
       "<style>\n",
       "@import url('https://fonts.googleapis.com/css?family=Ewert');\n",
       ".animated {\n",
       "    background-color:silver; font-family:'Ewert'; \n",
       "    color:#ff36ff; text-align:center; font-size:20px; \n",
       "    border-radius:15px; padding:10px; width:350px; \n",
       "    transition:all 0.8s; cursor:pointer; margin:2px;}\n",
       ".animated span {\n",
       "    cursor:pointer; display:inline-block; \n",
       "    position: relative; transition:0.8s;}\n",
       ".animated span:after {\n",
       "    content:'\\22d9'; position:absolute; \n",
       "    opacity:0; top:0; right:-10px; transition:0.8s;}\n",
       ".animated:hover span {padding-right:15px;}\n",
       ".animated:hover span:after {opacity:1; mright:0;}\n",
       "</style>\n"
      ],
      "text/plain": [
       "<IPython.core.display.HTML object>"
      ]
     },
     "metadata": {},
     "output_type": "display_data"
    }
   ],
   "source": [
    "%%html\n",
    "<style>\n",
    "@import url('https://fonts.googleapis.com/css?family=Ewert');\n",
    ".animated {\n",
    "    background-color:silver; font-family:'Ewert'; \n",
    "    color:#ff36ff; text-align:center; font-size:20px; \n",
    "    border-radius:15px; padding:10px; width:350px; \n",
    "    transition:all 0.8s; cursor:pointer; margin:2px;}\n",
    ".animated span {\n",
    "    cursor:pointer; display:inline-block; \n",
    "    position: relative; transition:0.8s;}\n",
    ".animated span:after {\n",
    "    content:'\\22d9'; position:absolute; \n",
    "    opacity:0; top:0; right:-10px; transition:0.8s;}\n",
    ".animated:hover span {padding-right:15px;}\n",
    ".animated:hover span:after {opacity:1; mright:0;}\n",
    "</style>"
   ]
  },
  {
   "cell_type": "markdown",
   "metadata": {
    "papermill": {
     "duration": 0.0183,
     "end_time": "2020-11-28T14:38:22.483365",
     "exception": false,
     "start_time": "2020-11-28T14:38:22.465065",
     "status": "completed"
    },
    "tags": []
   },
   "source": [
    "<button class='animated'><span>Animated Button</span></button>"
   ]
  },
  {
   "cell_type": "code",
   "execution_count": 7,
   "metadata": {
    "_kg_hide-input": true,
    "execution": {
     "iopub.execute_input": "2020-11-28T14:38:22.527464Z",
     "iopub.status.busy": "2020-11-28T14:38:22.526568Z",
     "iopub.status.idle": "2020-11-28T14:38:22.531579Z",
     "shell.execute_reply": "2020-11-28T14:38:22.530807Z"
    },
    "papermill": {
     "duration": 0.02947,
     "end_time": "2020-11-28T14:38:22.531707",
     "exception": false,
     "start_time": "2020-11-28T14:38:22.502237",
     "status": "completed"
    },
    "tags": []
   },
   "outputs": [
    {
     "data": {
      "text/html": [
       "<style>\n",
       "    @import 'https://fonts.googleapis.com/css?family=Akronim&effect=3d-float';</style>\n",
       "    <h1 class='font-effect-3d-float' \n",
       "    style='font-family:Akronim; color:#ff36ff; font-size:24px;'>\n",
       "    Animated Code Outputs</h1>"
      ],
      "text/plain": [
       "<IPython.core.display.HTML object>"
      ]
     },
     "metadata": {},
     "output_type": "display_data"
    }
   ],
   "source": [
    "dhtml('Animated Code Outputs','#ff36ff',f2,fs8)"
   ]
  },
  {
   "cell_type": "code",
   "execution_count": 8,
   "metadata": {
    "_kg_hide-input": true,
    "execution": {
     "iopub.execute_input": "2020-11-28T14:38:22.577671Z",
     "iopub.status.busy": "2020-11-28T14:38:22.576780Z",
     "iopub.status.idle": "2020-11-28T14:38:22.581170Z",
     "shell.execute_reply": "2020-11-28T14:38:22.580069Z"
    },
    "papermill": {
     "duration": 0.030146,
     "end_time": "2020-11-28T14:38:22.581364",
     "exception": false,
     "start_time": "2020-11-28T14:38:22.551218",
     "status": "completed"
    },
    "tags": []
   },
   "outputs": [
    {
     "name": "stdout",
     "output_type": "stream",
     "text": [
      "Writing example001.html\n"
     ]
    }
   ],
   "source": [
    "%%writefile example001.html\n",
    "<script src='https://d3js.org/d3.v6.min.js'></script>\n",
    "run <button style='background:silver; width:200px; height:25px'\n",
    "onclick='draw_circles();' id='interpolate_button'>\n",
    "=>>></button><br/><br/>\n",
    "<svg id='svg016'></svg>\n",
    "<script>\n",
    "function draw_circles() {\n",
    "var cols={1:'silver',2:'#ff36ff'};\n",
    "var svg=d3.select('#svg016')\n",
    "          .attr('width',300).attr('height',300);\n",
    "svg.selectAll('circle').remove();\n",
    "svg.selectAll('text').remove();\n",
    "for (var i=1; i<7; i++) {\n",
    "    svg.append('circle').attr('id','c'+i)\n",
    "      .attr('transform','translate(150,150)')\n",
    "      .attr('cx',0).attr('cy',0).attr('r',140-i*20)\n",
    "      .attr('stroke','silver').attr('stroke-width',3)\n",
    "      .attr('fill-opacity',.1*i)\n",
    "      .transition().duration(10000)\n",
    "      .styleTween('fill',function() {\n",
    "          return d3.interpolateHsl(cols[1],cols[2]);});\n",
    "    svg.append('text').text('COLOR')\n",
    "       .attr('transform','translate(25,25)')\n",
    "       .attr('x',0).attr('y',0).attr('fill','siver')\n",
    "       .transition().duration(10000)\n",
    "       .styleTween('fill',function() {\n",
    "          return d3.interpolateHsl(cols[2],cols[1]);});\n",
    "};};</script>"
   ]
  },
  {
   "cell_type": "code",
   "execution_count": 9,
   "metadata": {
    "execution": {
     "iopub.execute_input": "2020-11-28T14:38:22.628939Z",
     "iopub.status.busy": "2020-11-28T14:38:22.628018Z",
     "iopub.status.idle": "2020-11-28T14:38:22.633263Z",
     "shell.execute_reply": "2020-11-28T14:38:22.632661Z"
    },
    "papermill": {
     "duration": 0.031345,
     "end_time": "2020-11-28T14:38:22.633405",
     "exception": false,
     "start_time": "2020-11-28T14:38:22.602060",
     "status": "completed"
    },
    "tags": []
   },
   "outputs": [
    {
     "data": {
      "text/html": [
       "\n",
       "        <iframe\n",
       "            width=\"350\"\n",
       "            height=\"370\"\n",
       "            src=\"example001.html\"\n",
       "            frameborder=\"0\"\n",
       "            allowfullscreen\n",
       "        ></iframe>\n",
       "        "
      ],
      "text/plain": [
       "<IPython.lib.display.IFrame at 0x7f77d5a0fad0>"
      ]
     },
     "execution_count": 9,
     "metadata": {},
     "output_type": "execute_result"
    }
   ],
   "source": [
    "from IPython.display import IFrame\n",
    "IFrame(src='example001.html',width=350,height=370)"
   ]
  },
  {
   "cell_type": "code",
   "execution_count": 10,
   "metadata": {
    "_kg_hide-input": true,
    "execution": {
     "iopub.execute_input": "2020-11-28T14:38:22.682576Z",
     "iopub.status.busy": "2020-11-28T14:38:22.681453Z",
     "iopub.status.idle": "2020-11-28T14:38:22.686298Z",
     "shell.execute_reply": "2020-11-28T14:38:22.685586Z"
    },
    "papermill": {
     "duration": 0.032309,
     "end_time": "2020-11-28T14:38:22.686452",
     "exception": false,
     "start_time": "2020-11-28T14:38:22.654143",
     "status": "completed"
    },
    "tags": []
   },
   "outputs": [
    {
     "name": "stdout",
     "output_type": "stream",
     "text": [
      "Writing example002.html\n"
     ]
    }
   ],
   "source": [
    "%%writefile example002.html\n",
    "<script src='https://d3js.org/d3.v6.min.js'></script>\n",
    "number <select id='num_points' \n",
    "style='text-align:center; text-align-last:center; \n",
    "  background:silver; width:200px; height:25px'>\n",
    "    <option value='100'>100</option><option value='150'>150</option>\n",
    "    <option value='200'>200</option><option value='250'>250</option>\n",
    "    <option value='300'>300</option><option value='350'>350</option>\n",
    "</select><br/><br/>run &nbsp; &nbsp; &nbsp; &nbsp;\n",
    "<button style='background:silver; width:200px; height:25px'\n",
    "onclick='draw_chart();' id='run_button'>=>>></button><br/><br/>\n",
    "<svg id='svg015' style='background-color:silver;'></svg><script>\n",
    "margin={top:20,right:20,bottom:20,left:60},width=600,height=250;\n",
    "reveal=path=>\n",
    "path.transition().duration(10000).ease(d3.easeLinear)\n",
    "    .attrTween('stroke-dasharray',function() {\n",
    "      const length=this.getTotalLength();\n",
    "      return d3.interpolate(`0,${length}`,`${length},${length}`);});\n",
    "function draw_chart() {\n",
    "  var n=parseInt(document.getElementById('num_points').value);\n",
    "  var x=d3.scaleLinear().domain([0,n-1])\n",
    "          .range([margin.left,width-margin.right]),\n",
    "      y=d3.scaleLinear().domain([0,n])\n",
    "          .range([height-margin.bottom,margin.top]); \n",
    "  var line=d3.line().curve(d3.curveMonotoneX)\n",
    "           .x(function(d,i) {return x(i);})\n",
    "           .y(function(d) {return y(d.y);});\n",
    "  var data=d3.range(n).map(function(d) {\n",
    "      return {'y':d3.randomUniform(n)()}; })\n",
    "  var xAxis=(g,scale=x)=>g\n",
    "      .attr('transform',`translate(0,${height-margin.bottom})`)\n",
    "      .call(d3.axisBottom(scale)\n",
    "              .ticks(width/60).tickSizeOuter(0)),\n",
    "      yAxis=(g,scale=y)=>g\n",
    "      .attr('transform',`translate(${margin.left},0)`)\n",
    "      .call(d3.axisLeft(scale).ticks(height/40));\n",
    "  var svg=d3.select('#svg015')\n",
    "            .attr('width',width).attr('height',height);\n",
    "  svg.selectAll('g').remove(); svg.selectAll('path').remove();\n",
    "  svg.append('g').call(xAxis); svg.append('g').call(yAxis);\n",
    "  svg.append('path').datum(data).attr('d',line)\n",
    "     .attr('stroke','#ff36ff').attr('stroke-width',1)\n",
    "     .attr('stroke-miterlimit',1).attr('stroke-dasharray','0,1')\n",
    "     .attr('fill','none').call(reveal);};\n",
    "</script>"
   ]
  },
  {
   "cell_type": "code",
   "execution_count": 11,
   "metadata": {
    "_kg_hide-input": false,
    "execution": {
     "iopub.execute_input": "2020-11-28T14:38:22.741822Z",
     "iopub.status.busy": "2020-11-28T14:38:22.740786Z",
     "iopub.status.idle": "2020-11-28T14:38:22.746079Z",
     "shell.execute_reply": "2020-11-28T14:38:22.745373Z"
    },
    "papermill": {
     "duration": 0.034254,
     "end_time": "2020-11-28T14:38:22.746201",
     "exception": false,
     "start_time": "2020-11-28T14:38:22.711947",
     "status": "completed"
    },
    "tags": []
   },
   "outputs": [
    {
     "data": {
      "text/html": [
       "\n",
       "        <iframe\n",
       "            width=\"650\"\n",
       "            height=\"370\"\n",
       "            src=\"example002.html\"\n",
       "            frameborder=\"0\"\n",
       "            allowfullscreen\n",
       "        ></iframe>\n",
       "        "
      ],
      "text/plain": [
       "<IPython.lib.display.IFrame at 0x7f77d5a14590>"
      ]
     },
     "execution_count": 11,
     "metadata": {},
     "output_type": "execute_result"
    }
   ],
   "source": [
    "from IPython.display import IFrame\n",
    "IFrame(src='example002.html',width=650,height=370)"
   ]
  },
  {
   "cell_type": "code",
   "execution_count": 12,
   "metadata": {
    "_kg_hide-input": true,
    "execution": {
     "iopub.execute_input": "2020-11-28T14:38:22.798235Z",
     "iopub.status.busy": "2020-11-28T14:38:22.797266Z",
     "iopub.status.idle": "2020-11-28T14:38:22.802277Z",
     "shell.execute_reply": "2020-11-28T14:38:22.801569Z"
    },
    "papermill": {
     "duration": 0.033988,
     "end_time": "2020-11-28T14:38:22.802434",
     "exception": false,
     "start_time": "2020-11-28T14:38:22.768446",
     "status": "completed"
    },
    "tags": []
   },
   "outputs": [
    {
     "name": "stdout",
     "output_type": "stream",
     "text": [
      "Writing example003.html\n"
     ]
    }
   ],
   "source": [
    "%%writefile example003.html\n",
    "<script src='https://d3js.org/d3.v6.min.js'></script>\n",
    "n <input type='number' id='n_frames' value=1\n",
    "style='width:120px; font-size:120%; color:#363636;\n",
    "background-color:silver; text-align:center;'/> \n",
    "m <input type='number' id='m_frames' value=15\n",
    "style='width:120px; font-size:120%; color:#363636;\n",
    "background-color:silver; text-align:center;'/>\n",
    "run =>>> <input type='button' onclick='draw_curves();' value='update'\n",
    "style='width:120px; font-size:120%; color:#363636;\n",
    "background-color:silver; text-align:center;'/><br/><br/>\n",
    "<svg id='svg014' style='background-color:silver;'></svg>\n",
    "<script>s=500;\n",
    "colors=['#3636ff','#ff3636','#ff36ff',\n",
    "        '#ffff36','#36ff36','#36ffff'];\n",
    "function subpoint(a,b,m) {\n",
    "  return [Math.floor(m/2)*(a[0]+b[0])/m,\n",
    "          Math.floor(m/2)*(a[1]+b[1])/m]};\n",
    "function subdivpoly(poly,m,iterations=1) {\n",
    "  var [p1,p2,p3]=poly,points=[];\n",
    "  var centroid=d3.polygonCentroid(poly);\n",
    "  if (iterations===0) {points.push(centroid);} \n",
    "  else {var subset1=[p1,subpoint(p1,p3,m),p2],\n",
    "            subset2=[p2,subpoint(p1,p3,m),p3];\n",
    "        points.push(...subdivpoly(subset1,m,iterations-1));\n",
    "        points.push(...subdivpoly(subset2,m,iterations-1));}\n",
    "  return points};\n",
    "function recursive_curve(len,m,iterations) {\n",
    "  var contour1=[[0,len],[0,0],[len,0]],\n",
    "      contour2=[[len,0],[len,len],[0,len]];\n",
    "  var half1=subdivpoly(contour1,m,iterations),\n",
    "      half2=subdivpoly(contour2,m,iterations);\n",
    "  return [...half1,...half2];};\n",
    "function draw_curves() {\n",
    "  var m=parseInt(document.getElementById('m_frames').value);\n",
    "  var n=parseInt(document.getElementById('n_frames').value);\n",
    "  var line=d3.line();\n",
    "  var svg=d3.select('#svg014').attr('width',s).attr('height',s);\n",
    "  svg.selectAll('path').remove();\n",
    "  svg.selectAll('.curve').data(colors).join('path')\n",
    "     .attr('d',(_,i)=>line(recursive_curve(s,m,i+n))+'z')\n",
    "     .style('fill',d=>d).style('fill-opacity',.02)\n",
    "     .style('stroke',d=>d).style('stroke-width',2); };\n",
    "</script>"
   ]
  },
  {
   "cell_type": "code",
   "execution_count": 13,
   "metadata": {
    "execution": {
     "iopub.execute_input": "2020-11-28T14:38:22.854784Z",
     "iopub.status.busy": "2020-11-28T14:38:22.853933Z",
     "iopub.status.idle": "2020-11-28T14:38:22.857813Z",
     "shell.execute_reply": "2020-11-28T14:38:22.858516Z"
    },
    "papermill": {
     "duration": 0.03361,
     "end_time": "2020-11-28T14:38:22.858673",
     "exception": false,
     "start_time": "2020-11-28T14:38:22.825063",
     "status": "completed"
    },
    "tags": []
   },
   "outputs": [
    {
     "data": {
      "text/html": [
       "\n",
       "        <iframe\n",
       "            width=\"550\"\n",
       "            height=\"570\"\n",
       "            src=\"example003.html\"\n",
       "            frameborder=\"0\"\n",
       "            allowfullscreen\n",
       "        ></iframe>\n",
       "        "
      ],
      "text/plain": [
       "<IPython.lib.display.IFrame at 0x7f77d5a14f50>"
      ]
     },
     "execution_count": 13,
     "metadata": {},
     "output_type": "execute_result"
    }
   ],
   "source": [
    "from IPython.display import IFrame\n",
    "IFrame(src='example003.html',width=550,height=570)"
   ]
  }
 ],
 "metadata": {
  "kernelspec": {
   "display_name": "Python 3",
   "language": "python",
   "name": "python3"
  },
  "language_info": {
   "codemirror_mode": {
    "name": "ipython",
    "version": 3
   },
   "file_extension": ".py",
   "mimetype": "text/x-python",
   "name": "python",
   "nbconvert_exporter": "python",
   "pygments_lexer": "ipython3",
   "version": "3.7.6"
  },
  "papermill": {
   "duration": 5.931448,
   "end_time": "2020-11-28T14:38:22.990329",
   "environment_variables": {},
   "exception": null,
   "input_path": "__notebook__.ipynb",
   "output_path": "__notebook__.ipynb",
   "parameters": {},
   "start_time": "2020-11-28T14:38:17.058881",
   "version": "2.1.0"
  }
 },
 "nbformat": 4,
 "nbformat_minor": 4
}
