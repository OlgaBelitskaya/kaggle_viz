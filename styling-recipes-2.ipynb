{
 "cells": [
  {
   "cell_type": "code",
   "execution_count": 1,
   "metadata": {
    "_kg_hide-input": true,
    "execution": {
     "iopub.execute_input": "2020-11-27T23:02:59.614612Z",
     "iopub.status.busy": "2020-11-27T23:02:59.613577Z",
     "iopub.status.idle": "2020-11-27T23:02:59.627515Z",
     "shell.execute_reply": "2020-11-27T23:02:59.628135Z"
    },
    "papermill": {
     "duration": 0.034847,
     "end_time": "2020-11-27T23:02:59.628364",
     "exception": false,
     "start_time": "2020-11-27T23:02:59.593517",
     "status": "completed"
    },
    "tags": []
   },
   "outputs": [
    {
     "data": {
      "text/html": [
       "<style>\n",
       "    @import 'https://fonts.googleapis.com/css?family=Akronim&effect=3d-float';</style>\n",
       "    <h1 class='font-effect-3d-float' \n",
       "    style='font-family:Akronim; color:#ff36ff; font-size:30px;'>\n",
       "    Code Modules</h1>"
      ],
      "text/plain": [
       "<IPython.core.display.HTML object>"
      ]
     },
     "metadata": {},
     "output_type": "display_data"
    }
   ],
   "source": [
    "%run ../input/python-recipes/dhtml.py\n",
    "dhtml('Code Modules','#ff36ff',f2,fs8)"
   ]
  },
  {
   "cell_type": "code",
   "execution_count": 2,
   "metadata": {
    "_cell_guid": "b1076dfc-b9ad-4769-8c92-a6c4dae69d19",
    "_uuid": "8f2839f25d086af736a60e9eeb907d3b93b6e0e5",
    "execution": {
     "iopub.execute_input": "2020-11-27T23:02:59.660565Z",
     "iopub.status.busy": "2020-11-27T23:02:59.659731Z",
     "iopub.status.idle": "2020-11-27T23:02:59.663641Z",
     "shell.execute_reply": "2020-11-27T23:02:59.662885Z"
    },
    "papermill": {
     "duration": 0.021853,
     "end_time": "2020-11-27T23:02:59.663778",
     "exception": false,
     "start_time": "2020-11-27T23:02:59.641925",
     "status": "completed"
    },
    "tags": []
   },
   "outputs": [],
   "source": [
    "from IPython.display import IFrame"
   ]
  },
  {
   "cell_type": "code",
   "execution_count": 3,
   "metadata": {
    "_kg_hide-input": true,
    "execution": {
     "iopub.execute_input": "2020-11-27T23:02:59.695917Z",
     "iopub.status.busy": "2020-11-27T23:02:59.695061Z",
     "iopub.status.idle": "2020-11-27T23:02:59.700083Z",
     "shell.execute_reply": "2020-11-27T23:02:59.699508Z"
    },
    "papermill": {
     "duration": 0.023581,
     "end_time": "2020-11-27T23:02:59.700235",
     "exception": false,
     "start_time": "2020-11-27T23:02:59.676654",
     "status": "completed"
    },
    "tags": []
   },
   "outputs": [
    {
     "data": {
      "text/html": [
       "<style>\n",
       "    @import 'https://fonts.googleapis.com/css?family=Akronim&effect=3d-float';</style>\n",
       "    <h1 class='font-effect-3d-float' \n",
       "    style='font-family:Akronim; color:#ff36ff; font-size:30px;'>\n",
       "    Animated Markdown Cells</h1>"
      ],
      "text/plain": [
       "<IPython.core.display.HTML object>"
      ]
     },
     "metadata": {},
     "output_type": "display_data"
    }
   ],
   "source": [
    "dhtml('Animated Markdown Cells','#ff36ff',f2,fs8)"
   ]
  },
  {
   "cell_type": "markdown",
   "metadata": {
    "papermill": {
     "duration": 0.013012,
     "end_time": "2020-11-27T23:02:59.726665",
     "exception": false,
     "start_time": "2020-11-27T23:02:59.713653",
     "status": "completed"
    },
    "tags": []
   },
   "source": [
    "🕒 <<<<< New Year Countdown >>>>> 🕒 <p id='new_year'></p>"
   ]
  },
  {
   "cell_type": "code",
   "execution_count": 4,
   "metadata": {
    "_kg_hide-input": true,
    "execution": {
     "iopub.execute_input": "2020-11-27T23:02:59.760436Z",
     "iopub.status.busy": "2020-11-27T23:02:59.759393Z",
     "iopub.status.idle": "2020-11-27T23:02:59.764930Z",
     "shell.execute_reply": "2020-11-27T23:02:59.764334Z"
    },
    "papermill": {
     "duration": 0.025007,
     "end_time": "2020-11-27T23:02:59.765053",
     "exception": false,
     "start_time": "2020-11-27T23:02:59.740046",
     "status": "completed"
    },
    "tags": []
   },
   "outputs": [
    {
     "data": {
      "application/javascript": [
       "var countDownDate=new Date('Jan 1, 2021 00:00:00').getTime();\n",
       "var x=setInterval(function() {\n",
       "  var doc=document.getElementById('new_year');\n",
       "  var now=new Date().getTime();\n",
       "  var distance=countDownDate-now;\n",
       "  var days=Math.floor(distance/(1000*60*60*24)),\n",
       "      hours=Math.floor((distance%(1000*60*60*24))/(1000*60*60)),\n",
       "      minutes=Math.floor((distance%(1000*60*60))/(1000 * 60)),\n",
       "      seconds=Math.floor((distance%(1000*60))/1000);\n",
       "  doc.innerHTML=days+' days '+hours+' hours '+minutes+\n",
       "                ' minutes '+seconds+' seconds';\n",
       "  if (distance<0) {\n",
       "    clearInterval(x); doc.innerHTML='Happy New Year!';}},1000);\n"
      ],
      "text/plain": [
       "<IPython.core.display.Javascript object>"
      ]
     },
     "metadata": {},
     "output_type": "display_data"
    }
   ],
   "source": [
    "%%javascript\n",
    "var countDownDate=new Date('Jan 1, 2021 00:00:00').getTime();\n",
    "var x=setInterval(function() {\n",
    "  var doc=document.getElementById('new_year');\n",
    "  var now=new Date().getTime();\n",
    "  var distance=countDownDate-now;\n",
    "  var days=Math.floor(distance/(1000*60*60*24)),\n",
    "      hours=Math.floor((distance%(1000*60*60*24))/(1000*60*60)),\n",
    "      minutes=Math.floor((distance%(1000*60*60))/(1000 * 60)),\n",
    "      seconds=Math.floor((distance%(1000*60))/1000);\n",
    "  doc.innerHTML=days+' days '+hours+' hours '+minutes+\n",
    "                ' minutes '+seconds+' seconds';\n",
    "  if (distance<0) {\n",
    "    clearInterval(x); doc.innerHTML='Happy New Year!';}},1000);"
   ]
  },
  {
   "cell_type": "markdown",
   "metadata": {
    "papermill": {
     "duration": 0.013794,
     "end_time": "2020-11-27T23:02:59.793292",
     "exception": false,
     "start_time": "2020-11-27T23:02:59.779498",
     "status": "completed"
    },
    "tags": []
   },
   "source": [
    "<button class='animated_button'><span>Animated Button</span></button>"
   ]
  },
  {
   "cell_type": "code",
   "execution_count": 5,
   "metadata": {
    "_kg_hide-input": true,
    "execution": {
     "iopub.execute_input": "2020-11-27T23:02:59.831523Z",
     "iopub.status.busy": "2020-11-27T23:02:59.830503Z",
     "iopub.status.idle": "2020-11-27T23:02:59.836131Z",
     "shell.execute_reply": "2020-11-27T23:02:59.835467Z"
    },
    "papermill": {
     "duration": 0.026948,
     "end_time": "2020-11-27T23:02:59.836293",
     "exception": false,
     "start_time": "2020-11-27T23:02:59.809345",
     "status": "completed"
    },
    "tags": []
   },
   "outputs": [
    {
     "data": {
      "text/html": [
       "<style>\n",
       "@import url('https://fonts.googleapis.com/css?family=Ewert');\n",
       ".animated_button {\n",
       "    background-color:silver; font-family:'Ewert'; \n",
       "    color:#ff36ff; text-align:center; font-size:20px; \n",
       "    border-radius:15px; padding:10px; width:350px; \n",
       "    transition:all 0.8s; cursor:pointer; margin:2px;}\n",
       ".animated_button span {\n",
       "    cursor:pointer; display:inline-block; \n",
       "    position: relative; transition:0.8s;}\n",
       ".animated_button span:after {\n",
       "    content:'\\22d9'; position:absolute; \n",
       "    opacity:0; top:0; right:-10px; transition:0.8s;}\n",
       ".animated_button:hover span {padding-right:15px;}\n",
       ".animated_button:hover span:after {opacity:1; mright:0;}\n",
       "</style>\n"
      ],
      "text/plain": [
       "<IPython.core.display.HTML object>"
      ]
     },
     "metadata": {},
     "output_type": "display_data"
    }
   ],
   "source": [
    "%%html\n",
    "<style>\n",
    "@import url('https://fonts.googleapis.com/css?family=Ewert');\n",
    ".animated_button {\n",
    "    background-color:silver; font-family:'Ewert'; \n",
    "    color:#ff36ff; text-align:center; font-size:20px; \n",
    "    border-radius:15px; padding:10px; width:350px; \n",
    "    transition:all 0.8s; cursor:pointer; margin:2px;}\n",
    ".animated_button span {\n",
    "    cursor:pointer; display:inline-block; \n",
    "    position: relative; transition:0.8s;}\n",
    ".animated_button span:after {\n",
    "    content:'\\22d9'; position:absolute; \n",
    "    opacity:0; top:0; right:-10px; transition:0.8s;}\n",
    ".animated_button:hover span {padding-right:15px;}\n",
    ".animated_button:hover span:after {opacity:1; mright:0;}\n",
    "</style>"
   ]
  },
  {
   "cell_type": "code",
   "execution_count": 6,
   "metadata": {
    "_kg_hide-input": true,
    "execution": {
     "iopub.execute_input": "2020-11-27T23:02:59.875302Z",
     "iopub.status.busy": "2020-11-27T23:02:59.874165Z",
     "iopub.status.idle": "2020-11-27T23:02:59.879334Z",
     "shell.execute_reply": "2020-11-27T23:02:59.878550Z"
    },
    "papermill": {
     "duration": 0.027362,
     "end_time": "2020-11-27T23:02:59.879477",
     "exception": false,
     "start_time": "2020-11-27T23:02:59.852115",
     "status": "completed"
    },
    "tags": []
   },
   "outputs": [
    {
     "data": {
      "text/html": [
       "<style>\n",
       "    @import 'https://fonts.googleapis.com/css?family=Akronim&effect=3d-float';</style>\n",
       "    <h1 class='font-effect-3d-float' \n",
       "    style='font-family:Akronim; color:#ff36ff; font-size:30px;'>\n",
       "    Animated Code Outputs</h1>"
      ],
      "text/plain": [
       "<IPython.core.display.HTML object>"
      ]
     },
     "metadata": {},
     "output_type": "display_data"
    }
   ],
   "source": [
    "dhtml('Animated Code Outputs','#ff36ff',f2,fs8)"
   ]
  },
  {
   "cell_type": "code",
   "execution_count": 7,
   "metadata": {
    "_kg_hide-input": true,
    "execution": {
     "iopub.execute_input": "2020-11-27T23:02:59.918935Z",
     "iopub.status.busy": "2020-11-27T23:02:59.918119Z",
     "iopub.status.idle": "2020-11-27T23:02:59.924064Z",
     "shell.execute_reply": "2020-11-27T23:02:59.923044Z"
    },
    "papermill": {
     "duration": 0.028498,
     "end_time": "2020-11-27T23:02:59.924281",
     "exception": false,
     "start_time": "2020-11-27T23:02:59.895783",
     "status": "completed"
    },
    "tags": []
   },
   "outputs": [
    {
     "name": "stdout",
     "output_type": "stream",
     "text": [
      "Writing example001.html\n"
     ]
    }
   ],
   "source": [
    "%%writefile example001.html\n",
    "<script src='https://d3js.org/d3.v6.min.js'></script>\n",
    "run <button style='background:silver; width:200px; height:25px'\n",
    "onclick='draw_circles();' id='interpolate_button'>\n",
    "=>>></button><br/><br/>\n",
    "<svg id='svg016'></svg>\n",
    "<script>\n",
    "function draw_circles() {\n",
    "var cols={1:'silver',2:'#ff36ff'};\n",
    "var svg=d3.select('#svg016')\n",
    "          .attr('width',300).attr('height',300);\n",
    "svg.selectAll('circle').remove();\n",
    "svg.selectAll('text').remove();\n",
    "for (var i=1; i<7; i++) {\n",
    "    svg.append('circle').attr('id','c'+i)\n",
    "      .attr('transform','translate(150,150)')\n",
    "      .attr('cx',0).attr('cy',0).attr('r',140-i*20)\n",
    "      .attr('stroke','silver').attr('stroke-width',3)\n",
    "      .attr('fill-opacity',.1*i)\n",
    "      .transition().duration(10000)\n",
    "      .styleTween('fill',function() {\n",
    "          return d3.interpolateHsl(cols[1],cols[2]);});\n",
    "    svg.append('text').text('COLOR')\n",
    "       .attr('transform','translate(25,25)')\n",
    "       .attr('x',0).attr('y',0).attr('fill','siver')\n",
    "       .transition().duration(10000)\n",
    "       .styleTween('fill',function() {\n",
    "          return d3.interpolateHsl(cols[2],cols[1]);});\n",
    "};};</script>"
   ]
  },
  {
   "cell_type": "code",
   "execution_count": 8,
   "metadata": {
    "execution": {
     "iopub.execute_input": "2020-11-27T23:02:59.967519Z",
     "iopub.status.busy": "2020-11-27T23:02:59.966674Z",
     "iopub.status.idle": "2020-11-27T23:02:59.977097Z",
     "shell.execute_reply": "2020-11-27T23:02:59.976094Z"
    },
    "papermill": {
     "duration": 0.035557,
     "end_time": "2020-11-27T23:02:59.977327",
     "exception": false,
     "start_time": "2020-11-27T23:02:59.941770",
     "status": "completed"
    },
    "tags": []
   },
   "outputs": [
    {
     "data": {
      "text/html": [
       "\n",
       "        <iframe\n",
       "            width=\"350\"\n",
       "            height=\"370\"\n",
       "            src=\"example001.html\"\n",
       "            frameborder=\"0\"\n",
       "            allowfullscreen\n",
       "        ></iframe>\n",
       "        "
      ],
      "text/plain": [
       "<IPython.lib.display.IFrame at 0x7f591095cb50>"
      ]
     },
     "execution_count": 8,
     "metadata": {},
     "output_type": "execute_result"
    }
   ],
   "source": [
    "IFrame(src='example001.html',width=350,height=370)"
   ]
  },
  {
   "cell_type": "code",
   "execution_count": 9,
   "metadata": {
    "_kg_hide-input": true,
    "execution": {
     "iopub.execute_input": "2020-11-27T23:03:00.028916Z",
     "iopub.status.busy": "2020-11-27T23:03:00.027724Z",
     "iopub.status.idle": "2020-11-27T23:03:00.034527Z",
     "shell.execute_reply": "2020-11-27T23:03:00.033679Z"
    },
    "papermill": {
     "duration": 0.035246,
     "end_time": "2020-11-27T23:03:00.034706",
     "exception": false,
     "start_time": "2020-11-27T23:02:59.999460",
     "status": "completed"
    },
    "tags": []
   },
   "outputs": [
    {
     "name": "stdout",
     "output_type": "stream",
     "text": [
      "Writing example002.html\n"
     ]
    }
   ],
   "source": [
    "%%writefile example002.html\n",
    "<script src='https://d3js.org/d3.v6.min.js'></script>\n",
    "number <select id='num_points' \n",
    "style='text-align:center; text-align-last:center; \n",
    "  background:silver; width:200px; height:25px'>\n",
    "    <option value='100'>100</option><option value='150'>150</option>\n",
    "    <option value='200'>200</option><option value='250'>250</option>\n",
    "    <option value='300'>300</option><option value='350'>350</option>\n",
    "</select><br/><br/>run &nbsp; &nbsp; &nbsp; &nbsp;\n",
    "<button style='background:silver; width:200px; height:25px'\n",
    "onclick='draw_chart();' id='run_button'>=>>></button><br/><br/>\n",
    "<svg id='svg015' style='background-color:silver;'></svg><script>\n",
    "margin={top:20,right:20,bottom:20,left:60},width=600,height=250;\n",
    "reveal=path=>\n",
    "path.transition().duration(10000).ease(d3.easeLinear)\n",
    "    .attrTween('stroke-dasharray',function() {\n",
    "      const length=this.getTotalLength();\n",
    "      return d3.interpolate(`0,${length}`,`${length},${length}`);});\n",
    "function draw_chart() {\n",
    "  var n=parseInt(document.getElementById('num_points').value);\n",
    "  var x=d3.scaleLinear().domain([0,n-1])\n",
    "          .range([margin.left,width-margin.right]),\n",
    "      y=d3.scaleLinear().domain([0,n])\n",
    "          .range([height-margin.bottom,margin.top]); \n",
    "  var line=d3.line().curve(d3.curveMonotoneX)\n",
    "           .x(function(d,i) {return x(i);})\n",
    "           .y(function(d) {return y(d.y);});\n",
    "  var data=d3.range(n).map(function(d) {\n",
    "      return {'y':d3.randomUniform(n)()}; })\n",
    "  var xAxis=(g,scale=x)=>g\n",
    "      .attr('transform',`translate(0,${height-margin.bottom})`)\n",
    "      .call(d3.axisBottom(scale)\n",
    "              .ticks(width/60).tickSizeOuter(0)),\n",
    "      yAxis=(g,scale=y)=>g\n",
    "      .attr('transform',`translate(${margin.left},0)`)\n",
    "      .call(d3.axisLeft(scale).ticks(height/40));\n",
    "  var svg=d3.select('#svg015')\n",
    "            .attr('width',width).attr('height',height);\n",
    "  svg.selectAll('g').remove(); svg.selectAll('path').remove();\n",
    "  svg.append('g').call(xAxis); svg.append('g').call(yAxis);\n",
    "  svg.append('path').datum(data).attr('d',line)\n",
    "     .attr('stroke','#ff36ff').attr('stroke-width',1)\n",
    "     .attr('stroke-miterlimit',1).attr('stroke-dasharray','0,1')\n",
    "     .attr('fill','none').call(reveal);};\n",
    "</script>"
   ]
  },
  {
   "cell_type": "code",
   "execution_count": 10,
   "metadata": {
    "_kg_hide-input": false,
    "execution": {
     "iopub.execute_input": "2020-11-27T23:03:00.077947Z",
     "iopub.status.busy": "2020-11-27T23:03:00.076956Z",
     "iopub.status.idle": "2020-11-27T23:03:00.082671Z",
     "shell.execute_reply": "2020-11-27T23:03:00.081978Z"
    },
    "papermill": {
     "duration": 0.029812,
     "end_time": "2020-11-27T23:03:00.082798",
     "exception": false,
     "start_time": "2020-11-27T23:03:00.052986",
     "status": "completed"
    },
    "tags": []
   },
   "outputs": [
    {
     "data": {
      "text/html": [
       "\n",
       "        <iframe\n",
       "            width=\"650\"\n",
       "            height=\"370\"\n",
       "            src=\"example002.html\"\n",
       "            frameborder=\"0\"\n",
       "            allowfullscreen\n",
       "        ></iframe>\n",
       "        "
      ],
      "text/plain": [
       "<IPython.lib.display.IFrame at 0x7f59100e7510>"
      ]
     },
     "execution_count": 10,
     "metadata": {},
     "output_type": "execute_result"
    }
   ],
   "source": [
    "IFrame(src='example002.html',width=650,height=370)"
   ]
  },
  {
   "cell_type": "code",
   "execution_count": 11,
   "metadata": {
    "_kg_hide-input": true,
    "execution": {
     "iopub.execute_input": "2020-11-27T23:03:00.128075Z",
     "iopub.status.busy": "2020-11-27T23:03:00.127150Z",
     "iopub.status.idle": "2020-11-27T23:03:00.132532Z",
     "shell.execute_reply": "2020-11-27T23:03:00.131752Z"
    },
    "papermill": {
     "duration": 0.030998,
     "end_time": "2020-11-27T23:03:00.132668",
     "exception": false,
     "start_time": "2020-11-27T23:03:00.101670",
     "status": "completed"
    },
    "tags": []
   },
   "outputs": [
    {
     "name": "stdout",
     "output_type": "stream",
     "text": [
      "Writing example003.html\n"
     ]
    }
   ],
   "source": [
    "%%writefile example003.html\n",
    "<script src='https://d3js.org/d3.v6.min.js'></script>\n",
    "n <input type='number' id='n_frames' value=1\n",
    "style='width:120px; font-size:120%; color:#363636;\n",
    "background-color:silver; text-align:center;'/> \n",
    "m <input type='number' id='m_frames' value=15\n",
    "style='width:120px; font-size:120%; color:#363636;\n",
    "background-color:silver; text-align:center;'/>\n",
    "run =>>> <input type='button' onclick='draw_curves();' value='update'\n",
    "style='width:120px; font-size:120%; color:#363636;\n",
    "background-color:silver; text-align:center;'/><br/><br/>\n",
    "<svg id='svg014' style='background-color:silver;'></svg>\n",
    "<script>s=500;\n",
    "colors=['#3636ff','#ff3636','#ff36ff',\n",
    "        '#ffff36','#36ff36','#36ffff'];\n",
    "function subpoint(a,b,m) {\n",
    "  return [Math.floor(m/2)*(a[0]+b[0])/m,\n",
    "          Math.floor(m/2)*(a[1]+b[1])/m]};\n",
    "function subdivpoly(poly,m,iterations=1) {\n",
    "  var [p1,p2,p3]=poly,points=[];\n",
    "  var centroid=d3.polygonCentroid(poly);\n",
    "  if (iterations===0) {points.push(centroid);} \n",
    "  else {var subset1=[p1,subpoint(p1,p3,m),p2],\n",
    "            subset2=[p2,subpoint(p1,p3,m),p3];\n",
    "        points.push(...subdivpoly(subset1,m,iterations-1));\n",
    "        points.push(...subdivpoly(subset2,m,iterations-1));}\n",
    "  return points};\n",
    "function recursive_curve(len,m,iterations) {\n",
    "  var contour1=[[0,len],[0,0],[len,0]],\n",
    "      contour2=[[len,0],[len,len],[0,len]];\n",
    "  var half1=subdivpoly(contour1,m,iterations),\n",
    "      half2=subdivpoly(contour2,m,iterations);\n",
    "  return [...half1,...half2];};\n",
    "function draw_curves() {\n",
    "  var m=parseInt(document.getElementById('m_frames').value);\n",
    "  var n=parseInt(document.getElementById('n_frames').value);\n",
    "  var line=d3.line();\n",
    "  var svg=d3.select('#svg014').attr('width',s).attr('height',s);\n",
    "  svg.selectAll('path').remove();\n",
    "  svg.selectAll('.curve').data(colors).join('path')\n",
    "     .attr('d',(_,i)=>line(recursive_curve(s,m,i+n))+'z')\n",
    "     .style('fill',d=>d).style('fill-opacity',.02)\n",
    "     .style('stroke',d=>d).style('stroke-width',2); };\n",
    "</script>"
   ]
  },
  {
   "cell_type": "code",
   "execution_count": 12,
   "metadata": {
    "execution": {
     "iopub.execute_input": "2020-11-27T23:03:00.180247Z",
     "iopub.status.busy": "2020-11-27T23:03:00.179130Z",
     "iopub.status.idle": "2020-11-27T23:03:00.183864Z",
     "shell.execute_reply": "2020-11-27T23:03:00.183271Z"
    },
    "papermill": {
     "duration": 0.031625,
     "end_time": "2020-11-27T23:03:00.183990",
     "exception": false,
     "start_time": "2020-11-27T23:03:00.152365",
     "status": "completed"
    },
    "tags": []
   },
   "outputs": [
    {
     "data": {
      "text/html": [
       "\n",
       "        <iframe\n",
       "            width=\"550\"\n",
       "            height=\"570\"\n",
       "            src=\"example003.html\"\n",
       "            frameborder=\"0\"\n",
       "            allowfullscreen\n",
       "        ></iframe>\n",
       "        "
      ],
      "text/plain": [
       "<IPython.lib.display.IFrame at 0x7f59100e7e50>"
      ]
     },
     "execution_count": 12,
     "metadata": {},
     "output_type": "execute_result"
    }
   ],
   "source": [
    "IFrame(src='example003.html',width=550,height=570)"
   ]
  }
 ],
 "metadata": {
  "kernelspec": {
   "display_name": "Python 3",
   "language": "python",
   "name": "python3"
  },
  "language_info": {
   "codemirror_mode": {
    "name": "ipython",
    "version": 3
   },
   "file_extension": ".py",
   "mimetype": "text/x-python",
   "name": "python",
   "nbconvert_exporter": "python",
   "pygments_lexer": "ipython3",
   "version": "3.7.6"
  },
  "papermill": {
   "duration": 5.996258,
   "end_time": "2020-11-27T23:03:00.313597",
   "environment_variables": {},
   "exception": null,
   "input_path": "__notebook__.ipynb",
   "output_path": "__notebook__.ipynb",
   "parameters": {},
   "start_time": "2020-11-27T23:02:54.317339",
   "version": "2.1.0"
  }
 },
 "nbformat": 4,
 "nbformat_minor": 4
}
