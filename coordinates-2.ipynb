{
 "cells": [
  {
   "cell_type": "code",
   "execution_count": 1,
   "metadata": {
    "_kg_hide-input": true,
    "execution": {
     "iopub.execute_input": "2020-12-23T10:52:57.626235Z",
     "iopub.status.busy": "2020-12-23T10:52:57.625485Z",
     "iopub.status.idle": "2020-12-23T10:52:57.646576Z",
     "shell.execute_reply": "2020-12-23T10:52:57.647299Z"
    },
    "papermill": {
     "duration": 0.034088,
     "end_time": "2020-12-23T10:52:57.647626",
     "exception": false,
     "start_time": "2020-12-23T10:52:57.613538",
     "status": "completed"
    },
    "tags": []
   },
   "outputs": [
    {
     "data": {
      "text/html": [
       "<style>@import 'https://fonts.googleapis.com/css?family=Ewert'; #colored_font391028888 {color:darkslategray; font-family:Ewert; font-size:18px;}</style><h1 id='colored_font391028888'>Code Modules, Setting, & Functions</h1><script>var idc=setInterval(function() {var iddoc=document.getElementById('colored_font391028888'); var now=new Date().getTime(); var sec=Math.floor((now%(1000*60))/1000); var col='rgb('+(5+Math.abs(245-8*sec))+',0,'+(250-Math.abs(245-8*sec))+')'; iddoc.style.color=col;},1000);</script>"
      ],
      "text/plain": [
       "<IPython.core.display.HTML object>"
      ]
     },
     "metadata": {},
     "output_type": "display_data"
    }
   ],
   "source": [
    "%run ../input/python-recipes/cidhtml.py\n",
    "idhtml('Code Modules, Setting, & Functions')"
   ]
  },
  {
   "cell_type": "code",
   "execution_count": 2,
   "metadata": {
    "_cell_guid": "b1076dfc-b9ad-4769-8c92-a6c4dae69d19",
    "_kg_hide-input": true,
    "_uuid": "8f2839f25d086af736a60e9eeb907d3b93b6e0e5",
    "execution": {
     "iopub.execute_input": "2020-12-23T10:52:57.670024Z",
     "iopub.status.busy": "2020-12-23T10:52:57.669223Z",
     "iopub.status.idle": "2020-12-23T10:52:57.676737Z",
     "shell.execute_reply": "2020-12-23T10:52:57.677309Z"
    },
    "papermill": {
     "duration": 0.021548,
     "end_time": "2020-12-23T10:52:57.677462",
     "exception": false,
     "start_time": "2020-12-23T10:52:57.655914",
     "status": "completed"
    },
    "tags": []
   },
   "outputs": [
    {
     "name": "stdout",
     "output_type": "stream",
     "text": [
      "Writing black_white_animation.py\n"
     ]
    }
   ],
   "source": [
    "%%writefile black_white_animation.py\n",
    "import warnings; warnings.filterwarnings('ignore')\n",
    "import imageio,numpy as np,pandas as pd\n",
    "import os,h5py,seaborn as sn,pylab as pl\n",
    "from skimage.transform import resize\n",
    "from skimage import io\n",
    "from IPython.display import display,HTML\n",
    "\n",
    "def randcoord(img_size_out,img_size=1024):\n",
    "    a=(.5+.1**6*np.random.randint(1,999999))*\\\n",
    "      np.random.choice([-1,1],1)[0]\n",
    "    b=np.random.randint(3,10)\n",
    "    c=.1**3*np.random.randint(1,99)*\\\n",
    "      np.random.choice([-1,1],1)[0]\n",
    "    t=np.arange(0,12*np.pi,1/7200)\n",
    "    fx=np.sin(t/6)+a*np.sin(b*t)*np.cos(t)-\\\n",
    "       c*np.sin(16*b*t)\n",
    "    fy=np.cos(t/6)+a*np.sin(b*t)*np.sin(t)-\\\n",
    "       c*np.cos(16*b*t)\n",
    "    fx=.951*(fx-1.051*fx.min())/(fx.max()-fx.min())\n",
    "    fy=.951*(fy-1.051*fy.min())/(fy.max()-fy.min())\n",
    "    f=np.array([[fx[i],fy[i]] for i in range(len(t))])\n",
    "    return f,np.around(a,6),b,np.around(c,3)\n",
    "\n",
    "def interpolate_hypersphere(v1,v2,steps):\n",
    "    v1norm=np.linalg.norm(v1)\n",
    "    v2norm=np.linalg.norm(v2)\n",
    "    v2normalized=v2*(v1norm/v2norm)\n",
    "    vectors=[]\n",
    "    for step in range(steps):\n",
    "        interpolated=v1+(v2normalized-v1)*step/(steps-int(1))\n",
    "        interpolated_norm=np.linalg.norm(interpolated)\n",
    "        interpolated_normalized=\\\n",
    "        interpolated*(v1norm/interpolated_norm)\n",
    "        vectors.append(interpolated_normalized)\n",
    "    return np.array(vectors)\n",
    "\n",
    "def create_images(coords_int,img_size_out,img_size=1024):\n",
    "    imgs=[]\n",
    "    for i in range(coords_int.shape[0]):\n",
    "        fx=coords_int[i,:,0]; fy=coords_int[i,:,1]\n",
    "        fx=np.array(np.clip(fx*img_size,0,img_size-1),dtype='int32')\n",
    "        fy=np.array(np.clip(fy*img_size,0,img_size-1),dtype='int32')\n",
    "        f=np.array([[fx[i],fy[i]] for i in range(len(fx))])\n",
    "        img=np.ones((img_size,img_size))\n",
    "        for [x,y] in f: img[y,x]=0\n",
    "        img=resize(img,(img_size_out,img_size_out))\n",
    "        imgs.append(img)\n",
    "    return np.array(imgs)\n",
    "\n",
    "def preprocess_img(\n",
    "    file1,file2,\n",
    "    file_path='../input/image-examples-for-mixed-styles/'):\n",
    "    img1=io.imread(file_path+file1)\n",
    "    img2=io.imread(file_path+file2)\n",
    "    imgbw1=np.ones(img1.shape[:2])\n",
    "    imgbw1[img1[:,:,1]<int(200)]=0\n",
    "    imgbw2=np.ones(img2.shape[:2])\n",
    "    imgbw2[img2[:,:,1]<int(200)]=0\n",
    "    coords1=np.array(np.where(imgbw1<1)).T\n",
    "    coords2=np.array(np.where(imgbw2<1)).T\n",
    "    while not coords2.shape==coords1.shape:\n",
    "        randi=np.random.randint(\n",
    "            0,coords2.shape[0]-1,\n",
    "            coords2.shape[0]-coords1.shape[0])\n",
    "        coords2=np.delete(coords2,list(randi),axis=0)\n",
    "    return coords1,coords2\n",
    "\n",
    "def create_display_gif(img_size_out=256,steps=60):\n",
    "    sh=randcoord(img_size_out)[0].shape\n",
    "    coords=np.zeros((2,sh[0],sh[1]),dtype=np.float32)\n",
    "    labels=np.zeros((2,),dtype=np.int32)\n",
    "    targets=np.zeros((2,2),dtype=np.float32)\n",
    "    for i in range(2):\n",
    "        coord,a,b,c=randcoord(img_size_out)\n",
    "        coords[i,:,:]=coord\n",
    "        labels[i],targets[i,0],targets[i,1]=b-3,a,c\n",
    "    coords_int=np.vstack(\n",
    "        [interpolate_hypersphere(coords[1],coords[0],steps),\n",
    "         interpolate_hypersphere(coords[0],coords[1],steps)])\n",
    "    imgs=create_images(coords_int,img_size_out)\n",
    "    file_name='pic.gif'\n",
    "    imageio.mimsave(file_name,imgs)\n",
    "    s1='<div id=\"imgs_gif\"><img src=\"'\n",
    "    s2='\" height=\"400\" width=\"400\"></img></div>'\n",
    "    display(HTML(s1+file_name+s2))\n",
    "    return imgs"
   ]
  },
  {
   "cell_type": "code",
   "execution_count": 3,
   "metadata": {
    "_kg_hide-input": true,
    "execution": {
     "iopub.execute_input": "2020-12-23T10:52:57.700610Z",
     "iopub.status.busy": "2020-12-23T10:52:57.699565Z",
     "iopub.status.idle": "2020-12-23T10:52:57.703922Z",
     "shell.execute_reply": "2020-12-23T10:52:57.703215Z"
    },
    "papermill": {
     "duration": 0.018555,
     "end_time": "2020-12-23T10:52:57.704045",
     "exception": false,
     "start_time": "2020-12-23T10:52:57.685490",
     "status": "completed"
    },
    "tags": []
   },
   "outputs": [
    {
     "data": {
      "text/html": [
       "<style>@import 'https://fonts.googleapis.com/css?family=Ewert'; #colored_font399050361 {color:darkslategray; font-family:Ewert; font-size:18px;}</style><h1 id='colored_font399050361'>Coordinates` Interpolation</h1><script>var idc=setInterval(function() {var iddoc=document.getElementById('colored_font399050361'); var now=new Date().getTime(); var sec=Math.floor((now%(1000*60))/1000); var col='rgb('+(5+Math.abs(245-8*sec))+',0,'+(250-Math.abs(245-8*sec))+')'; iddoc.style.color=col;},1000);</script>"
      ],
      "text/plain": [
       "<IPython.core.display.HTML object>"
      ]
     },
     "metadata": {},
     "output_type": "display_data"
    }
   ],
   "source": [
    "idhtml('Coordinates` Interpolation')"
   ]
  },
  {
   "cell_type": "code",
   "execution_count": 4,
   "metadata": {
    "_cell_guid": "79c7e3d0-c299-4dcb-8224-4455121ee9b0",
    "_uuid": "d629ff2d2480ee46fbb7e2d37f6b5fab8052498a",
    "execution": {
     "iopub.execute_input": "2020-12-23T10:52:57.729872Z",
     "iopub.status.busy": "2020-12-23T10:52:57.729164Z",
     "iopub.status.idle": "2020-12-23T10:55:46.540151Z",
     "shell.execute_reply": "2020-12-23T10:55:46.540701Z"
    },
    "papermill": {
     "duration": 168.827732,
     "end_time": "2020-12-23T10:55:46.540860",
     "exception": false,
     "start_time": "2020-12-23T10:52:57.713128",
     "status": "completed"
    },
    "tags": []
   },
   "outputs": [
    {
     "data": {
      "text/html": [
       "<div id=\"imgs_gif\"><img src=\"pic.gif\" height=\"400\" width=\"400\"></img></div>"
      ],
      "text/plain": [
       "<IPython.core.display.HTML object>"
      ]
     },
     "metadata": {},
     "output_type": "display_data"
    }
   ],
   "source": [
    "%run black_white_animation.py\n",
    "imgs=create_display_gif()"
   ]
  },
  {
   "cell_type": "code",
   "execution_count": 5,
   "metadata": {
    "_kg_hide-input": true,
    "execution": {
     "iopub.execute_input": "2020-12-23T10:55:46.562816Z",
     "iopub.status.busy": "2020-12-23T10:55:46.562083Z",
     "iopub.status.idle": "2020-12-23T10:55:46.567776Z",
     "shell.execute_reply": "2020-12-23T10:55:46.568323Z"
    },
    "papermill": {
     "duration": 0.018485,
     "end_time": "2020-12-23T10:55:46.568472",
     "exception": false,
     "start_time": "2020-12-23T10:55:46.549987",
     "status": "completed"
    },
    "tags": []
   },
   "outputs": [
    {
     "data": {
      "text/html": [
       "<style>@import 'https://fonts.googleapis.com/css?family=Ewert'; #colored_font6377775 {color:darkslategray; font-family:Ewert; font-size:18px;}</style><h1 id='colored_font6377775'>With Color Interpolation</h1><script>var idc=setInterval(function() {var iddoc=document.getElementById('colored_font6377775'); var now=new Date().getTime(); var sec=Math.floor((now%(1000*60))/1000); var col='rgb('+(5+Math.abs(245-8*sec))+',0,'+(250-Math.abs(245-8*sec))+')'; iddoc.style.color=col;},1000);</script>"
      ],
      "text/plain": [
       "<IPython.core.display.HTML object>"
      ]
     },
     "metadata": {},
     "output_type": "display_data"
    }
   ],
   "source": [
    "idhtml('With Color Interpolation')"
   ]
  },
  {
   "cell_type": "code",
   "execution_count": 6,
   "metadata": {
    "execution": {
     "iopub.execute_input": "2020-12-23T10:55:46.600587Z",
     "iopub.status.busy": "2020-12-23T10:55:46.599823Z",
     "iopub.status.idle": "2020-12-23T10:56:29.174042Z",
     "shell.execute_reply": "2020-12-23T10:56:29.174583Z"
    },
    "papermill": {
     "duration": 42.596439,
     "end_time": "2020-12-23T10:56:29.174753",
     "exception": false,
     "start_time": "2020-12-23T10:55:46.578314",
     "status": "completed"
    },
    "tags": []
   },
   "outputs": [
    {
     "data": {
      "text/html": [
       "<div id=\"imgs_gif2\"><img src=\"pic2.gif\" height=\"400\" width=\"400\"></img></div>"
      ],
      "text/plain": [
       "<IPython.core.display.HTML object>"
      ]
     },
     "metadata": {},
     "output_type": "display_data"
    }
   ],
   "source": [
    "steps=60\n",
    "col1=np.array([np.random.random(),0,.9-.4*np.random.random()])\n",
    "col2=np.array([0.,np.random.random(),.9-.4*np.random.random()])\n",
    "colors=np.vstack(\n",
    "     [interpolate_hypersphere(col1,col2,steps),\n",
    "      interpolate_hypersphere(col2,col1,steps)])\n",
    "colimgs=[np.array(\n",
    "    [el*colors[i] if el<.9 else np.ones(3) \n",
    "     for el in imgs[i].reshape(imgs[i].shape[0]**2)])\\\n",
    "     .reshape(imgs[i].shape[0],imgs[i].shape[0],3)\n",
    "      for i in range(imgs.shape[0])]\n",
    "file_name2='pic2.gif'\n",
    "imageio.mimsave(file_name2,colimgs)\n",
    "s1='<div id=\"imgs_gif2\"><img src=\"'\n",
    "s2='\" height=\"400\" width=\"400\"></img></div>'\n",
    "display(HTML(s1+file_name2+s2))"
   ]
  },
  {
   "cell_type": "code",
   "execution_count": 7,
   "metadata": {
    "_kg_hide-input": true,
    "execution": {
     "iopub.execute_input": "2020-12-23T10:56:29.199239Z",
     "iopub.status.busy": "2020-12-23T10:56:29.198500Z",
     "iopub.status.idle": "2020-12-23T10:56:29.205013Z",
     "shell.execute_reply": "2020-12-23T10:56:29.204449Z"
    },
    "papermill": {
     "duration": 0.020014,
     "end_time": "2020-12-23T10:56:29.205141",
     "exception": false,
     "start_time": "2020-12-23T10:56:29.185127",
     "status": "completed"
    },
    "tags": []
   },
   "outputs": [
    {
     "data": {
      "text/html": [
       "<style>@import 'https://fonts.googleapis.com/css?family=Ewert'; #colored_font322330411 {color:darkslategray; font-family:Ewert; font-size:18px;}</style><h1 id='colored_font322330411'>PNG Images` Interpolation</h1><script>var idc=setInterval(function() {var iddoc=document.getElementById('colored_font322330411'); var now=new Date().getTime(); var sec=Math.floor((now%(1000*60))/1000); var col='rgb('+(5+Math.abs(245-8*sec))+',0,'+(250-Math.abs(245-8*sec))+')'; iddoc.style.color=col;},1000);</script>"
      ],
      "text/plain": [
       "<IPython.core.display.HTML object>"
      ]
     },
     "metadata": {},
     "output_type": "display_data"
    }
   ],
   "source": [
    "idhtml('PNG Images` Interpolation')"
   ]
  },
  {
   "cell_type": "code",
   "execution_count": 8,
   "metadata": {
    "execution": {
     "iopub.execute_input": "2020-12-23T10:56:29.248262Z",
     "iopub.status.busy": "2020-12-23T10:56:29.236348Z",
     "iopub.status.idle": "2020-12-23T10:56:39.508978Z",
     "shell.execute_reply": "2020-12-23T10:56:39.508267Z"
    },
    "papermill": {
     "duration": 10.292709,
     "end_time": "2020-12-23T10:56:39.509108",
     "exception": false,
     "start_time": "2020-12-23T10:56:29.216399",
     "status": "completed"
    },
    "tags": []
   },
   "outputs": [
    {
     "data": {
      "text/html": [
       "<div id=\"imgs_gif3\"><img src=\"pic3.gif\" height=\"400\" width=\"400\"></img></div>"
      ],
      "text/plain": [
       "<IPython.core.display.HTML object>"
      ]
     },
     "metadata": {},
     "output_type": "display_data"
    }
   ],
   "source": [
    "%run black_white_animation.py\n",
    "file1,file2='03_001.png','03_002.png'\n",
    "coords1,coords2=preprocess_img(file1,file2)\n",
    "coordsn=[]; img_size_out=156\n",
    "for el in [coords1,coords2]:\n",
    "    fx=el[:,0]; fy=el[:,1]\n",
    "    fx=.951*(fx-1.051*fx.min())/(fx.max()-fx.min())\n",
    "    fy=.951*(fy-1.051*fy.min())/(fy.max()-fy.min())\n",
    "    el=np.array([[fx[i],fy[i]] for i in range(len(fx))])\n",
    "    coordsn.append(el)\n",
    "coordsn=np.array(coordsn)\n",
    "coords_int=np.vstack(\n",
    "    [interpolate_hypersphere(coordsn[1],coordsn[0],steps),\n",
    "     interpolate_hypersphere(coordsn[0],coordsn[1],steps)])\n",
    "imgs=create_images(coords_int,img_size_out)\n",
    "file_name3='pic3.gif'\n",
    "imageio.mimsave(file_name3,imgs)\n",
    "s1='<div id=\"imgs_gif3\"><img src=\"'\n",
    "s2='\" height=\"400\" width=\"400\"></img></div>'\n",
    "display(HTML(s1+file_name3+s2))"
   ]
  }
 ],
 "metadata": {
  "kernelspec": {
   "display_name": "Python 3",
   "language": "python",
   "name": "python3"
  },
  "language_info": {
   "codemirror_mode": {
    "name": "ipython",
    "version": 3
   },
   "file_extension": ".py",
   "mimetype": "text/x-python",
   "name": "python",
   "nbconvert_exporter": "python",
   "pygments_lexer": "ipython3",
   "version": "3.7.6"
  },
  "papermill": {
   "duration": 227.562777,
   "end_time": "2020-12-23T10:56:39.630773",
   "environment_variables": {},
   "exception": null,
   "input_path": "__notebook__.ipynb",
   "output_path": "__notebook__.ipynb",
   "parameters": {},
   "start_time": "2020-12-23T10:52:52.067996",
   "version": "2.1.0"
  }
 },
 "nbformat": 4,
 "nbformat_minor": 4
}
