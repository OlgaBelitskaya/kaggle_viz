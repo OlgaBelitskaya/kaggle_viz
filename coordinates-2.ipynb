{
 "cells": [
  {
   "cell_type": "code",
   "execution_count": 1,
   "metadata": {
    "_kg_hide-input": true,
    "execution": {
     "iopub.execute_input": "2020-12-23T00:05:35.462771Z",
     "iopub.status.busy": "2020-12-23T00:05:35.462159Z",
     "iopub.status.idle": "2020-12-23T00:05:35.480854Z",
     "shell.execute_reply": "2020-12-23T00:05:35.480303Z"
    },
    "papermill": {
     "duration": 0.029612,
     "end_time": "2020-12-23T00:05:35.480998",
     "exception": false,
     "start_time": "2020-12-23T00:05:35.451386",
     "status": "completed"
    },
    "tags": []
   },
   "outputs": [
    {
     "data": {
      "text/html": [
       "<style>@import 'https://fonts.googleapis.com/css?family=Ewert'; #colored_font314233926 {color:darkslategray; font-family:Ewert; font-size:18px;}</style><h1 id='colored_font314233926'>Code Modules, Setting, & Functions</h1><script>var idc=setInterval(function() {var iddoc=document.getElementById('colored_font314233926'); var now=new Date().getTime(); var sec=Math.floor((now%(1000*60))/1000); var col='rgb('+(5+Math.abs(245-8*sec))+',0,'+(250-Math.abs(245-8*sec))+')'; iddoc.style.color=col;},1000);</script>"
      ],
      "text/plain": [
       "<IPython.core.display.HTML object>"
      ]
     },
     "metadata": {},
     "output_type": "display_data"
    }
   ],
   "source": [
    "%run ../input/python-recipes/cidhtml.py\n",
    "idhtml('Code Modules, Setting, & Functions')"
   ]
  },
  {
   "cell_type": "code",
   "execution_count": 2,
   "metadata": {
    "_cell_guid": "b1076dfc-b9ad-4769-8c92-a6c4dae69d19",
    "_kg_hide-input": true,
    "_uuid": "8f2839f25d086af736a60e9eeb907d3b93b6e0e5",
    "execution": {
     "iopub.execute_input": "2020-12-23T00:05:35.503763Z",
     "iopub.status.busy": "2020-12-23T00:05:35.502849Z",
     "iopub.status.idle": "2020-12-23T00:05:35.510835Z",
     "shell.execute_reply": "2020-12-23T00:05:35.509679Z"
    },
    "papermill": {
     "duration": 0.0239,
     "end_time": "2020-12-23T00:05:35.511040",
     "exception": false,
     "start_time": "2020-12-23T00:05:35.487140",
     "status": "completed"
    },
    "tags": []
   },
   "outputs": [
    {
     "name": "stdout",
     "output_type": "stream",
     "text": [
      "Writing black_white_animation.py\n"
     ]
    }
   ],
   "source": [
    "%%writefile black_white_animation.py\n",
    "import warnings; warnings.filterwarnings('ignore')\n",
    "import imageio,numpy as np,pandas as pd\n",
    "import os,h5py,seaborn as sn,pylab as pl\n",
    "from skimage.transform import resize\n",
    "from skimage import io\n",
    "from IPython.display import display,HTML\n",
    "\n",
    "def randcoord(img_size_out,img_size=1024):\n",
    "    a=(.5+.1**6*np.random.randint(1,999999))*\\\n",
    "      np.random.choice([-1,1],1)[0]\n",
    "    b=np.random.randint(3,10)\n",
    "    c=.1**3*np.random.randint(1,99)*\\\n",
    "      np.random.choice([-1,1],1)[0]\n",
    "    t=np.arange(0,12*np.pi,1/7200)\n",
    "    fx=np.sin(t/6)+a*np.sin(b*t)*np.cos(t)-\\\n",
    "       c*np.sin(16*b*t)\n",
    "    fy=np.cos(t/6)+a*np.sin(b*t)*np.sin(t)-\\\n",
    "       c*np.cos(16*b*t)\n",
    "    fx=.951*(fx-1.051*fx.min())/(fx.max()-fx.min())\n",
    "    fy=.951*(fy-1.051*fy.min())/(fy.max()-fy.min())\n",
    "    f=np.array([[fx[i],fy[i]] for i in range(len(t))])\n",
    "    return f,np.around(a,6),b,np.around(c,3)\n",
    "\n",
    "def interpolate_hypersphere(v1,v2,steps):\n",
    "    v1norm=np.linalg.norm(v1)\n",
    "    v2norm=np.linalg.norm(v2)\n",
    "    v2normalized=v2*(v1norm/v2norm)\n",
    "    vectors=[]\n",
    "    for step in range(steps):\n",
    "        interpolated=v1+(v2normalized-v1)*step/(steps-int(1))\n",
    "        interpolated_norm=np.linalg.norm(interpolated)\n",
    "        interpolated_normalized=\\\n",
    "        interpolated*(v1norm/interpolated_norm)\n",
    "        vectors.append(interpolated_normalized)\n",
    "    return np.array(vectors)\n",
    "\n",
    "def create_images(coords_int,img_size_out,img_size=1024):\n",
    "    imgs=[]\n",
    "    for i in range(coords_int.shape[0]):\n",
    "        fx=coords_int[i,:,0]; fy=coords_int[i,:,1]\n",
    "        fx=np.array(np.clip(fx*img_size,0,img_size-1),dtype='int32')\n",
    "        fy=np.array(np.clip(fy*img_size,0,img_size-1),dtype='int32')\n",
    "        f=np.array([[fx[i],fy[i]] for i in range(len(fx))])\n",
    "        img=np.ones((img_size,img_size))\n",
    "        for [x,y] in f: img[y,x]=0\n",
    "        img=resize(img,(img_size_out,img_size_out))\n",
    "        imgs.append(img)\n",
    "    return np.array(imgs)\n",
    "\n",
    "def preprocess_img(\n",
    "    file1,file2,\n",
    "    file_path='../input/image-examples-for-mixed-styles/'):\n",
    "    img1=io.imread(file_path+file1)\n",
    "    img2=io.imread(file_path+file2)\n",
    "    imgbw1=np.ones(img1.shape[:2])\n",
    "    imgbw1[img1[:,:,1]<int(200)]=0\n",
    "    imgbw2=np.ones(img2.shape[:2])\n",
    "    imgbw2[img2[:,:,1]<int(200)]=0\n",
    "    coords1=np.array(np.where(imgbw1<1)).T\n",
    "    coords2=np.array(np.where(imgbw2<1)).T\n",
    "    while not coords2.shape==coords1.shape:\n",
    "        randi=np.random.randint(\n",
    "            0,coords2.shape[0]-1,\n",
    "            coords2.shape[0]-coords1.shape[0])\n",
    "        coords2=np.delete(coords2,list(randi),axis=0)\n",
    "    return coords1,coords2\n",
    "\n",
    "def create_display_gif(img_size_out=256,steps=60):\n",
    "    sh=randcoord(img_size_out)[0].shape\n",
    "    coords=np.zeros((2,sh[0],sh[1]),dtype=np.float32)\n",
    "    labels=np.zeros((2,),dtype=np.int32)\n",
    "    targets=np.zeros((2,2),dtype=np.float32)\n",
    "    for i in range(2):\n",
    "        coord,a,b,c=randcoord(img_size_out)\n",
    "        coords[i,:,:]=coord\n",
    "        labels[i],targets[i,0],targets[i,1]=b-3,a,c\n",
    "    coords_int=np.vstack(\n",
    "        [interpolate_hypersphere(coords[1],coords[0],steps),\n",
    "         interpolate_hypersphere(coords[0],coords[1],steps)])\n",
    "    imgs=create_images(coords_int,img_size_out)\n",
    "    file_name='pic.gif'\n",
    "    imageio.mimsave(file_name,imgs)\n",
    "    s1='<div id=\"imgs_gif\"><img src=\"'\n",
    "    s2='\" height=\"400\" width=\"400\"></img></div>'\n",
    "    display(HTML(s1+file_name+s2))"
   ]
  },
  {
   "cell_type": "code",
   "execution_count": 3,
   "metadata": {
    "_kg_hide-input": true,
    "execution": {
     "iopub.execute_input": "2020-12-23T00:05:35.531571Z",
     "iopub.status.busy": "2020-12-23T00:05:35.530469Z",
     "iopub.status.idle": "2020-12-23T00:05:35.535692Z",
     "shell.execute_reply": "2020-12-23T00:05:35.534831Z"
    },
    "papermill": {
     "duration": 0.017103,
     "end_time": "2020-12-23T00:05:35.535822",
     "exception": false,
     "start_time": "2020-12-23T00:05:35.518719",
     "status": "completed"
    },
    "tags": []
   },
   "outputs": [
    {
     "data": {
      "text/html": [
       "<style>@import 'https://fonts.googleapis.com/css?family=Ewert'; #colored_font224931600 {color:darkslategray; font-family:Ewert; font-size:18px;}</style><h1 id='colored_font224931600'>Coordinates` Interpolation</h1><script>var idc=setInterval(function() {var iddoc=document.getElementById('colored_font224931600'); var now=new Date().getTime(); var sec=Math.floor((now%(1000*60))/1000); var col='rgb('+(5+Math.abs(245-8*sec))+',0,'+(250-Math.abs(245-8*sec))+')'; iddoc.style.color=col;},1000);</script>"
      ],
      "text/plain": [
       "<IPython.core.display.HTML object>"
      ]
     },
     "metadata": {},
     "output_type": "display_data"
    }
   ],
   "source": [
    "idhtml('Coordinates` Interpolation')"
   ]
  },
  {
   "cell_type": "code",
   "execution_count": 4,
   "metadata": {
    "_cell_guid": "79c7e3d0-c299-4dcb-8224-4455121ee9b0",
    "_uuid": "d629ff2d2480ee46fbb7e2d37f6b5fab8052498a",
    "execution": {
     "iopub.execute_input": "2020-12-23T00:05:35.562790Z",
     "iopub.status.busy": "2020-12-23T00:05:35.561287Z",
     "iopub.status.idle": "2020-12-23T00:07:57.607056Z",
     "shell.execute_reply": "2020-12-23T00:07:57.607577Z"
    },
    "papermill": {
     "duration": 142.061017,
     "end_time": "2020-12-23T00:07:57.607710",
     "exception": false,
     "start_time": "2020-12-23T00:05:35.546693",
     "status": "completed"
    },
    "tags": []
   },
   "outputs": [
    {
     "data": {
      "text/html": [
       "<div id=\"imgs_gif\"><img src=\"pic.gif\" height=\"400\" width=\"400\"></img></div>"
      ],
      "text/plain": [
       "<IPython.core.display.HTML object>"
      ]
     },
     "metadata": {},
     "output_type": "display_data"
    }
   ],
   "source": [
    "%run black_white_animation.py\n",
    "create_display_gif()"
   ]
  },
  {
   "cell_type": "code",
   "execution_count": 5,
   "metadata": {
    "execution": {
     "iopub.execute_input": "2020-12-23T00:07:57.638210Z",
     "iopub.status.busy": "2020-12-23T00:07:57.634683Z",
     "iopub.status.idle": "2020-12-23T00:08:08.898166Z",
     "shell.execute_reply": "2020-12-23T00:08:08.898767Z"
    },
    "papermill": {
     "duration": 11.284345,
     "end_time": "2020-12-23T00:08:08.899015",
     "exception": false,
     "start_time": "2020-12-23T00:07:57.614670",
     "status": "completed"
    },
    "tags": []
   },
   "outputs": [
    {
     "data": {
      "text/html": [
       "<div id=\"imgs_gif2\"><img src=\"pic2.gif\" height=\"400\" width=\"400\"></img></div>"
      ],
      "text/plain": [
       "<IPython.core.display.HTML object>"
      ]
     },
     "metadata": {},
     "output_type": "display_data"
    }
   ],
   "source": [
    "%run black_white_animation.py\n",
    "file1,file2='03_001.png','03_002.png'\n",
    "coords1,coords2=preprocess_img(file1,file2)\n",
    "coordsn=[]; steps=60\n",
    "for el in [coords1,coords2]:\n",
    "    fx=el[:,0]; fy=el[:,1]\n",
    "    fx=.951*(fx-1.051*fx.min())/(fx.max()-fx.min())\n",
    "    fy=.951*(fy-1.051*fy.min())/(fy.max()-fy.min())\n",
    "    el=np.array([[fx[i],fy[i]] for i in range(len(fx))])\n",
    "    coordsn.append(el)\n",
    "coordsn=np.array(coordsn); img_size_out=156\n",
    "coords_int=np.vstack(\n",
    "    [interpolate_hypersphere(coordsn[1],coordsn[0],steps),\n",
    "     interpolate_hypersphere(coordsn[0],coordsn[1],steps)])\n",
    "imgs=create_images(coords_int,img_size_out)\n",
    "file_name2='pic2.gif'\n",
    "imageio.mimsave(file_name2,imgs)\n",
    "s1='<div id=\"imgs_gif2\"><img src=\"'\n",
    "s2='\" height=\"400\" width=\"400\"></img></div>'\n",
    "display(HTML(s1+file_name2+s2))"
   ]
  }
 ],
 "metadata": {
  "kernelspec": {
   "display_name": "Python 3",
   "language": "python",
   "name": "python3"
  },
  "language_info": {
   "codemirror_mode": {
    "name": "ipython",
    "version": 3
   },
   "file_extension": ".py",
   "mimetype": "text/x-python",
   "name": "python",
   "nbconvert_exporter": "python",
   "pygments_lexer": "ipython3",
   "version": "3.7.6"
  },
  "papermill": {
   "duration": 158.287324,
   "end_time": "2020-12-23T00:08:09.019040",
   "environment_variables": {},
   "exception": null,
   "input_path": "__notebook__.ipynb",
   "output_path": "__notebook__.ipynb",
   "parameters": {},
   "start_time": "2020-12-23T00:05:30.731716",
   "version": "2.1.0"
  }
 },
 "nbformat": 4,
 "nbformat_minor": 4
}
