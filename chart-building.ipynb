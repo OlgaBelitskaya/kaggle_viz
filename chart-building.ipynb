{
 "cells": [
  {
   "cell_type": "code",
   "execution_count": 1,
   "metadata": {
    "_kg_hide-input": true,
    "execution": {
     "iopub.execute_input": "2020-12-31T20:25:10.319984Z",
     "iopub.status.busy": "2020-12-31T20:25:10.312250Z",
     "iopub.status.idle": "2020-12-31T20:25:10.325998Z",
     "shell.execute_reply": "2020-12-31T20:25:10.325276Z"
    },
    "papermill": {
     "duration": 0.024821,
     "end_time": "2020-12-31T20:25:10.326114",
     "exception": false,
     "start_time": "2020-12-31T20:25:10.301293",
     "status": "completed"
    },
    "tags": []
   },
   "outputs": [
    {
     "data": {
      "text/html": [
       "\n",
       "<style>\n",
       "    @import 'https://fonts.googleapis.com/css?family=Akronim';\n",
       "    #colored_header64714 {color:slategray; font-family:Akronim; \n",
       "                      text-shadow:4px 4px 4px #aaa; padding-left:20px;}\n",
       "</style>\n",
       "<script>\n",
       "var tc=setInterval(function() {\n",
       "    var doc1=document.getElementById('colored_header64714');\n",
       "    var now=new Date().getTime();\n",
       "    var sec=Math.floor((now%(1000*60))/1000);\n",
       "    var col='rgb('+(10+Math.abs(245-8*sec))+',0,'+(255-Math.abs(245-8*sec))+')';\n",
       "    doc1.style.color=col; },1000);\n",
       "</script>\n",
       "<h1 id='colored_header64714'>📑 Barh Charts from HTML Elements</h1>"
      ],
      "text/plain": [
       "<IPython.core.display.HTML object>"
      ]
     },
     "metadata": {},
     "output_type": "display_data"
    }
   ],
   "source": [
    "from IPython.display import display,HTML\n",
    "import random\n",
    "def colored_header(string):\n",
    "    randi=random.randint(1,99999)\n",
    "    display(HTML(\"\"\"\n",
    "<style>\n",
    "    @import 'https://fonts.googleapis.com/css?family=Akronim';\n",
    "    #colored_header\"\"\"+str(randi)+\\\n",
    "\"\"\" {color:slategray; font-family:Akronim; \n",
    "                      text-shadow:4px 4px 4px #aaa; padding-left:20px;}\n",
    "</style>\n",
    "<script>\n",
    "var tc=setInterval(function() {\n",
    "    var doc1=document.getElementById('colored_header\"\"\"+str(randi)+\\\n",
    "\"\"\"');\n",
    "    var now=new Date().getTime();\n",
    "    var sec=Math.floor((now%(1000*60))/1000);\n",
    "    var col='rgb('+(10+Math.abs(245-8*sec))+',0,'+(255-Math.abs(245-8*sec))+')';\n",
    "    doc1.style.color=col; },1000);\n",
    "</script>\n",
    "<h1 id='colored_header\"\"\"+str(randi)+\"\"\"'>📑 \"\"\"+string+\"\"\"</h1>\"\"\"))\n",
    "colored_header('Barh Charts from HTML Elements')"
   ]
  },
  {
   "cell_type": "code",
   "execution_count": 2,
   "metadata": {
    "_cell_guid": "b1076dfc-b9ad-4769-8c92-a6c4dae69d19",
    "_kg_hide-input": true,
    "_uuid": "8f2839f25d086af736a60e9eeb907d3b93b6e0e5",
    "execution": {
     "iopub.execute_input": "2020-12-31T20:25:10.350616Z",
     "iopub.status.busy": "2020-12-31T20:25:10.349815Z",
     "iopub.status.idle": "2020-12-31T20:25:10.354328Z",
     "shell.execute_reply": "2020-12-31T20:25:10.355051Z"
    },
    "papermill": {
     "duration": 0.021832,
     "end_time": "2020-12-31T20:25:10.355250",
     "exception": false,
     "start_time": "2020-12-31T20:25:10.333418",
     "status": "completed"
    },
    "tags": []
   },
   "outputs": [
    {
     "name": "stdout",
     "output_type": "stream",
     "text": [
      "Writing barh_chart.py\n"
     ]
    }
   ],
   "source": [
    "%%writefile barh_chart.py\n",
    "from IPython.display import display,HTML\n",
    "\n",
    "def barh_chart(data,chart_title,width,\n",
    "               font_size=16,\n",
    "               font_family='Wallpoet',\n",
    "               background_color='#ff355e'):\n",
    "    dmax=max(data)\n",
    "    html_str=\"\"\"<style>\n",
    "    @import 'https://fonts.googleapis.com/css?family=\"\"\"+\\\n",
    "    font_family+\\\n",
    "    \"\"\"'; .div_params {padding:5px; width:\"\"\"+\\\n",
    "    str(round(width/100*dmax))+\\\n",
    "    \"\"\"px; text-align:right; text-shadow:4px 4px 4px slategray; \n",
    "    color:lightgray; font-size:\"\"\"+\\\n",
    "    str(font_size)+\\\n",
    "    \"\"\"px; font-family:\"\"\"+\\\n",
    "    font_family+\\\n",
    "    \"\"\"; background:linear-gradient(180deg,lightgray 0%,silver 33%,\n",
    "    slategray 67%, darkslategray 100%);}\n",
    "    .div_params_in {background:\"\"\"+\\\n",
    "    background_color+\\\n",
    "    \"\"\"; padding:5px; margin:3px;}\n",
    "    #div_h2 {text-shadow:4px 4px 4px slategray; color:\"\"\"+\\\n",
    "    background_color+\"\"\"; font-family:\"\"\"+font_family+\\\n",
    "    \"\"\";}</style>\n",
    "    <div class='div_params'><h2 id='div_h2'>\"\"\"+\\\n",
    "    chart_title+\"\"\"</h2>\"\"\"\n",
    "    for i in range(len(data)):\n",
    "        html_str+=\"\"\"<div class='div_params_in' style='width:\"\"\"+\\\n",
    "                  str(.9*width/100*data[i])+\"\"\"px;'>\"\"\"+\\\n",
    "                  str(data[i])+\"\"\"</div>\"\"\"\n",
    "    html_str+=\"\"\"</div><br/>\"\"\"\n",
    "    display(HTML(html_str))"
   ]
  },
  {
   "cell_type": "code",
   "execution_count": 3,
   "metadata": {
    "_cell_guid": "79c7e3d0-c299-4dcb-8224-4455121ee9b0",
    "_uuid": "d629ff2d2480ee46fbb7e2d37f6b5fab8052498a",
    "execution": {
     "iopub.execute_input": "2020-12-31T20:25:10.374613Z",
     "iopub.status.busy": "2020-12-31T20:25:10.373911Z",
     "iopub.status.idle": "2020-12-31T20:25:10.384515Z",
     "shell.execute_reply": "2020-12-31T20:25:10.383784Z"
    },
    "papermill": {
     "duration": 0.02143,
     "end_time": "2020-12-31T20:25:10.384636",
     "exception": false,
     "start_time": "2020-12-31T20:25:10.363206",
     "status": "completed"
    },
    "tags": []
   },
   "outputs": [
    {
     "data": {
      "text/html": [
       "<style>\n",
       "    @import 'https://fonts.googleapis.com/css?family=Wallpoet'; .div_params {padding:5px; width:660px; text-align:right; text-shadow:4px 4px 4px slategray; \n",
       "    color:lightgray; font-size:16px; font-family:Wallpoet; background:linear-gradient(180deg,lightgray 0%,silver 33%,\n",
       "    slategray 67%, darkslategray 100%);}\n",
       "    .div_params_in {background:#ff355e; padding:5px; margin:3px;}\n",
       "    #div_h2 {text-shadow:4px 4px 4px slategray; color:#ff355e; font-family:Wallpoet;}</style>\n",
       "    <div class='div_params'><h2 id='div_h2'>Building Bar Charts</h2><div class='div_params_in' style='width:43.2px;'>4</div><div class='div_params_in' style='width:129.60000000000002px;'>12</div><div class='div_params_in' style='width:226.8px;'>21</div><div class='div_params_in' style='width:410.40000000000003px;'>38</div><div class='div_params_in' style='width:453.6px;'>42</div><div class='div_params_in' style='width:594.0px;'>55</div></div><br/>"
      ],
      "text/plain": [
       "<IPython.core.display.HTML object>"
      ]
     },
     "metadata": {},
     "output_type": "display_data"
    }
   ],
   "source": [
    "%run barh_chart.py\n",
    "width=1200; data=[4,12,21,38,42,55]\n",
    "chart_title='Building Bar Charts'\n",
    "barh_chart(data,chart_title,width)"
   ]
  },
  {
   "cell_type": "code",
   "execution_count": 4,
   "metadata": {
    "_kg_hide-input": true,
    "execution": {
     "iopub.execute_input": "2020-12-31T20:25:10.407357Z",
     "iopub.status.busy": "2020-12-31T20:25:10.406453Z",
     "iopub.status.idle": "2020-12-31T20:25:10.410685Z",
     "shell.execute_reply": "2020-12-31T20:25:10.411168Z"
    },
    "papermill": {
     "duration": 0.018726,
     "end_time": "2020-12-31T20:25:10.411318",
     "exception": false,
     "start_time": "2020-12-31T20:25:10.392592",
     "status": "completed"
    },
    "tags": []
   },
   "outputs": [
    {
     "data": {
      "text/html": [
       "\n",
       "<style>\n",
       "    @import 'https://fonts.googleapis.com/css?family=Akronim';\n",
       "    #colored_header15764 {color:slategray; font-family:Akronim; \n",
       "                      text-shadow:4px 4px 4px #aaa; padding-left:20px;}\n",
       "</style>\n",
       "<script>\n",
       "var tc=setInterval(function() {\n",
       "    var doc1=document.getElementById('colored_header15764');\n",
       "    var now=new Date().getTime();\n",
       "    var sec=Math.floor((now%(1000*60))/1000);\n",
       "    var col='rgb('+(10+Math.abs(245-8*sec))+',0,'+(255-Math.abs(245-8*sec))+')';\n",
       "    doc1.style.color=col; },1000);\n",
       "</script>\n",
       "<h1 id='colored_header15764'>📑 Barh Charts from D3 Elements</h1>"
      ],
      "text/plain": [
       "<IPython.core.display.HTML object>"
      ]
     },
     "metadata": {},
     "output_type": "display_data"
    }
   ],
   "source": [
    "colored_header('Barh Charts from D3 Elements')"
   ]
  },
  {
   "cell_type": "code",
   "execution_count": 5,
   "metadata": {
    "_kg_hide-input": true,
    "execution": {
     "iopub.execute_input": "2020-12-31T20:25:10.432757Z",
     "iopub.status.busy": "2020-12-31T20:25:10.431702Z",
     "iopub.status.idle": "2020-12-31T20:25:10.441711Z",
     "shell.execute_reply": "2020-12-31T20:25:10.440704Z"
    },
    "papermill": {
     "duration": 0.022125,
     "end_time": "2020-12-31T20:25:10.441845",
     "exception": false,
     "start_time": "2020-12-31T20:25:10.419720",
     "status": "completed"
    },
    "tags": []
   },
   "outputs": [
    {
     "name": "stdout",
     "output_type": "stream",
     "text": [
      "Writing d3barh_chart.py\n"
     ]
    }
   ],
   "source": [
    "%%writefile d3barh_chart.py\n",
    "from IPython.display import display,HTML\n",
    "import random\n",
    "\n",
    "def d3barh_chart(data,chart_title,width,height,\n",
    "                 color='silver',cmap='Sinebow',\n",
    "                 font_size=24,font_family='Wallpoet'):\n",
    "    html_str=\"\"\"\n",
    "<style>\n",
    "@import 'https://fonts.googleapis.com/css?family=\"\"\"+\\\n",
    "font_family+\"\"\"';\n",
    "#d3barchart_title {color:\"\"\"+color+\"\"\"; font-family:\"\"\"+\\\n",
    "font_family+\"\"\"; font-size:\"\"\"+str(font_size)+\"\"\"px;}\n",
    "#d3barchart {width:98%; height:95%;}\n",
    "</style>\n",
    "<script src='https://d3js.org/d3.v6.min.js'></script>\n",
    "<div id='d3barchart'><text id='d3barchart_title'></text></div>\n",
    "<script>\n",
    "var data=\"\"\"+str(data)+\"\"\";\n",
    "var tc=setInterval(function(){\n",
    "    var now=new Date().getTime();\n",
    "    var width=Math.min(window.screen.width,window.innerWidth);\n",
    "    var div=d3.select('#d3barchart');\n",
    "    div.select('#d3barchart_title')\n",
    "       .text('\"\"\"+chart_title+\"\"\"');\n",
    "    div.style('text-align','right')\n",
    "       .style('text-shadow','3px 3px 3px slategray')\n",
    "       .style('padding','5px')\n",
    "       .style('color',d3.interpolate\"\"\"+cmap+\"\"\"(now/1000000))\n",
    "       .style('background',d3.interpolate\"\"\"+cmap+\"\"\"(now/1000000));\n",
    "    var x=d3.scaleLinear().domain([0,d3.max(data)]).range([0,.9*width])\n",
    "    div.selectAll('div').data(data).join('div')\n",
    "       .style('background','\"\"\"+color+\"\"\"')\n",
    "       .style('padding','5px').style('margin','3px')\n",
    "       .style('width',d=>x(d)+'px')\n",
    "       .style('font-family','\"\"\"+font_family+\"\"\"')\n",
    "       .style('font-size','\"\"\"+str(font_size)+\"\"\"px')\n",
    "       .text(d=>d);},100);\n",
    "</script>\"\"\"\n",
    "    file='d3barh_chart'+str(random.uniform(0,9999999))+'.html'\n",
    "    with open(file,'w') as f:\n",
    "         f.write(html_str); f.close()\n",
    "    string=\"\"\"<div id='html_string2'><iframe src='\"\"\"+\\\n",
    "           file+\"\"\"' height=\"\"\"+str(height)+\\\n",
    "           \"\"\" width=\"\"\"+str(width)+\"\"\"></iframe></div>\"\"\"\n",
    "    display(HTML(string))"
   ]
  },
  {
   "cell_type": "code",
   "execution_count": 6,
   "metadata": {
    "execution": {
     "iopub.execute_input": "2020-12-31T20:25:10.469518Z",
     "iopub.status.busy": "2020-12-31T20:25:10.467744Z",
     "iopub.status.idle": "2020-12-31T20:25:10.475623Z",
     "shell.execute_reply": "2020-12-31T20:25:10.476151Z"
    },
    "papermill": {
     "duration": 0.025062,
     "end_time": "2020-12-31T20:25:10.476307",
     "exception": false,
     "start_time": "2020-12-31T20:25:10.451245",
     "status": "completed"
    },
    "tags": []
   },
   "outputs": [
    {
     "data": {
      "text/html": [
       "<div id='html_string2'><iframe src='d3barh_chart5071538.490358773.html' height=280 width=680></iframe></div>"
      ],
      "text/plain": [
       "<IPython.core.display.HTML object>"
      ]
     },
     "metadata": {},
     "output_type": "display_data"
    }
   ],
   "source": [
    "%run d3barh_chart.py\n",
    "width=680; height=280\n",
    "data=[4,12,21,38,42,55]\n",
    "chart_title='An Example of D3 Bar Charts'\n",
    "d3barh_chart(data,chart_title,width,height)"
   ]
  },
  {
   "cell_type": "code",
   "execution_count": 7,
   "metadata": {
    "execution": {
     "iopub.execute_input": "2020-12-31T20:25:10.501605Z",
     "iopub.status.busy": "2020-12-31T20:25:10.500623Z",
     "iopub.status.idle": "2020-12-31T20:25:10.507263Z",
     "shell.execute_reply": "2020-12-31T20:25:10.506458Z"
    },
    "papermill": {
     "duration": 0.021435,
     "end_time": "2020-12-31T20:25:10.507431",
     "exception": false,
     "start_time": "2020-12-31T20:25:10.485996",
     "status": "completed"
    },
    "tags": []
   },
   "outputs": [
    {
     "data": {
      "text/html": [
       "<div id='html_string2'><iframe src='d3barh_chart9045414.8955497.html' height=280 width=680></iframe></div>"
      ],
      "text/plain": [
       "<IPython.core.display.HTML object>"
      ]
     },
     "metadata": {},
     "output_type": "display_data"
    }
   ],
   "source": [
    "d3barh_chart(data,chart_title,width,height,\n",
    "             'white','Turbo',18,'Orbitron')"
   ]
  }
 ],
 "metadata": {
  "kernelspec": {
   "display_name": "Python 3",
   "language": "python",
   "name": "python3"
  },
  "language_info": {
   "codemirror_mode": {
    "name": "ipython",
    "version": 3
   },
   "file_extension": ".py",
   "mimetype": "text/x-python",
   "name": "python",
   "nbconvert_exporter": "python",
   "pygments_lexer": "ipython3",
   "version": "3.7.6"
  },
  "papermill": {
   "duration": 5.61669,
   "end_time": "2020-12-31T20:25:10.628005",
   "environment_variables": {},
   "exception": null,
   "input_path": "__notebook__.ipynb",
   "output_path": "__notebook__.ipynb",
   "parameters": {},
   "start_time": "2020-12-31T20:25:05.011315",
   "version": "2.1.0"
  }
 },
 "nbformat": 4,
 "nbformat_minor": 4
}
