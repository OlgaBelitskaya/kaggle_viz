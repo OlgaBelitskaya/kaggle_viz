{
 "cells": [
  {
   "cell_type": "code",
   "execution_count": 1,
   "metadata": {
    "_kg_hide-input": true,
    "execution": {
     "iopub.execute_input": "2020-12-31T03:54:24.648125Z",
     "iopub.status.busy": "2020-12-31T03:54:24.646943Z",
     "iopub.status.idle": "2020-12-31T03:54:24.651093Z",
     "shell.execute_reply": "2020-12-31T03:54:24.651638Z"
    },
    "papermill": {
     "duration": 0.020337,
     "end_time": "2020-12-31T03:54:24.651809",
     "exception": false,
     "start_time": "2020-12-31T03:54:24.631472",
     "status": "completed"
    },
    "tags": []
   },
   "outputs": [
    {
     "data": {
      "text/html": [
       "\n",
       "<style>\n",
       "    @import 'https://fonts.googleapis.com/css?family=Akronim';\n",
       "    #colored_header15865 {color:slategray; font-family:Akronim; \n",
       "                      text-shadow:4px 4px 4px #aaa; padding-left:20px;}\n",
       "</style>\n",
       "<script>\n",
       "var tc=setInterval(function() {\n",
       "    var doc1=document.getElementById('colored_header15865');\n",
       "    var now=new Date().getTime();\n",
       "    var sec=Math.floor((now%(1000*60))/1000);\n",
       "    var col='rgb('+(10+Math.abs(245-8*sec))+',0,'+(255-Math.abs(245-8*sec))+')';\n",
       "    doc1.style.color=col; },1000);\n",
       "</script>\n",
       "<h1 id='colored_header15865'>📑 Barh Charts from HTML Elements</h1>"
      ],
      "text/plain": [
       "<IPython.core.display.HTML object>"
      ]
     },
     "metadata": {},
     "output_type": "display_data"
    }
   ],
   "source": [
    "from IPython.display import display,HTML\n",
    "import random\n",
    "def colored_header(string):\n",
    "    randi=random.randint(1,99999)\n",
    "    display(HTML(\"\"\"\n",
    "<style>\n",
    "    @import 'https://fonts.googleapis.com/css?family=Akronim';\n",
    "    #colored_header\"\"\"+str(randi)+\\\n",
    "\"\"\" {color:slategray; font-family:Akronim; \n",
    "                      text-shadow:4px 4px 4px #aaa; padding-left:20px;}\n",
    "</style>\n",
    "<script>\n",
    "var tc=setInterval(function() {\n",
    "    var doc1=document.getElementById('colored_header\"\"\"+str(randi)+\\\n",
    "\"\"\"');\n",
    "    var now=new Date().getTime();\n",
    "    var sec=Math.floor((now%(1000*60))/1000);\n",
    "    var col='rgb('+(10+Math.abs(245-8*sec))+',0,'+(255-Math.abs(245-8*sec))+')';\n",
    "    doc1.style.color=col; },1000);\n",
    "</script>\n",
    "<h1 id='colored_header\"\"\"+str(randi)+\"\"\"'>📑 \"\"\"+string+\"\"\"</h1>\"\"\"))\n",
    "colored_header('Barh Charts from HTML Elements')"
   ]
  },
  {
   "cell_type": "code",
   "execution_count": 2,
   "metadata": {
    "_cell_guid": "b1076dfc-b9ad-4769-8c92-a6c4dae69d19",
    "_kg_hide-input": true,
    "_uuid": "8f2839f25d086af736a60e9eeb907d3b93b6e0e5",
    "execution": {
     "iopub.execute_input": "2020-12-31T03:54:24.668858Z",
     "iopub.status.busy": "2020-12-31T03:54:24.667710Z",
     "iopub.status.idle": "2020-12-31T03:54:24.672661Z",
     "shell.execute_reply": "2020-12-31T03:54:24.671974Z"
    },
    "papermill": {
     "duration": 0.016019,
     "end_time": "2020-12-31T03:54:24.672787",
     "exception": false,
     "start_time": "2020-12-31T03:54:24.656768",
     "status": "completed"
    },
    "tags": []
   },
   "outputs": [
    {
     "name": "stdout",
     "output_type": "stream",
     "text": [
      "Writing barh_chart.py\n"
     ]
    }
   ],
   "source": [
    "%%writefile barh_chart.py\n",
    "from IPython.display import display,HTML\n",
    "\n",
    "def barh_chart(data,chart_title,width,\n",
    "               font_size=20,\n",
    "               font_family='Wallpoet',\n",
    "               background_color='#ff355e'):\n",
    "    dmax=max(data)\n",
    "    html_str=\"\"\"<style>\n",
    "    @import 'https://fonts.googleapis.com/css?family=\"\"\"+\\\n",
    "    font_family+\\\n",
    "    \"\"\"'; .div_params {padding:5px; width:\"\"\"+\\\n",
    "    str(round(width/100*dmax*1.1))+\\\n",
    "    \"\"\"px; text-align:right; text-shadow:4px 4px 4px slategray; \n",
    "    color:lightgray; font-size:\"\"\"+\\\n",
    "    str(font_size)+\\\n",
    "    \"\"\"px; font-family:\"\"\"+\\\n",
    "    font_family+\\\n",
    "    \"\"\"; background:linear-gradient(180deg,lightgray 0%,silver 33%,\n",
    "    slategray 67%, darkslategray 100%);}\n",
    "    .div_params_in {background:\"\"\"+\\\n",
    "    background_color+\\\n",
    "    \"\"\"; padding:10px; margin:3px;}\n",
    "    #div_h2 {text-shadow:4px 4px 4px slategray; color:\"\"\"+\\\n",
    "    background_color+\"\"\"; font-family:\"\"\"+font_family+\\\n",
    "    \"\"\";}</style>\n",
    "    <div class='div_params'><h2 id='div_h2'>\"\"\"+\\\n",
    "    chart_title+\"\"\"</h2>\"\"\"\n",
    "    for i in range(len(data)):\n",
    "        html_str+=\"\"\"<div class='div_params_in' style='width:\"\"\"+\\\n",
    "                  str(width/100*data[i])+\"\"\"px;'>\"\"\"+\\\n",
    "                  str(data[i])+\"\"\"</div>\"\"\"\n",
    "    html_str+=\"\"\"</div><br/>\"\"\"\n",
    "    display(HTML(html_str))"
   ]
  },
  {
   "cell_type": "code",
   "execution_count": 3,
   "metadata": {
    "_cell_guid": "79c7e3d0-c299-4dcb-8224-4455121ee9b0",
    "_uuid": "d629ff2d2480ee46fbb7e2d37f6b5fab8052498a",
    "execution": {
     "iopub.execute_input": "2020-12-31T03:54:24.692328Z",
     "iopub.status.busy": "2020-12-31T03:54:24.691321Z",
     "iopub.status.idle": "2020-12-31T03:54:24.697104Z",
     "shell.execute_reply": "2020-12-31T03:54:24.696425Z"
    },
    "papermill": {
     "duration": 0.019653,
     "end_time": "2020-12-31T03:54:24.697216",
     "exception": false,
     "start_time": "2020-12-31T03:54:24.677563",
     "status": "completed"
    },
    "tags": []
   },
   "outputs": [
    {
     "data": {
      "text/html": [
       "<style>\n",
       "    @import 'https://fonts.googleapis.com/css?family=Wallpoet'; .div_params {padding:5px; width:666px; text-align:right; text-shadow:4px 4px 4px slategray; \n",
       "    color:lightgray; font-size:20px; font-family:Wallpoet; background:linear-gradient(180deg,lightgray 0%,silver 33%,\n",
       "    slategray 67%, darkslategray 100%);}\n",
       "    .div_params_in {background:#ff355e; padding:10px; margin:3px;}\n",
       "    #div_h2 {text-shadow:4px 4px 4px slategray; color:#ff355e; font-family:Wallpoet;}</style>\n",
       "    <div class='div_params'><h2 id='div_h2'>Building Bar Charts</h2><div class='div_params_in' style='width:44.0px;'>4</div><div class='div_params_in' style='width:132.0px;'>12</div><div class='div_params_in' style='width:231.0px;'>21</div><div class='div_params_in' style='width:418.0px;'>38</div><div class='div_params_in' style='width:462.0px;'>42</div><div class='div_params_in' style='width:605.0px;'>55</div></div><br/>"
      ],
      "text/plain": [
       "<IPython.core.display.HTML object>"
      ]
     },
     "metadata": {},
     "output_type": "display_data"
    }
   ],
   "source": [
    "%run barh_chart.py\n",
    "width=1100; data=[4,12,21,38,42,55]\n",
    "chart_title='Building Bar Charts'\n",
    "barh_chart(data,chart_title,width)"
   ]
  }
 ],
 "metadata": {
  "kernelspec": {
   "display_name": "Python 3",
   "language": "python",
   "name": "python3"
  },
  "language_info": {
   "codemirror_mode": {
    "name": "ipython",
    "version": 3
   },
   "file_extension": ".py",
   "mimetype": "text/x-python",
   "name": "python",
   "nbconvert_exporter": "python",
   "pygments_lexer": "ipython3",
   "version": "3.7.6"
  },
  "papermill": {
   "duration": 5.526934,
   "end_time": "2020-12-31T03:54:24.811001",
   "environment_variables": {},
   "exception": null,
   "input_path": "__notebook__.ipynb",
   "output_path": "__notebook__.ipynb",
   "parameters": {},
   "start_time": "2020-12-31T03:54:19.284067",
   "version": "2.1.0"
  }
 },
 "nbformat": 4,
 "nbformat_minor": 4
}
